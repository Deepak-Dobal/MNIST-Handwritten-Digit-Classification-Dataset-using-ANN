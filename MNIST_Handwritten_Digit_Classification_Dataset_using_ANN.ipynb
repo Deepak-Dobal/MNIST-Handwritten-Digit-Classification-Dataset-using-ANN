{
  "nbformat": 4,
  "nbformat_minor": 0,
  "metadata": {
    "colab": {
      "provenance": []
    },
    "kernelspec": {
      "name": "python3",
      "display_name": "Python 3"
    },
    "accelerator": "GPU",
    "gpuClass": "standard"
  },
  "cells": [
    {
      "cell_type": "markdown",
      "metadata": {
        "id": "JL8GMQz2R90b"
      },
      "source": [
        "##Problem Statement"
      ]
    },
    {
      "cell_type": "markdown",
      "metadata": {
        "id": "CI0fQw8zSEku"
      },
      "source": [
        "**MNIST (\"Modified National Institute of Standards and Technology\")** is the de facto “hello world” dataset of computer vision. Since its release in 1999, this classic dataset of handwritten images has served as the basis for benchmarking classification algorithms. As new machine learning techniques emerge, MNIST remains a reliable resource for researchers and learners alike.\n",
        "\n",
        "In this demo, your goal is to correctly identify digits from a dataset of thousands of handwritten images. "
      ]
    },
    {
      "cell_type": "markdown",
      "metadata": {
        "id": "HruLQ2fqS3f2"
      },
      "source": [
        "####**Tasks to be Performed**"
      ]
    },
    {
      "cell_type": "markdown",
      "metadata": {
        "id": "GtuEkgrQS7Rs"
      },
      "source": [
        "In this tutorial you will be performing the following tasks:\n",
        "- Prepare the dataset for the model\n",
        "- Install Tensorflow 2.x\n",
        "- Develop Single Layer Perceptron model for classifying the handwritten digits\n",
        "- Plot the change in accuracy per epochs\n",
        "- Evaluate the model on the testing data\n",
        "- Analyse the model summary\n",
        "- Add hidden layer to the model to make it Multi-Layer Perceptron\n",
        "- Add Dropout to prevent overfitting and check its effect on accuracy\n",
        "- Increasing the number of Hidden Layer neuron and check its effect on accuracy\n",
        "- Use different optimizers and check its effect on accuracy\n",
        "- Increase the hidden layers and check its effect on accuracy\n",
        "- Manipulate the batch_size and epochs and check its effect on accuracy\n",
        "- Answer: What parameters should be choosen to get best accuracy on classifying the handwritten digits?"
      ]
    },
    {
      "cell_type": "markdown",
      "metadata": {
        "id": "PwEj36wcbsXF"
      },
      "source": [
        "####**Dataset Description**"
      ]
    },
    {
      "cell_type": "markdown",
      "metadata": {
        "id": "bbg_FbbPU2fe"
      },
      "source": [
        "\n",
        "The **[MNIST Handwritten Digit Classification Dataset](http://yann.lecun.com/exdb/mnist/)** consists of 60,000 training images and 10,000 testing images of handwritten digits.\n",
        "\n",
        "Each image is 28 pixels in height and 28 pixels in width, for a total of 784 pixels in total. Each pixel has a single pixel-value associated with it, indicating the lightness or darkness of that pixel, with higher numbers meaning darker. This pixel-value is an integer between 0 and 255, inclusive.\n",
        "\n",
        "![alt text](https://i.imgur.com/Su00XUA.png)\n",
        "\n"
      ]
    },
    {
      "cell_type": "markdown",
      "metadata": {
        "id": "u5DMnZp1bxAU"
      },
      "source": [
        "####**Skills Gained**"
      ]
    },
    {
      "cell_type": "markdown",
      "metadata": {
        "id": "InSeMIvFScja"
      },
      "source": [
        "- TensorFlow 2.x\n",
        "- Single Layer Perceptron\n",
        "- Multi Layer Perceptron\n",
        "- Model Improvisation"
      ]
    },
    {
      "cell_type": "markdown",
      "metadata": {
        "id": "szLxFVyIytsv"
      },
      "source": [
        "# Solution: Classifying Handwritten digits using Tensorflow 2.x"
      ]
    },
    {
      "cell_type": "markdown",
      "metadata": {
        "id": "yZBPiGLXYGUM"
      },
      "source": [
        "##Installing TensorFlow 2.x"
      ]
    },
    {
      "cell_type": "code",
      "metadata": {
        "id": "qSt1IGYaYe_y",
        "colab": {
          "base_uri": "https://localhost:8080/"
        },
        "outputId": "84ef89c3-7684-4a86-ae94-a9c7893213d3"
      },
      "source": [
        "!pip install tensorflow"
      ],
      "execution_count": 1,
      "outputs": [
        {
          "output_type": "stream",
          "name": "stdout",
          "text": [
            "Looking in indexes: https://pypi.org/simple, https://us-python.pkg.dev/colab-wheels/public/simple/\n",
            "Requirement already satisfied: tensorflow in /usr/local/lib/python3.9/dist-packages (2.12.0)\n",
            "Requirement already satisfied: jax>=0.3.15 in /usr/local/lib/python3.9/dist-packages (from tensorflow) (0.3.25)\n",
            "Requirement already satisfied: flatbuffers>=2.0 in /usr/local/lib/python3.9/dist-packages (from tensorflow) (23.3.3)\n",
            "Requirement already satisfied: astunparse>=1.6.0 in /usr/local/lib/python3.9/dist-packages (from tensorflow) (1.6.3)\n",
            "Requirement already satisfied: grpcio<2.0,>=1.24.3 in /usr/local/lib/python3.9/dist-packages (from tensorflow) (1.53.0)\n",
            "Requirement already satisfied: opt-einsum>=2.3.2 in /usr/local/lib/python3.9/dist-packages (from tensorflow) (3.3.0)\n",
            "Requirement already satisfied: absl-py>=1.0.0 in /usr/local/lib/python3.9/dist-packages (from tensorflow) (1.4.0)\n",
            "Requirement already satisfied: tensorflow-estimator<2.13,>=2.12.0 in /usr/local/lib/python3.9/dist-packages (from tensorflow) (2.12.0)\n",
            "Requirement already satisfied: tensorflow-io-gcs-filesystem>=0.23.1 in /usr/local/lib/python3.9/dist-packages (from tensorflow) (0.32.0)\n",
            "Requirement already satisfied: packaging in /usr/local/lib/python3.9/dist-packages (from tensorflow) (23.0)\n",
            "Requirement already satisfied: six>=1.12.0 in /usr/local/lib/python3.9/dist-packages (from tensorflow) (1.16.0)\n",
            "Requirement already satisfied: libclang>=13.0.0 in /usr/local/lib/python3.9/dist-packages (from tensorflow) (16.0.0)\n",
            "Requirement already satisfied: tensorboard<2.13,>=2.12 in /usr/local/lib/python3.9/dist-packages (from tensorflow) (2.12.1)\n",
            "Requirement already satisfied: h5py>=2.9.0 in /usr/local/lib/python3.9/dist-packages (from tensorflow) (3.8.0)\n",
            "Requirement already satisfied: termcolor>=1.1.0 in /usr/local/lib/python3.9/dist-packages (from tensorflow) (2.2.0)\n",
            "Requirement already satisfied: typing-extensions>=3.6.6 in /usr/local/lib/python3.9/dist-packages (from tensorflow) (4.5.0)\n",
            "Requirement already satisfied: google-pasta>=0.1.1 in /usr/local/lib/python3.9/dist-packages (from tensorflow) (0.2.0)\n",
            "Collecting numpy<1.24,>=1.22\n",
            "  Downloading numpy-1.23.5-cp39-cp39-manylinux_2_17_x86_64.manylinux2014_x86_64.whl (17.1 MB)\n",
            "\u001b[2K     \u001b[90m━━━━━━━━━━━━━━━━━━━━━━━━━━━━━━━━━━━━━━━━\u001b[0m \u001b[32m17.1/17.1 MB\u001b[0m \u001b[31m62.1 MB/s\u001b[0m eta \u001b[36m0:00:00\u001b[0m\n",
            "\u001b[?25hRequirement already satisfied: wrapt<1.15,>=1.11.0 in /usr/local/lib/python3.9/dist-packages (from tensorflow) (1.14.1)\n",
            "Requirement already satisfied: keras<2.13,>=2.12.0 in /usr/local/lib/python3.9/dist-packages (from tensorflow) (2.12.0)\n",
            "Requirement already satisfied: setuptools in /usr/local/lib/python3.9/dist-packages (from tensorflow) (67.6.1)\n",
            "Requirement already satisfied: protobuf!=4.21.0,!=4.21.1,!=4.21.2,!=4.21.3,!=4.21.4,!=4.21.5,<5.0.0dev,>=3.20.3 in /usr/local/lib/python3.9/dist-packages (from tensorflow) (3.20.3)\n",
            "Requirement already satisfied: gast<=0.4.0,>=0.2.1 in /usr/local/lib/python3.9/dist-packages (from tensorflow) (0.4.0)\n",
            "Requirement already satisfied: wheel<1.0,>=0.23.0 in /usr/local/lib/python3.9/dist-packages (from astunparse>=1.6.0->tensorflow) (0.40.0)\n",
            "Requirement already satisfied: scipy>=1.5 in /usr/local/lib/python3.9/dist-packages (from jax>=0.3.15->tensorflow) (1.10.1)\n",
            "Requirement already satisfied: google-auth<3,>=1.6.3 in /usr/local/lib/python3.9/dist-packages (from tensorboard<2.13,>=2.12->tensorflow) (2.17.1)\n",
            "Requirement already satisfied: google-auth-oauthlib<1.1,>=0.5 in /usr/local/lib/python3.9/dist-packages (from tensorboard<2.13,>=2.12->tensorflow) (1.0.0)\n",
            "Requirement already satisfied: markdown>=2.6.8 in /usr/local/lib/python3.9/dist-packages (from tensorboard<2.13,>=2.12->tensorflow) (3.4.3)\n",
            "Requirement already satisfied: tensorboard-data-server<0.8.0,>=0.7.0 in /usr/local/lib/python3.9/dist-packages (from tensorboard<2.13,>=2.12->tensorflow) (0.7.0)\n",
            "Requirement already satisfied: tensorboard-plugin-wit>=1.6.0 in /usr/local/lib/python3.9/dist-packages (from tensorboard<2.13,>=2.12->tensorflow) (1.8.1)\n",
            "Requirement already satisfied: requests<3,>=2.21.0 in /usr/local/lib/python3.9/dist-packages (from tensorboard<2.13,>=2.12->tensorflow) (2.27.1)\n",
            "Requirement already satisfied: werkzeug>=1.0.1 in /usr/local/lib/python3.9/dist-packages (from tensorboard<2.13,>=2.12->tensorflow) (2.2.3)\n",
            "Requirement already satisfied: cachetools<6.0,>=2.0.0 in /usr/local/lib/python3.9/dist-packages (from google-auth<3,>=1.6.3->tensorboard<2.13,>=2.12->tensorflow) (5.3.0)\n",
            "Requirement already satisfied: pyasn1-modules>=0.2.1 in /usr/local/lib/python3.9/dist-packages (from google-auth<3,>=1.6.3->tensorboard<2.13,>=2.12->tensorflow) (0.2.8)\n",
            "Requirement already satisfied: rsa<5,>=3.1.4 in /usr/local/lib/python3.9/dist-packages (from google-auth<3,>=1.6.3->tensorboard<2.13,>=2.12->tensorflow) (4.9)\n",
            "Requirement already satisfied: requests-oauthlib>=0.7.0 in /usr/local/lib/python3.9/dist-packages (from google-auth-oauthlib<1.1,>=0.5->tensorboard<2.13,>=2.12->tensorflow) (1.3.1)\n",
            "Requirement already satisfied: importlib-metadata>=4.4 in /usr/local/lib/python3.9/dist-packages (from markdown>=2.6.8->tensorboard<2.13,>=2.12->tensorflow) (6.1.0)\n",
            "Requirement already satisfied: certifi>=2017.4.17 in /usr/local/lib/python3.9/dist-packages (from requests<3,>=2.21.0->tensorboard<2.13,>=2.12->tensorflow) (2022.12.7)\n",
            "Requirement already satisfied: urllib3<1.27,>=1.21.1 in /usr/local/lib/python3.9/dist-packages (from requests<3,>=2.21.0->tensorboard<2.13,>=2.12->tensorflow) (1.26.15)\n",
            "Requirement already satisfied: charset-normalizer~=2.0.0 in /usr/local/lib/python3.9/dist-packages (from requests<3,>=2.21.0->tensorboard<2.13,>=2.12->tensorflow) (2.0.12)\n",
            "Requirement already satisfied: idna<4,>=2.5 in /usr/local/lib/python3.9/dist-packages (from requests<3,>=2.21.0->tensorboard<2.13,>=2.12->tensorflow) (3.4)\n",
            "Requirement already satisfied: MarkupSafe>=2.1.1 in /usr/local/lib/python3.9/dist-packages (from werkzeug>=1.0.1->tensorboard<2.13,>=2.12->tensorflow) (2.1.2)\n",
            "Requirement already satisfied: zipp>=0.5 in /usr/local/lib/python3.9/dist-packages (from importlib-metadata>=4.4->markdown>=2.6.8->tensorboard<2.13,>=2.12->tensorflow) (3.15.0)\n",
            "Requirement already satisfied: pyasn1<0.5.0,>=0.4.6 in /usr/local/lib/python3.9/dist-packages (from pyasn1-modules>=0.2.1->google-auth<3,>=1.6.3->tensorboard<2.13,>=2.12->tensorflow) (0.4.8)\n",
            "Requirement already satisfied: oauthlib>=3.0.0 in /usr/local/lib/python3.9/dist-packages (from requests-oauthlib>=0.7.0->google-auth-oauthlib<1.1,>=0.5->tensorboard<2.13,>=2.12->tensorflow) (3.2.2)\n",
            "Installing collected packages: numpy\n",
            "  Attempting uninstall: numpy\n",
            "    Found existing installation: numpy 1.24.2\n",
            "    Uninstalling numpy-1.24.2:\n",
            "      Successfully uninstalled numpy-1.24.2\n",
            "\u001b[31mERROR: pip's dependency resolver does not currently take into account all the packages that are installed. This behaviour is the source of the following dependency conflicts.\n",
            "orbax 0.1.7 requires jax>=0.4.6, but you have jax 0.3.25 which is incompatible.\n",
            "flax 0.6.8 requires jax>=0.4.2, but you have jax 0.3.25 which is incompatible.\n",
            "chex 0.1.7 requires jax>=0.4.6, but you have jax 0.3.25 which is incompatible.\u001b[0m\u001b[31m\n",
            "\u001b[0mSuccessfully installed numpy-1.23.5\n"
          ]
        }
      ]
    },
    {
      "cell_type": "code",
      "metadata": {
        "id": "knttI4ECLnHE",
        "colab": {
          "base_uri": "https://localhost:8080/"
        },
        "outputId": "b912e723-59a0-4277-8a99-1e88c04276b6"
      },
      "source": [
        "#verify the installation\n",
        "import tensorflow as tf\n",
        "from tensorflow import keras \n",
        "\n",
        "#Check tf.keras version\n",
        "print(tf.keras.__version__)\n"
      ],
      "execution_count": 2,
      "outputs": [
        {
          "output_type": "stream",
          "name": "stdout",
          "text": [
            "2.12.0\n"
          ]
        }
      ]
    },
    {
      "cell_type": "markdown",
      "metadata": {
        "id": "RaTcM_Gk_jco"
      },
      "source": [
        "##Preparing the Data"
      ]
    },
    {
      "cell_type": "markdown",
      "metadata": {
        "id": "M0UnlNytbPmC"
      },
      "source": [
        "###Loading the Data"
      ]
    },
    {
      "cell_type": "markdown",
      "metadata": {
        "id": "peAAgeflZwcH"
      },
      "source": [
        "Load and prepare the [MNIST dataset](http://yann.lecun.com/exdb/mnist/) and convert the samples from integers to floating-point numbers and deal with categorical data:"
      ]
    },
    {
      "cell_type": "code",
      "metadata": {
        "id": "c8-PSPuqLn_K",
        "colab": {
          "base_uri": "https://localhost:8080/"
        },
        "outputId": "7363540e-322e-444e-83cd-6099151eeacd"
      },
      "source": [
        "# Loading MNIST dataset\n",
        "mnist = keras.datasets.mnist \n",
        "(X_train, Y_train), (X_test, Y_test) = mnist.load_data()"
      ],
      "execution_count": 3,
      "outputs": [
        {
          "output_type": "stream",
          "name": "stdout",
          "text": [
            "Downloading data from https://storage.googleapis.com/tensorflow/tf-keras-datasets/mnist.npz\n",
            "11490434/11490434 [==============================] - 0s 0us/step\n"
          ]
        }
      ]
    },
    {
      "cell_type": "code",
      "metadata": {
        "id": "t_v4WkSBLrJH",
        "colab": {
          "base_uri": "https://localhost:8080/"
        },
        "outputId": "9439e66b-4533-40b5-930e-6b4e300100d8"
      },
      "source": [
        "# Data Exploration\n",
        "print(X_train.shape)\n",
        "print(X_test.shape)"
      ],
      "execution_count": 4,
      "outputs": [
        {
          "output_type": "stream",
          "name": "stdout",
          "text": [
            "(60000, 28, 28)\n",
            "(10000, 28, 28)\n"
          ]
        }
      ]
    },
    {
      "cell_type": "code",
      "source": [
        "X_train[1]"
      ],
      "metadata": {
        "id": "shmtS5i-jppB"
      },
      "execution_count": null,
      "outputs": []
    },
    {
      "cell_type": "markdown",
      "metadata": {
        "id": "WQR_cGsYaWVD"
      },
      "source": [
        "###Data Preprocessing"
      ]
    },
    {
      "cell_type": "code",
      "metadata": {
        "id": "eH99QHr5Pyz0"
      },
      "source": [
        "X_train = X_train.astype('float32')\n",
        "X_test = X_test.astype('float32') "
      ],
      "execution_count": 7,
      "outputs": []
    },
    {
      "cell_type": "code",
      "source": [
        "X_train.shape"
      ],
      "metadata": {
        "colab": {
          "base_uri": "https://localhost:8080/"
        },
        "id": "xXeh9l0TjzT1",
        "outputId": "0d188188-ae39-4ca6-b5c2-8716aef874e7"
      },
      "execution_count": 8,
      "outputs": [
        {
          "output_type": "execute_result",
          "data": {
            "text/plain": [
              "(60000, 28, 28)"
            ]
          },
          "metadata": {},
          "execution_count": 8
        }
      ]
    },
    {
      "cell_type": "code",
      "metadata": {
        "id": "5uAo7yDtRhbG",
        "colab": {
          "base_uri": "https://localhost:8080/"
        },
        "outputId": "ab20e0c5-e552-4a71-9ce0-bfc7d9188f71"
      },
      "source": [
        "# X_train is 60000 rows of 28x28 values; we reshape it to # 60000 x 784. \n",
        "RESHAPED = 784 # 28x28 = 784 neurons\n",
        "X_train = X_train.reshape(60000, RESHAPED) \n",
        "X_test = X_test.reshape(10000, RESHAPED) \n",
        "\n",
        "# Data is converted into float32 to use 32-bit precision # when training a neural network \n",
        "X_train = X_train.astype('float32')\n",
        "X_test = X_test.astype('float32') \n",
        "\n",
        "# Normalizing the input to be within the range [0,1]\n",
        "X_train /= 255\n",
        "#intensity of each pixel is divided by 255, the maximum intensity value\n",
        "X_test /= 255\n",
        "print(X_train.shape[0], 'train samples') \n",
        "print(X_test.shape[0], 'test samples') \n",
        "\n",
        "# One-hot representation of the labels.\n",
        "Y_train = tf.keras.utils.to_categorical(Y_train, 10) \n",
        "Y_test = tf.keras.utils.to_categorical(Y_test, 10)\n"
      ],
      "execution_count": 9,
      "outputs": [
        {
          "output_type": "stream",
          "name": "stdout",
          "text": [
            "60000 train samples\n",
            "10000 test samples\n"
          ]
        }
      ]
    },
    {
      "cell_type": "markdown",
      "metadata": {
        "id": "8g6qsSi21x97"
      },
      "source": [
        "## Designing the Model"
      ]
    },
    {
      "cell_type": "markdown",
      "metadata": {
        "id": "ajqy56PT_pHr"
      },
      "source": [
        "###Preparing the Model 0: Single layer Perceptron"
      ]
    },
    {
      "cell_type": "markdown",
      "metadata": {
        "id": "wncYBuNkaCFf"
      },
      "source": [
        "Build the `Sequential` model with 0 hidden layers. Choose an optimizer and loss function for training:"
      ]
    },
    {
      "cell_type": "code",
      "metadata": {
        "id": "2Q5jFOQUM-c0"
      },
      "source": [
        "import tensorflow as tf\n",
        "from tensorflow.keras.layers import Dense\n",
        "from tensorflow.keras import Sequential\n",
        "model_0 = Sequential()\n",
        "# Now the model will take as input arrays of shape (*, 784)# and output arrays of shape (*, 10)\n",
        "model_0.add(Dense(10,input_shape=(784,),name='dense_layer', activation='softmax')) "
      ],
      "execution_count": 10,
      "outputs": []
    },
    {
      "cell_type": "code",
      "metadata": {
        "id": "ocCzyD2SWC9I"
      },
      "source": [
        "# Compiling the model.\n",
        "model_0.compile(optimizer='SGD', \n",
        "              loss='categorical_crossentropy',\n",
        "              metrics=['accuracy'])"
      ],
      "execution_count": 11,
      "outputs": []
    },
    {
      "cell_type": "code",
      "metadata": {
        "id": "fvAt9Atl-cnx",
        "colab": {
          "base_uri": "https://localhost:8080/"
        },
        "outputId": "45700dbd-ef9d-4c8f-8299-a163b4f9677c"
      },
      "source": [
        "# Training the model. \n",
        "training = model_0.fit(X_train, Y_train, batch_size=64, epochs=70, validation_split=0.2) "
      ],
      "execution_count": 12,
      "outputs": [
        {
          "output_type": "stream",
          "name": "stdout",
          "text": [
            "Epoch 1/70\n",
            "750/750 [==============================] - 3s 3ms/step - loss: 1.1032 - accuracy: 0.7399 - val_loss: 0.6599 - val_accuracy: 0.8559\n",
            "Epoch 2/70\n",
            "750/750 [==============================] - 2s 2ms/step - loss: 0.6107 - accuracy: 0.8541 - val_loss: 0.5105 - val_accuracy: 0.8780\n",
            "Epoch 3/70\n",
            "750/750 [==============================] - 2s 2ms/step - loss: 0.5142 - accuracy: 0.8691 - val_loss: 0.4521 - val_accuracy: 0.8853\n",
            "Epoch 4/70\n",
            "750/750 [==============================] - 3s 3ms/step - loss: 0.4677 - accuracy: 0.8776 - val_loss: 0.4193 - val_accuracy: 0.8913\n",
            "Epoch 5/70\n",
            "750/750 [==============================] - 3s 4ms/step - loss: 0.4389 - accuracy: 0.8836 - val_loss: 0.3982 - val_accuracy: 0.8957\n",
            "Epoch 6/70\n",
            "750/750 [==============================] - 2s 2ms/step - loss: 0.4189 - accuracy: 0.8868 - val_loss: 0.3830 - val_accuracy: 0.8980\n",
            "Epoch 7/70\n",
            "750/750 [==============================] - 2s 2ms/step - loss: 0.4041 - accuracy: 0.8903 - val_loss: 0.3714 - val_accuracy: 0.9003\n",
            "Epoch 8/70\n",
            "750/750 [==============================] - 2s 2ms/step - loss: 0.3924 - accuracy: 0.8928 - val_loss: 0.3624 - val_accuracy: 0.9020\n",
            "Epoch 9/70\n",
            "750/750 [==============================] - 2s 2ms/step - loss: 0.3829 - accuracy: 0.8947 - val_loss: 0.3550 - val_accuracy: 0.9039\n",
            "Epoch 10/70\n",
            "750/750 [==============================] - 2s 2ms/step - loss: 0.3750 - accuracy: 0.8968 - val_loss: 0.3488 - val_accuracy: 0.9048\n",
            "Epoch 11/70\n",
            "750/750 [==============================] - 2s 3ms/step - loss: 0.3682 - accuracy: 0.8985 - val_loss: 0.3433 - val_accuracy: 0.9066\n",
            "Epoch 12/70\n",
            "750/750 [==============================] - 3s 4ms/step - loss: 0.3623 - accuracy: 0.8995 - val_loss: 0.3387 - val_accuracy: 0.9069\n",
            "Epoch 13/70\n",
            "750/750 [==============================] - 2s 2ms/step - loss: 0.3573 - accuracy: 0.9004 - val_loss: 0.3346 - val_accuracy: 0.9085\n",
            "Epoch 14/70\n",
            "750/750 [==============================] - 2s 2ms/step - loss: 0.3527 - accuracy: 0.9016 - val_loss: 0.3312 - val_accuracy: 0.9094\n",
            "Epoch 15/70\n",
            "750/750 [==============================] - 2s 2ms/step - loss: 0.3486 - accuracy: 0.9025 - val_loss: 0.3279 - val_accuracy: 0.9112\n",
            "Epoch 16/70\n",
            "750/750 [==============================] - 2s 2ms/step - loss: 0.3449 - accuracy: 0.9037 - val_loss: 0.3252 - val_accuracy: 0.9109\n",
            "Epoch 17/70\n",
            "750/750 [==============================] - 2s 2ms/step - loss: 0.3415 - accuracy: 0.9045 - val_loss: 0.3226 - val_accuracy: 0.9118\n",
            "Epoch 18/70\n",
            "750/750 [==============================] - 2s 3ms/step - loss: 0.3385 - accuracy: 0.9052 - val_loss: 0.3202 - val_accuracy: 0.9123\n",
            "Epoch 19/70\n",
            "750/750 [==============================] - 3s 4ms/step - loss: 0.3357 - accuracy: 0.9060 - val_loss: 0.3177 - val_accuracy: 0.9137\n",
            "Epoch 20/70\n",
            "750/750 [==============================] - 2s 3ms/step - loss: 0.3331 - accuracy: 0.9072 - val_loss: 0.3157 - val_accuracy: 0.9135\n",
            "Epoch 21/70\n",
            "750/750 [==============================] - 2s 2ms/step - loss: 0.3307 - accuracy: 0.9074 - val_loss: 0.3139 - val_accuracy: 0.9143\n",
            "Epoch 22/70\n",
            "750/750 [==============================] - 2s 3ms/step - loss: 0.3284 - accuracy: 0.9084 - val_loss: 0.3122 - val_accuracy: 0.9143\n",
            "Epoch 23/70\n",
            "750/750 [==============================] - 2s 2ms/step - loss: 0.3263 - accuracy: 0.9085 - val_loss: 0.3106 - val_accuracy: 0.9147\n",
            "Epoch 24/70\n",
            "750/750 [==============================] - 2s 2ms/step - loss: 0.3244 - accuracy: 0.9095 - val_loss: 0.3089 - val_accuracy: 0.9153\n",
            "Epoch 25/70\n",
            "750/750 [==============================] - 3s 4ms/step - loss: 0.3224 - accuracy: 0.9100 - val_loss: 0.3077 - val_accuracy: 0.9153\n",
            "Epoch 26/70\n",
            "750/750 [==============================] - 3s 4ms/step - loss: 0.3207 - accuracy: 0.9104 - val_loss: 0.3064 - val_accuracy: 0.9159\n",
            "Epoch 27/70\n",
            "750/750 [==============================] - 2s 2ms/step - loss: 0.3191 - accuracy: 0.9110 - val_loss: 0.3050 - val_accuracy: 0.9165\n",
            "Epoch 28/70\n",
            "750/750 [==============================] - 2s 3ms/step - loss: 0.3175 - accuracy: 0.9112 - val_loss: 0.3038 - val_accuracy: 0.9156\n",
            "Epoch 29/70\n",
            "750/750 [==============================] - 2s 3ms/step - loss: 0.3161 - accuracy: 0.9119 - val_loss: 0.3026 - val_accuracy: 0.9162\n",
            "Epoch 30/70\n",
            "750/750 [==============================] - 2s 2ms/step - loss: 0.3146 - accuracy: 0.9120 - val_loss: 0.3015 - val_accuracy: 0.9167\n",
            "Epoch 31/70\n",
            "750/750 [==============================] - 2s 2ms/step - loss: 0.3133 - accuracy: 0.9130 - val_loss: 0.3005 - val_accuracy: 0.9173\n",
            "Epoch 32/70\n",
            "750/750 [==============================] - 3s 4ms/step - loss: 0.3120 - accuracy: 0.9130 - val_loss: 0.2998 - val_accuracy: 0.9162\n",
            "Epoch 33/70\n",
            "750/750 [==============================] - 3s 4ms/step - loss: 0.3109 - accuracy: 0.9133 - val_loss: 0.2988 - val_accuracy: 0.9174\n",
            "Epoch 34/70\n",
            "750/750 [==============================] - 2s 2ms/step - loss: 0.3097 - accuracy: 0.9135 - val_loss: 0.2979 - val_accuracy: 0.9174\n",
            "Epoch 35/70\n",
            "750/750 [==============================] - 2s 2ms/step - loss: 0.3085 - accuracy: 0.9137 - val_loss: 0.2971 - val_accuracy: 0.9179\n",
            "Epoch 36/70\n",
            "750/750 [==============================] - 2s 3ms/step - loss: 0.3075 - accuracy: 0.9146 - val_loss: 0.2963 - val_accuracy: 0.9185\n",
            "Epoch 37/70\n",
            "750/750 [==============================] - 2s 2ms/step - loss: 0.3065 - accuracy: 0.9146 - val_loss: 0.2954 - val_accuracy: 0.9181\n",
            "Epoch 38/70\n",
            "750/750 [==============================] - 2s 2ms/step - loss: 0.3055 - accuracy: 0.9153 - val_loss: 0.2947 - val_accuracy: 0.9185\n",
            "Epoch 39/70\n",
            "750/750 [==============================] - 3s 4ms/step - loss: 0.3045 - accuracy: 0.9152 - val_loss: 0.2942 - val_accuracy: 0.9188\n",
            "Epoch 40/70\n",
            "750/750 [==============================] - 3s 4ms/step - loss: 0.3036 - accuracy: 0.9154 - val_loss: 0.2934 - val_accuracy: 0.9185\n",
            "Epoch 41/70\n",
            "750/750 [==============================] - 2s 3ms/step - loss: 0.3027 - accuracy: 0.9157 - val_loss: 0.2927 - val_accuracy: 0.9190\n",
            "Epoch 42/70\n",
            "750/750 [==============================] - 2s 3ms/step - loss: 0.3019 - accuracy: 0.9160 - val_loss: 0.2921 - val_accuracy: 0.9188\n",
            "Epoch 43/70\n",
            "750/750 [==============================] - 2s 3ms/step - loss: 0.3010 - accuracy: 0.9165 - val_loss: 0.2915 - val_accuracy: 0.9191\n",
            "Epoch 44/70\n",
            "750/750 [==============================] - 2s 2ms/step - loss: 0.3002 - accuracy: 0.9162 - val_loss: 0.2911 - val_accuracy: 0.9193\n",
            "Epoch 45/70\n",
            "750/750 [==============================] - 2s 2ms/step - loss: 0.2995 - accuracy: 0.9170 - val_loss: 0.2907 - val_accuracy: 0.9189\n",
            "Epoch 46/70\n",
            "750/750 [==============================] - 3s 4ms/step - loss: 0.2987 - accuracy: 0.9168 - val_loss: 0.2900 - val_accuracy: 0.9195\n",
            "Epoch 47/70\n",
            "750/750 [==============================] - 3s 3ms/step - loss: 0.2980 - accuracy: 0.9170 - val_loss: 0.2894 - val_accuracy: 0.9194\n",
            "Epoch 48/70\n",
            "750/750 [==============================] - 2s 2ms/step - loss: 0.2973 - accuracy: 0.9175 - val_loss: 0.2891 - val_accuracy: 0.9194\n",
            "Epoch 49/70\n",
            "750/750 [==============================] - 2s 2ms/step - loss: 0.2967 - accuracy: 0.9172 - val_loss: 0.2884 - val_accuracy: 0.9198\n",
            "Epoch 50/70\n",
            "750/750 [==============================] - 2s 2ms/step - loss: 0.2960 - accuracy: 0.9174 - val_loss: 0.2879 - val_accuracy: 0.9199\n",
            "Epoch 51/70\n",
            "750/750 [==============================] - 2s 2ms/step - loss: 0.2953 - accuracy: 0.9176 - val_loss: 0.2874 - val_accuracy: 0.9201\n",
            "Epoch 52/70\n",
            "750/750 [==============================] - 2s 3ms/step - loss: 0.2947 - accuracy: 0.9176 - val_loss: 0.2871 - val_accuracy: 0.9196\n",
            "Epoch 53/70\n",
            "750/750 [==============================] - 3s 4ms/step - loss: 0.2941 - accuracy: 0.9177 - val_loss: 0.2866 - val_accuracy: 0.9202\n",
            "Epoch 54/70\n",
            "750/750 [==============================] - 3s 3ms/step - loss: 0.2936 - accuracy: 0.9183 - val_loss: 0.2863 - val_accuracy: 0.9207\n",
            "Epoch 55/70\n",
            "750/750 [==============================] - 2s 2ms/step - loss: 0.2929 - accuracy: 0.9179 - val_loss: 0.2861 - val_accuracy: 0.9206\n",
            "Epoch 56/70\n",
            "750/750 [==============================] - 2s 2ms/step - loss: 0.2924 - accuracy: 0.9186 - val_loss: 0.2855 - val_accuracy: 0.9210\n",
            "Epoch 57/70\n",
            "750/750 [==============================] - 2s 2ms/step - loss: 0.2918 - accuracy: 0.9185 - val_loss: 0.2851 - val_accuracy: 0.9204\n",
            "Epoch 58/70\n",
            "750/750 [==============================] - 2s 2ms/step - loss: 0.2913 - accuracy: 0.9181 - val_loss: 0.2848 - val_accuracy: 0.9206\n",
            "Epoch 59/70\n",
            "750/750 [==============================] - 2s 3ms/step - loss: 0.2908 - accuracy: 0.9188 - val_loss: 0.2847 - val_accuracy: 0.9207\n",
            "Epoch 60/70\n",
            "750/750 [==============================] - 3s 4ms/step - loss: 0.2903 - accuracy: 0.9187 - val_loss: 0.2839 - val_accuracy: 0.9211\n",
            "Epoch 61/70\n",
            "750/750 [==============================] - 3s 3ms/step - loss: 0.2898 - accuracy: 0.9193 - val_loss: 0.2837 - val_accuracy: 0.9210\n",
            "Epoch 62/70\n",
            "750/750 [==============================] - 2s 3ms/step - loss: 0.2894 - accuracy: 0.9191 - val_loss: 0.2834 - val_accuracy: 0.9211\n",
            "Epoch 63/70\n",
            "750/750 [==============================] - 4s 5ms/step - loss: 0.2889 - accuracy: 0.9191 - val_loss: 0.2832 - val_accuracy: 0.9203\n",
            "Epoch 64/70\n",
            "750/750 [==============================] - 3s 4ms/step - loss: 0.2884 - accuracy: 0.9193 - val_loss: 0.2828 - val_accuracy: 0.9212\n",
            "Epoch 65/70\n",
            "750/750 [==============================] - 2s 3ms/step - loss: 0.2880 - accuracy: 0.9195 - val_loss: 0.2823 - val_accuracy: 0.9210\n",
            "Epoch 66/70\n",
            "750/750 [==============================] - 3s 3ms/step - loss: 0.2875 - accuracy: 0.9196 - val_loss: 0.2820 - val_accuracy: 0.9213\n",
            "Epoch 67/70\n",
            "750/750 [==============================] - 2s 3ms/step - loss: 0.2871 - accuracy: 0.9198 - val_loss: 0.2818 - val_accuracy: 0.9208\n",
            "Epoch 68/70\n",
            "750/750 [==============================] - 2s 2ms/step - loss: 0.2866 - accuracy: 0.9197 - val_loss: 0.2817 - val_accuracy: 0.9214\n",
            "Epoch 69/70\n",
            "750/750 [==============================] - 2s 2ms/step - loss: 0.2863 - accuracy: 0.9204 - val_loss: 0.2813 - val_accuracy: 0.9215\n",
            "Epoch 70/70\n",
            "750/750 [==============================] - 2s 2ms/step - loss: 0.2858 - accuracy: 0.9201 - val_loss: 0.2812 - val_accuracy: 0.9216\n"
          ]
        }
      ]
    },
    {
      "cell_type": "code",
      "metadata": {
        "id": "hof2yoiDBCab",
        "colab": {
          "base_uri": "https://localhost:8080/",
          "height": 944
        },
        "outputId": "24babe1b-032c-463d-98e3-e4a87537b9ff"
      },
      "source": [
        "import matplotlib.pyplot as plt\n",
        "%matplotlib inline\n",
        "# list all data in training\n",
        "print(training.history.keys())\n",
        "# summarize training for accuracy\n",
        "plt.plot(training.history['accuracy'])\n",
        "plt.plot(training.history['val_accuracy'])\n",
        "plt.title('model accuracy')\n",
        "plt.ylabel('accuracy')\n",
        "plt.xlabel('epoch')\n",
        "plt.legend(['train', 'test'], loc='upper left')\n",
        "plt.show()\n",
        "# summarize traning for loss\n",
        "plt.plot(training.history['loss'])\n",
        "plt.plot(training.history['val_loss'])\n",
        "plt.title('model loss')\n",
        "plt.ylabel('loss')\n",
        "plt.xlabel('epoch')\n",
        "plt.legend(['train', 'test'], loc='upper left')\n",
        "plt.show()"
      ],
      "execution_count": 13,
      "outputs": [
        {
          "output_type": "stream",
          "name": "stdout",
          "text": [
            "dict_keys(['loss', 'accuracy', 'val_loss', 'val_accuracy'])\n"
          ]
        },
        {
          "output_type": "display_data",
          "data": {
            "text/plain": [
              "<Figure size 640x480 with 1 Axes>"
            ],
            "image/png": "[encoded data removed]"
          },
          "metadata": {}
        },
        {
          "output_type": "display_data",
          "data": {
            "text/plain": [
              "<Figure size 640x480 with 1 Axes>"
            ],
            "image/png": "[encoded data removed]"
          },
          "metadata": {}
        }
      ]
    },
    {
      "cell_type": "code",
      "metadata": {
        "id": "SzP_B7w7_1tj",
        "colab": {
          "base_uri": "https://localhost:8080/"
        },
        "outputId": "8e616159-cdad-4ced-8776-c3023c37f312"
      },
      "source": [
        "#evaluate the model\n",
        "test_loss, test_acc = model_0.evaluate(X_test, Y_test)\n",
        "print('Test accuracy:', test_acc)"
      ],
      "execution_count": 14,
      "outputs": [
        {
          "output_type": "stream",
          "name": "stdout",
          "text": [
            "313/313 [==============================] - 1s 2ms/step - loss: 0.2822 - accuracy: 0.9220\n",
            "Test accuracy: 0.921999990940094\n"
          ]
        }
      ]
    },
    {
      "cell_type": "code",
      "metadata": {
        "id": "ZrHaOTYTaukM",
        "colab": {
          "base_uri": "https://localhost:8080/"
        },
        "outputId": "e0c95a0d-b83f-45f5-c4a1-eb7efb5b4da5"
      },
      "source": [
        "model_0.summary"
      ],
      "execution_count": 15,
      "outputs": [
        {
          "output_type": "execute_result",
          "data": {
            "text/plain": [
              "<bound method Model.summary of <keras.engine.sequential.Sequential object at 0x7f4a6ae33d30>>"
            ]
          },
          "metadata": {},
          "execution_count": 15
        }
      ]
    },
    {
      "cell_type": "code",
      "metadata": {
        "id": "SsL3O8UfartE",
        "colab": {
          "base_uri": "https://localhost:8080/"
        },
        "outputId": "8a08355a-c307-425b-e611-ce4c97e5b17b"
      },
      "source": [
        "model_0.get_config()"
      ],
      "execution_count": 16,
      "outputs": [
        {
          "output_type": "execute_result",
          "data": {
            "text/plain": [
              "{'name': 'sequential',\n",
              " 'layers': [{'class_name': 'InputLayer',\n",
              "   'config': {'batch_input_shape': (None, 784),\n",
              "    'dtype': 'float32',\n",
              "    'sparse': False,\n",
              "    'ragged': False,\n",
              "    'name': 'dense_layer_input'}},\n",
              "  {'class_name': 'Dense',\n",
              "   'config': {'name': 'dense_layer',\n",
              "    'trainable': True,\n",
              "    'dtype': 'float32',\n",
              "    'batch_input_shape': (None, 784),\n",
              "    'units': 10,\n",
              "    'activation': 'softmax',\n",
              "    'use_bias': True,\n",
              "    'kernel_initializer': {'class_name': 'GlorotUniform',\n",
              "     'config': {'seed': None}},\n",
              "    'bias_initializer': {'class_name': 'Zeros', 'config': {}},\n",
              "    'kernel_regularizer': None,\n",
              "    'bias_regularizer': None,\n",
              "    'activity_regularizer': None,\n",
              "    'kernel_constraint': None,\n",
              "    'bias_constraint': None}}]}"
            ]
          },
          "metadata": {},
          "execution_count": 16
        }
      ]
    },
    {
      "cell_type": "code",
      "metadata": {
        "id": "VVkZL5uiAhJB"
      },
      "source": [
        "#Most common type of model is a stack of layers\n",
        "model_1 = tf.keras.Sequential()\n",
        "N_hidden = 64\n",
        "# Adds a densely-connected layer with 64 units to the model:\n",
        "model_1.add(Dense(N_hidden, name='dense_layer', input_shape=(784,), activation = 'relu'))\n",
        "# Now the model will take as input arrays of shape (*, 784)# and output arrays of shape (*, 64)\n",
        "\n",
        "# Adding another dense layer:\n",
        "model_1.add(Dense(N_hidden, name='dense_layer_2', activation='relu'))\n",
        "# After the first layer, you don't need to specify\n",
        "# the size of the input anymore:\n",
        "# Add an output layer with 10 output units (10 different classes):\n",
        "model_1.add(Dense(10, name='dense_layer_3', activation = 'softmax'))"
      ],
      "execution_count": 17,
      "outputs": []
    },
    {
      "cell_type": "code",
      "metadata": {
        "id": "MiYit8ATfCXw"
      },
      "source": [
        "# Compiling the model.\n",
        "model_1.compile(optimizer='SGD', \n",
        "              loss='categorical_crossentropy',\n",
        "              metrics=['accuracy'])"
      ],
      "execution_count": 18,
      "outputs": []
    },
    {
      "cell_type": "code",
      "metadata": {
        "id": "qeWrSoxzfCYE",
        "colab": {
          "base_uri": "https://localhost:8080/"
        },
        "outputId": "5ee38a9e-0734-4431-97e5-48472ca29f8a"
      },
      "source": [
        "# Training the model. \n",
        "training = model_1.fit(X_train, Y_train, batch_size=64, epochs=100, validation_split=0.2) "
      ],
      "execution_count": 19,
      "outputs": [
        {
          "output_type": "stream",
          "name": "stdout",
          "text": [
            "Epoch 1/100\n",
            "750/750 [==============================] - 10s 11ms/step - loss: 1.1962 - accuracy: 0.6803 - val_loss: 0.5208 - val_accuracy: 0.8676\n",
            "Epoch 2/100\n",
            "750/750 [==============================] - 3s 4ms/step - loss: 0.4514 - accuracy: 0.8762 - val_loss: 0.3649 - val_accuracy: 0.8972\n",
            "Epoch 3/100\n",
            "750/750 [==============================] - 3s 4ms/step - loss: 0.3583 - accuracy: 0.8990 - val_loss: 0.3176 - val_accuracy: 0.9104\n",
            "Epoch 4/100\n",
            "750/750 [==============================] - 3s 4ms/step - loss: 0.3167 - accuracy: 0.9098 - val_loss: 0.2872 - val_accuracy: 0.9172\n",
            "Epoch 5/100\n",
            "750/750 [==============================] - 4s 6ms/step - loss: 0.2888 - accuracy: 0.9174 - val_loss: 0.2653 - val_accuracy: 0.9249\n",
            "Epoch 6/100\n",
            "750/750 [==============================] - 4s 5ms/step - loss: 0.2671 - accuracy: 0.9234 - val_loss: 0.2496 - val_accuracy: 0.9280\n",
            "Epoch 7/100\n",
            "750/750 [==============================] - 3s 4ms/step - loss: 0.2498 - accuracy: 0.9293 - val_loss: 0.2345 - val_accuracy: 0.9344\n",
            "Epoch 8/100\n",
            "750/750 [==============================] - 3s 4ms/step - loss: 0.2354 - accuracy: 0.9330 - val_loss: 0.2221 - val_accuracy: 0.9377\n",
            "Epoch 9/100\n",
            "750/750 [==============================] - 4s 5ms/step - loss: 0.2225 - accuracy: 0.9371 - val_loss: 0.2147 - val_accuracy: 0.9390\n",
            "Epoch 10/100\n",
            "750/750 [==============================] - 4s 5ms/step - loss: 0.2114 - accuracy: 0.9394 - val_loss: 0.2067 - val_accuracy: 0.9408\n",
            "Epoch 11/100\n",
            "750/750 [==============================] - 3s 4ms/step - loss: 0.2013 - accuracy: 0.9428 - val_loss: 0.1976 - val_accuracy: 0.9441\n",
            "Epoch 12/100\n",
            "750/750 [==============================] - 3s 4ms/step - loss: 0.1921 - accuracy: 0.9447 - val_loss: 0.1882 - val_accuracy: 0.9467\n",
            "Epoch 13/100\n",
            "750/750 [==============================] - 4s 5ms/step - loss: 0.1839 - accuracy: 0.9469 - val_loss: 0.1837 - val_accuracy: 0.9482\n",
            "Epoch 14/100\n",
            "750/750 [==============================] - 4s 6ms/step - loss: 0.1764 - accuracy: 0.9489 - val_loss: 0.1782 - val_accuracy: 0.9499\n",
            "Epoch 15/100\n",
            "750/750 [==============================] - 3s 4ms/step - loss: 0.1694 - accuracy: 0.9508 - val_loss: 0.1729 - val_accuracy: 0.9511\n",
            "Epoch 16/100\n",
            "750/750 [==============================] - 3s 4ms/step - loss: 0.1630 - accuracy: 0.9526 - val_loss: 0.1664 - val_accuracy: 0.9536\n",
            "Epoch 17/100\n",
            "750/750 [==============================] - 3s 3ms/step - loss: 0.1567 - accuracy: 0.9538 - val_loss: 0.1639 - val_accuracy: 0.9535\n",
            "Epoch 18/100\n",
            "750/750 [==============================] - 3s 4ms/step - loss: 0.1517 - accuracy: 0.9558 - val_loss: 0.1595 - val_accuracy: 0.9545\n",
            "Epoch 19/100\n",
            "750/750 [==============================] - 4s 5ms/step - loss: 0.1461 - accuracy: 0.9574 - val_loss: 0.1578 - val_accuracy: 0.9552\n",
            "Epoch 20/100\n",
            "750/750 [==============================] - 3s 4ms/step - loss: 0.1414 - accuracy: 0.9586 - val_loss: 0.1515 - val_accuracy: 0.9572\n",
            "Epoch 21/100\n",
            "750/750 [==============================] - 3s 4ms/step - loss: 0.1369 - accuracy: 0.9601 - val_loss: 0.1484 - val_accuracy: 0.9581\n",
            "Epoch 22/100\n",
            "750/750 [==============================] - 3s 4ms/step - loss: 0.1324 - accuracy: 0.9613 - val_loss: 0.1466 - val_accuracy: 0.9578\n",
            "Epoch 23/100\n",
            "750/750 [==============================] - 4s 5ms/step - loss: 0.1285 - accuracy: 0.9628 - val_loss: 0.1429 - val_accuracy: 0.9597\n",
            "Epoch 24/100\n",
            "750/750 [==============================] - 3s 4ms/step - loss: 0.1247 - accuracy: 0.9641 - val_loss: 0.1406 - val_accuracy: 0.9592\n",
            "Epoch 25/100\n",
            "750/750 [==============================] - 3s 4ms/step - loss: 0.1211 - accuracy: 0.9648 - val_loss: 0.1376 - val_accuracy: 0.9603\n",
            "Epoch 26/100\n",
            "750/750 [==============================] - 3s 3ms/step - loss: 0.1178 - accuracy: 0.9654 - val_loss: 0.1363 - val_accuracy: 0.9621\n",
            "Epoch 27/100\n",
            "750/750 [==============================] - 3s 4ms/step - loss: 0.1143 - accuracy: 0.9669 - val_loss: 0.1355 - val_accuracy: 0.9613\n",
            "Epoch 28/100\n",
            "750/750 [==============================] - 4s 5ms/step - loss: 0.1111 - accuracy: 0.9682 - val_loss: 0.1326 - val_accuracy: 0.9613\n",
            "Epoch 29/100\n",
            "750/750 [==============================] - 2s 3ms/step - loss: 0.1084 - accuracy: 0.9688 - val_loss: 0.1310 - val_accuracy: 0.9626\n",
            "Epoch 30/100\n",
            "750/750 [==============================] - 3s 4ms/step - loss: 0.1054 - accuracy: 0.9697 - val_loss: 0.1291 - val_accuracy: 0.9629\n",
            "Epoch 31/100\n",
            "750/750 [==============================] - 3s 4ms/step - loss: 0.1026 - accuracy: 0.9704 - val_loss: 0.1289 - val_accuracy: 0.9635\n",
            "Epoch 32/100\n",
            "750/750 [==============================] - 4s 5ms/step - loss: 0.1001 - accuracy: 0.9707 - val_loss: 0.1282 - val_accuracy: 0.9638\n",
            "Epoch 33/100\n",
            "750/750 [==============================] - 4s 5ms/step - loss: 0.0974 - accuracy: 0.9721 - val_loss: 0.1253 - val_accuracy: 0.9638\n",
            "Epoch 34/100\n",
            "750/750 [==============================] - 3s 4ms/step - loss: 0.0953 - accuracy: 0.9722 - val_loss: 0.1242 - val_accuracy: 0.9642\n",
            "Epoch 35/100\n",
            "750/750 [==============================] - 3s 4ms/step - loss: 0.0931 - accuracy: 0.9734 - val_loss: 0.1243 - val_accuracy: 0.9638\n",
            "Epoch 36/100\n",
            "750/750 [==============================] - 3s 3ms/step - loss: 0.0908 - accuracy: 0.9740 - val_loss: 0.1224 - val_accuracy: 0.9643\n",
            "Epoch 37/100\n",
            "750/750 [==============================] - 4s 6ms/step - loss: 0.0889 - accuracy: 0.9749 - val_loss: 0.1208 - val_accuracy: 0.9660\n",
            "Epoch 38/100\n",
            "750/750 [==============================] - 3s 4ms/step - loss: 0.0867 - accuracy: 0.9753 - val_loss: 0.1190 - val_accuracy: 0.9661\n",
            "Epoch 39/100\n",
            "750/750 [==============================] - 3s 4ms/step - loss: 0.0846 - accuracy: 0.9760 - val_loss: 0.1201 - val_accuracy: 0.9651\n",
            "Epoch 40/100\n",
            "750/750 [==============================] - 3s 4ms/step - loss: 0.0828 - accuracy: 0.9768 - val_loss: 0.1174 - val_accuracy: 0.9665\n",
            "Epoch 41/100\n",
            "750/750 [==============================] - 4s 5ms/step - loss: 0.0808 - accuracy: 0.9769 - val_loss: 0.1189 - val_accuracy: 0.9665\n",
            "Epoch 42/100\n",
            "750/750 [==============================] - 4s 5ms/step - loss: 0.0791 - accuracy: 0.9779 - val_loss: 0.1167 - val_accuracy: 0.9657\n",
            "Epoch 43/100\n",
            "750/750 [==============================] - 3s 4ms/step - loss: 0.0775 - accuracy: 0.9784 - val_loss: 0.1155 - val_accuracy: 0.9665\n",
            "Epoch 44/100\n",
            "750/750 [==============================] - 3s 4ms/step - loss: 0.0760 - accuracy: 0.9792 - val_loss: 0.1170 - val_accuracy: 0.9656\n",
            "Epoch 45/100\n",
            "750/750 [==============================] - 3s 4ms/step - loss: 0.0744 - accuracy: 0.9790 - val_loss: 0.1148 - val_accuracy: 0.9680\n",
            "Epoch 46/100\n",
            "750/750 [==============================] - 4s 6ms/step - loss: 0.0727 - accuracy: 0.9798 - val_loss: 0.1142 - val_accuracy: 0.9673\n",
            "Epoch 47/100\n",
            "750/750 [==============================] - 3s 4ms/step - loss: 0.0712 - accuracy: 0.9805 - val_loss: 0.1124 - val_accuracy: 0.9674\n",
            "Epoch 48/100\n",
            "750/750 [==============================] - 3s 3ms/step - loss: 0.0699 - accuracy: 0.9804 - val_loss: 0.1127 - val_accuracy: 0.9676\n",
            "Epoch 49/100\n",
            "750/750 [==============================] - 3s 3ms/step - loss: 0.0681 - accuracy: 0.9811 - val_loss: 0.1134 - val_accuracy: 0.9667\n",
            "Epoch 50/100\n",
            "750/750 [==============================] - 3s 4ms/step - loss: 0.0669 - accuracy: 0.9814 - val_loss: 0.1122 - val_accuracy: 0.9671\n",
            "Epoch 51/100\n",
            "750/750 [==============================] - 4s 6ms/step - loss: 0.0657 - accuracy: 0.9819 - val_loss: 0.1109 - val_accuracy: 0.9668\n",
            "Epoch 52/100\n",
            "750/750 [==============================] - 3s 4ms/step - loss: 0.0641 - accuracy: 0.9822 - val_loss: 0.1108 - val_accuracy: 0.9676\n",
            "Epoch 53/100\n",
            "750/750 [==============================] - 3s 4ms/step - loss: 0.0629 - accuracy: 0.9827 - val_loss: 0.1106 - val_accuracy: 0.9682\n",
            "Epoch 54/100\n",
            "750/750 [==============================] - 3s 4ms/step - loss: 0.0618 - accuracy: 0.9836 - val_loss: 0.1094 - val_accuracy: 0.9683\n",
            "Epoch 55/100\n",
            "750/750 [==============================] - 4s 5ms/step - loss: 0.0607 - accuracy: 0.9835 - val_loss: 0.1101 - val_accuracy: 0.9671\n",
            "Epoch 56/100\n",
            "750/750 [==============================] - 4s 5ms/step - loss: 0.0592 - accuracy: 0.9838 - val_loss: 0.1098 - val_accuracy: 0.9685\n",
            "Epoch 57/100\n",
            "750/750 [==============================] - 3s 4ms/step - loss: 0.0583 - accuracy: 0.9843 - val_loss: 0.1085 - val_accuracy: 0.9688\n",
            "Epoch 58/100\n",
            "750/750 [==============================] - 3s 4ms/step - loss: 0.0571 - accuracy: 0.9845 - val_loss: 0.1097 - val_accuracy: 0.9695\n",
            "Epoch 59/100\n",
            "750/750 [==============================] - 3s 4ms/step - loss: 0.0560 - accuracy: 0.9850 - val_loss: 0.1090 - val_accuracy: 0.9688\n",
            "Epoch 60/100\n",
            "750/750 [==============================] - 4s 5ms/step - loss: 0.0550 - accuracy: 0.9852 - val_loss: 0.1094 - val_accuracy: 0.9668\n",
            "Epoch 61/100\n",
            "750/750 [==============================] - 3s 4ms/step - loss: 0.0537 - accuracy: 0.9857 - val_loss: 0.1109 - val_accuracy: 0.9685\n",
            "Epoch 62/100\n",
            "750/750 [==============================] - 3s 4ms/step - loss: 0.0529 - accuracy: 0.9858 - val_loss: 0.1069 - val_accuracy: 0.9696\n",
            "Epoch 63/100\n",
            "750/750 [==============================] - 3s 3ms/step - loss: 0.0519 - accuracy: 0.9862 - val_loss: 0.1080 - val_accuracy: 0.9699\n",
            "Epoch 64/100\n",
            "750/750 [==============================] - 3s 4ms/step - loss: 0.0510 - accuracy: 0.9860 - val_loss: 0.1075 - val_accuracy: 0.9694\n",
            "Epoch 65/100\n",
            "750/750 [==============================] - 4s 6ms/step - loss: 0.0499 - accuracy: 0.9870 - val_loss: 0.1091 - val_accuracy: 0.9682\n",
            "Epoch 66/100\n",
            "750/750 [==============================] - 3s 3ms/step - loss: 0.0489 - accuracy: 0.9868 - val_loss: 0.1077 - val_accuracy: 0.9690\n",
            "Epoch 67/100\n",
            "750/750 [==============================] - 3s 4ms/step - loss: 0.0481 - accuracy: 0.9871 - val_loss: 0.1072 - val_accuracy: 0.9689\n",
            "Epoch 68/100\n",
            "750/750 [==============================] - 3s 3ms/step - loss: 0.0473 - accuracy: 0.9876 - val_loss: 0.1063 - val_accuracy: 0.9704\n",
            "Epoch 69/100\n",
            "750/750 [==============================] - 3s 4ms/step - loss: 0.0464 - accuracy: 0.9880 - val_loss: 0.1081 - val_accuracy: 0.9695\n",
            "Epoch 70/100\n",
            "750/750 [==============================] - 4s 5ms/step - loss: 0.0456 - accuracy: 0.9881 - val_loss: 0.1086 - val_accuracy: 0.9683\n",
            "Epoch 71/100\n",
            "750/750 [==============================] - 3s 4ms/step - loss: 0.0447 - accuracy: 0.9884 - val_loss: 0.1092 - val_accuracy: 0.9698\n",
            "Epoch 72/100\n",
            "750/750 [==============================] - 3s 4ms/step - loss: 0.0438 - accuracy: 0.9887 - val_loss: 0.1063 - val_accuracy: 0.9700\n",
            "Epoch 73/100\n",
            "750/750 [==============================] - 3s 4ms/step - loss: 0.0431 - accuracy: 0.9889 - val_loss: 0.1081 - val_accuracy: 0.9693\n",
            "Epoch 74/100\n",
            "750/750 [==============================] - 4s 5ms/step - loss: 0.0424 - accuracy: 0.9892 - val_loss: 0.1061 - val_accuracy: 0.9713\n",
            "Epoch 75/100\n",
            "750/750 [==============================] - 4s 5ms/step - loss: 0.0415 - accuracy: 0.9897 - val_loss: 0.1062 - val_accuracy: 0.9707\n",
            "Epoch 76/100\n",
            "750/750 [==============================] - 3s 5ms/step - loss: 0.0408 - accuracy: 0.9897 - val_loss: 0.1074 - val_accuracy: 0.9706\n",
            "Epoch 77/100\n",
            "750/750 [==============================] - 3s 4ms/step - loss: 0.0399 - accuracy: 0.9902 - val_loss: 0.1067 - val_accuracy: 0.9704\n",
            "Epoch 78/100\n",
            "750/750 [==============================] - 4s 5ms/step - loss: 0.0392 - accuracy: 0.9900 - val_loss: 0.1081 - val_accuracy: 0.9708\n",
            "Epoch 79/100\n",
            "750/750 [==============================] - 4s 5ms/step - loss: 0.0385 - accuracy: 0.9905 - val_loss: 0.1062 - val_accuracy: 0.9697\n",
            "Epoch 80/100\n",
            "750/750 [==============================] - 3s 4ms/step - loss: 0.0379 - accuracy: 0.9909 - val_loss: 0.1072 - val_accuracy: 0.9702\n",
            "Epoch 81/100\n",
            "750/750 [==============================] - 3s 4ms/step - loss: 0.0372 - accuracy: 0.9907 - val_loss: 0.1058 - val_accuracy: 0.9707\n",
            "Epoch 82/100\n",
            "750/750 [==============================] - 3s 4ms/step - loss: 0.0366 - accuracy: 0.9911 - val_loss: 0.1063 - val_accuracy: 0.9712\n",
            "Epoch 83/100\n",
            "750/750 [==============================] - 4s 5ms/step - loss: 0.0360 - accuracy: 0.9917 - val_loss: 0.1059 - val_accuracy: 0.9704\n",
            "Epoch 84/100\n",
            "750/750 [==============================] - 3s 4ms/step - loss: 0.0352 - accuracy: 0.9915 - val_loss: 0.1087 - val_accuracy: 0.9698\n",
            "Epoch 85/100\n",
            "750/750 [==============================] - 3s 4ms/step - loss: 0.0348 - accuracy: 0.9918 - val_loss: 0.1063 - val_accuracy: 0.9712\n",
            "Epoch 86/100\n",
            "750/750 [==============================] - 3s 4ms/step - loss: 0.0339 - accuracy: 0.9919 - val_loss: 0.1067 - val_accuracy: 0.9705\n",
            "Epoch 87/100\n",
            "750/750 [==============================] - 4s 5ms/step - loss: 0.0334 - accuracy: 0.9923 - val_loss: 0.1071 - val_accuracy: 0.9714\n",
            "Epoch 88/100\n",
            "750/750 [==============================] - 4s 5ms/step - loss: 0.0328 - accuracy: 0.9922 - val_loss: 0.1073 - val_accuracy: 0.9705\n",
            "Epoch 89/100\n",
            "750/750 [==============================] - 3s 4ms/step - loss: 0.0322 - accuracy: 0.9926 - val_loss: 0.1064 - val_accuracy: 0.9709\n",
            "Epoch 90/100\n",
            "750/750 [==============================] - 3s 4ms/step - loss: 0.0316 - accuracy: 0.9929 - val_loss: 0.1067 - val_accuracy: 0.9713\n",
            "Epoch 91/100\n",
            "750/750 [==============================] - 3s 4ms/step - loss: 0.0311 - accuracy: 0.9929 - val_loss: 0.1066 - val_accuracy: 0.9706\n",
            "Epoch 92/100\n",
            "750/750 [==============================] - 4s 5ms/step - loss: 0.0306 - accuracy: 0.9929 - val_loss: 0.1067 - val_accuracy: 0.9706\n",
            "Epoch 93/100\n",
            "750/750 [==============================] - 3s 5ms/step - loss: 0.0299 - accuracy: 0.9935 - val_loss: 0.1077 - val_accuracy: 0.9707\n",
            "Epoch 94/100\n",
            "750/750 [==============================] - 3s 4ms/step - loss: 0.0294 - accuracy: 0.9938 - val_loss: 0.1076 - val_accuracy: 0.9702\n",
            "Epoch 95/100\n",
            "750/750 [==============================] - 3s 4ms/step - loss: 0.0290 - accuracy: 0.9936 - val_loss: 0.1079 - val_accuracy: 0.9709\n",
            "Epoch 96/100\n",
            "750/750 [==============================] - 3s 4ms/step - loss: 0.0285 - accuracy: 0.9938 - val_loss: 0.1074 - val_accuracy: 0.9704\n",
            "Epoch 97/100\n",
            "750/750 [==============================] - 4s 6ms/step - loss: 0.0279 - accuracy: 0.9942 - val_loss: 0.1079 - val_accuracy: 0.9707\n",
            "Epoch 98/100\n",
            "750/750 [==============================] - 3s 4ms/step - loss: 0.0275 - accuracy: 0.9942 - val_loss: 0.1085 - val_accuracy: 0.9696\n",
            "Epoch 99/100\n",
            "750/750 [==============================] - 3s 3ms/step - loss: 0.0269 - accuracy: 0.9944 - val_loss: 0.1090 - val_accuracy: 0.9712\n",
            "Epoch 100/100\n",
            "750/750 [==============================] - 3s 4ms/step - loss: 0.0266 - accuracy: 0.9944 - val_loss: 0.1093 - val_accuracy: 0.9713\n"
          ]
        }
      ]
    },
    {
      "cell_type": "code",
      "metadata": {
        "id": "0W6J4tagfCYR",
        "colab": {
          "base_uri": "https://localhost:8080/",
          "height": 944
        },
        "outputId": "e45e5345-6f66-4cf9-9f55-1f431b19bf74"
      },
      "source": [
        "import matplotlib.pyplot as plt\n",
        "%matplotlib inline\n",
        "# list all data in training\n",
        "print(training.history.keys())\n",
        "# summarize training for accuracy\n",
        "plt.plot(training.history['accuracy'])\n",
        "plt.plot(training.history['val_accuracy'])\n",
        "plt.title('model accuracy')\n",
        "plt.ylabel('accuracy')\n",
        "plt.xlabel('epoch')\n",
        "plt.legend(['train', 'test'], loc='upper left')\n",
        "plt.show()\n",
        "# summarize traning for loss\n",
        "plt.plot(training.history['loss'])\n",
        "plt.plot(training.history['val_loss'])\n",
        "plt.title('model loss')\n",
        "plt.ylabel('loss')\n",
        "plt.xlabel('epoch')\n",
        "plt.legend(['train', 'test'], loc='upper left')\n",
        "plt.show()"
      ],
      "execution_count": 20,
      "outputs": [
        {
          "output_type": "stream",
          "name": "stdout",
          "text": [
            "dict_keys(['loss', 'accuracy', 'val_loss', 'val_accuracy'])\n"
          ]
        },
        {
          "output_type": "display_data",
          "data": {
            "text/plain": [
              "<Figure size 640x480 with 1 Axes>"
            ],
            "image/png": "[encoded data removed]"
          },
          "metadata": {}
        },
        {
          "output_type": "display_data",
          "data": {
            "text/plain": [
              "<Figure size 640x480 with 1 Axes>"
            ],
            "image/png": "[encoded data removed]"
          },
          "metadata": {}
        }
      ]
    },
    {
      "cell_type": "code",
      "metadata": {
        "id": "LG8UWh68fCYe",
        "colab": {
          "base_uri": "https://localhost:8080/"
        },
        "outputId": "6b77bce4-29d3-45a6-b90f-d52d378c822b"
      },
      "source": [
        "#evaluate the model\n",
        "test_loss, test_acc = model_1.evaluate(X_test, Y_test)\n",
        "print('Test accuracy:', test_acc)"
      ],
      "execution_count": 21,
      "outputs": [
        {
          "output_type": "stream",
          "name": "stdout",
          "text": [
            "313/313 [==============================] - 1s 2ms/step - loss: 0.0945 - accuracy: 0.9728\n",
            "Test accuracy: 0.9728000164031982\n"
          ]
        }
      ]
    },
    {
      "cell_type": "code",
      "metadata": {
        "id": "iE5uSPRvfCYq",
        "colab": {
          "base_uri": "https://localhost:8080/"
        },
        "outputId": "5dca76df-34fd-4805-bbdd-0ced817e7bde"
      },
      "source": [
        "model_1.summary"
      ],
      "execution_count": 22,
      "outputs": [
        {
          "output_type": "execute_result",
          "data": {
            "text/plain": [
              "<bound method Model.summary of <keras.engine.sequential.Sequential object at 0x7f4a5c308c70>>"
            ]
          },
          "metadata": {},
          "execution_count": 22
        }
      ]
    },
    {
      "cell_type": "code",
      "metadata": {
        "id": "p3TehZJnAlD6",
        "colab": {
          "base_uri": "https://localhost:8080/"
        },
        "outputId": "d60ca416-b743-4148-b050-51cd1549f945"
      },
      "source": [
        "model_1.weights"
      ],
      "execution_count": 23,
      "outputs": [
        {
          "output_type": "execute_result",
          "data": {
            "text/plain": [
              "[<tf.Variable 'dense_layer/kernel:0' shape=(784, 64) dtype=float32, numpy=\n",
              " array([[-0.00906949,  0.08004328,  0.00011377, ...,  0.02052263,\n",
              "          0.07417839,  0.05551321],\n",
              "        [-0.02560977,  0.01824213, -0.01494382, ...,  0.0670056 ,\n",
              "         -0.05787305,  0.00414524],\n",
              "        [-0.06539962, -0.04644957, -0.07385226, ..., -0.05945513,\n",
              "         -0.00115421, -0.00583109],\n",
              "        ...,\n",
              "        [-0.05532788,  0.07573933, -0.02704609, ..., -0.03957966,\n",
              "          0.06349336,  0.06894311],\n",
              "        [ 0.07966606, -0.05406792, -0.00500784, ...,  0.05002557,\n",
              "         -0.04131994, -0.01824971],\n",
              "        [ 0.00917061,  0.01089969,  0.07882745, ..., -0.06769845,\n",
              "         -0.00711114, -0.07483359]], dtype=float32)>,\n",
              " <tf.Variable 'dense_layer/bias:0' shape=(64,) dtype=float32, numpy=\n",
              " array([ 0.03437105,  0.07269042, -0.08878528,  0.219762  , -0.08867657,\n",
              "        -0.04403109, -0.12531252, -0.03646248,  0.13743459,  0.14803763,\n",
              "         0.14761776,  0.060223  , -0.07165127, -0.04150432,  0.09084582,\n",
              "         0.03649349,  0.00823089,  0.16710833,  0.01687927,  0.01874032,\n",
              "         0.08866309,  0.01033827,  0.1208927 , -0.00410541,  0.06603411,\n",
              "        -0.00554122,  0.06838293,  0.03089452, -0.03816052, -0.04025962,\n",
              "        -0.00495694,  0.12186936, -0.1344105 ,  0.0074069 ,  0.0906094 ,\n",
              "        -0.07442711, -0.09318939, -0.02546973,  0.05875722,  0.05205873,\n",
              "         0.13119961, -0.07907861,  0.14064126,  0.03619568,  0.07877564,\n",
              "        -0.07351746,  0.15696149,  0.01446166,  0.07706761,  0.1511972 ,\n",
              "         0.02386161,  0.01811834, -0.00896851,  0.09744415,  0.01818852,\n",
              "         0.05526933,  0.02918937,  0.09091607,  0.11351627,  0.07641341,\n",
              "        -0.02116471,  0.04734419,  0.00383246, -0.18892346], dtype=float32)>,\n",
              " <tf.Variable 'dense_layer_2/kernel:0' shape=(64, 64) dtype=float32, numpy=\n",
              " array([[ 0.19500498,  0.22572342, -0.06307407, ...,  0.2207745 ,\n",
              "         -0.17229386, -0.00083903],\n",
              "        [ 0.08076646, -0.15016451, -0.15085092, ..., -0.1508068 ,\n",
              "          0.02365668,  0.3618845 ],\n",
              "        [-0.0968824 , -0.08575991,  0.2244393 , ..., -0.27111703,\n",
              "          0.00638075,  0.19232039],\n",
              "        ...,\n",
              "        [-0.06576196,  0.02515746, -0.00911862, ...,  0.00439818,\n",
              "          0.12536386, -0.41355363],\n",
              "        [ 0.1105302 ,  0.10389812,  0.18763039, ..., -0.11255105,\n",
              "          0.170885  ,  0.15346378],\n",
              "        [ 0.06817927,  0.371241  , -0.20197351, ...,  0.46548402,\n",
              "         -0.18518654,  0.29526654]], dtype=float32)>,\n",
              " <tf.Variable 'dense_layer_2/bias:0' shape=(64,) dtype=float32, numpy=\n",
              " array([ 0.01756711, -0.02672456,  0.01170586,  0.00597392,  0.03030055,\n",
              "        -0.02062786,  0.06366473, -0.03852663, -0.0144105 ,  0.04153695,\n",
              "         0.06590901,  0.00297387,  0.07394257,  0.05979482,  0.03562963,\n",
              "        -0.03279655, -0.02331307,  0.05375147,  0.00529177,  0.09640414,\n",
              "         0.04720952,  0.0113046 , -0.00488371,  0.01003549, -0.00052465,\n",
              "         0.0351519 ,  0.06807798,  0.07832629,  0.02706091,  0.05034472,\n",
              "         0.00029164,  0.00410291,  0.08826641,  0.11901411,  0.09218699,\n",
              "         0.04831501,  0.01038038,  0.11355256,  0.03696335, -0.01193854,\n",
              "         0.0670564 , -0.01978828, -0.01389648, -0.01555366,  0.07632115,\n",
              "         0.04964284,  0.0074436 ,  0.0616314 , -0.00045529,  0.00735076,\n",
              "        -0.03755567,  0.00527226,  0.10130308,  0.11467846, -0.01272406,\n",
              "         0.04317979,  0.10046795,  0.04901788,  0.03527755, -0.01984954,\n",
              "         0.01507454,  0.04789077,  0.02518223,  0.01677509], dtype=float32)>,\n",
              " <tf.Variable 'dense_layer_3/kernel:0' shape=(64, 10) dtype=float32, numpy=\n",
              " array([[ 3.33071947e-02, -7.90690333e-02, -7.91465491e-03,\n",
              "         -3.10378462e-01, -3.42956698e-03,  4.61903751e-01,\n",
              "          1.38491586e-01,  3.49123001e-01, -1.89950109e-01,\n",
              "         -4.04644907e-01],\n",
              "        [ 1.46806970e-01, -7.76945008e-03, -1.31341979e-01,\n",
              "          2.62293369e-01, -5.88701427e-01,  2.12032273e-02,\n",
              "         -4.35302675e-01, -1.82313025e-01, -8.23589504e-01,\n",
              "          6.88833416e-01],\n",
              "        [-8.69100243e-02,  7.92330444e-01, -2.39597827e-01,\n",
              "         -8.82116973e-01,  4.64588672e-01, -6.91749677e-02,\n",
              "         -2.52648205e-01,  6.20427206e-02, -4.08789486e-01,\n",
              "         -3.65930259e-01],\n",
              "        [-2.25030288e-01, -4.31548990e-02, -1.58004537e-01,\n",
              "         -7.59750232e-02,  2.75632799e-01, -7.17087761e-02,\n",
              "          2.44352907e-01,  1.16803095e-01,  9.15179122e-03,\n",
              "          2.32493639e-01],\n",
              "        [-9.33739990e-02, -7.87077695e-02,  2.37981737e-01,\n",
              "         -6.03272080e-01,  5.85406661e-01, -6.81763813e-02,\n",
              "          3.27728570e-01,  1.45752952e-01,  2.39344567e-01,\n",
              "         -4.07457381e-01],\n",
              "        [-1.99293420e-01,  2.11991966e-01,  3.82317230e-02,\n",
              "         -1.26286566e-01,  1.47235245e-01,  2.45852187e-01,\n",
              "         -1.06394641e-01, -1.11625627e-01, -4.36409414e-02,\n",
              "          9.55892131e-02],\n",
              "        [-6.92369938e-01,  1.81394920e-01,  3.24274421e-01,\n",
              "          1.98671728e-01,  1.35020345e-01,  3.60963464e-01,\n",
              "         -2.46564582e-01, -3.95267695e-01, -2.96775438e-02,\n",
              "          1.70381010e-01],\n",
              "        [-1.15483925e-01,  5.44095747e-02, -6.39401972e-02,\n",
              "          4.65621561e-01,  5.39979450e-02, -1.77258521e-01,\n",
              "         -3.00324202e-01,  5.05553260e-02, -4.16235536e-01,\n",
              "          6.81161165e-01],\n",
              "        [ 3.78546119e-01,  2.34337583e-01, -3.56714278e-01,\n",
              "         -1.31345391e-01, -4.59845930e-01,  1.24796964e-01,\n",
              "          7.05937862e-01, -7.75074884e-02, -7.40073502e-01,\n",
              "          3.97527754e-01],\n",
              "        [ 4.67484891e-01,  7.57912397e-02,  7.53236234e-01,\n",
              "          2.03950897e-01,  1.75860345e-01,  1.64454415e-01,\n",
              "         -3.18701535e-01, -4.98175621e-02, -1.13947764e-01,\n",
              "         -5.95338523e-01],\n",
              "        [ 1.55262008e-01,  7.87022829e-01,  9.31332167e-03,\n",
              "         -3.32121968e-01, -3.32144499e-01, -3.77280891e-01,\n",
              "          2.66924351e-01, -6.37425423e-01,  5.46369925e-02,\n",
              "         -3.62861514e-01],\n",
              "        [ 9.47164670e-02,  5.64769506e-01, -7.86369443e-02,\n",
              "         -2.84853607e-01, -3.27247143e-01, -1.56645641e-01,\n",
              "         -3.99587065e-01, -1.73256651e-01, -1.22476816e-01,\n",
              "          7.19031453e-01],\n",
              "        [ 6.88470185e-01, -4.07896191e-02, -2.51200438e-01,\n",
              "         -8.47119749e-01,  5.39378971e-02, -1.55480802e-01,\n",
              "          4.70200539e-01,  5.35413086e-01, -2.44711682e-01,\n",
              "         -6.33739114e-01],\n",
              "        [-2.22615093e-01, -6.50037408e-01, -4.92772728e-01,\n",
              "          4.94839042e-01,  1.98350549e-01, -4.19866294e-01,\n",
              "         -5.39593816e-01,  5.04511237e-01,  3.32561642e-01,\n",
              "          2.54188389e-01],\n",
              "        [ 5.75712249e-02, -1.37027681e-01, -2.91558951e-01,\n",
              "          5.62530637e-01,  2.96694487e-01,  2.50155032e-01,\n",
              "         -8.29808041e-02, -7.04709947e-01,  4.96197939e-01,\n",
              "         -2.84904897e-01],\n",
              "        [ 1.99672356e-01,  8.57285748e-04, -1.34800628e-01,\n",
              "         -3.37489098e-02, -2.42285252e-01, -2.40816139e-02,\n",
              "         -2.22834438e-01, -1.84679791e-01,  2.64048606e-01,\n",
              "         -2.38449961e-01],\n",
              "        [-2.46336251e-01, -2.32125565e-01, -3.00228596e-01,\n",
              "         -5.52482903e-01, -8.54488313e-01,  8.02395880e-01,\n",
              "          5.57724118e-01,  2.52726793e-01,  3.93831849e-01,\n",
              "          2.00808257e-01],\n",
              "        [-2.51011759e-01, -2.14719355e-01,  1.89146802e-01,\n",
              "         -3.43187064e-01,  5.22022188e-01, -3.21735591e-01,\n",
              "         -1.86050877e-01,  4.10004050e-01,  8.68467018e-02,\n",
              "         -2.54710704e-01],\n",
              "        [-1.48378510e-03,  1.86988845e-01, -6.63866475e-02,\n",
              "          1.23655848e-01, -2.44294688e-01, -2.53334530e-02,\n",
              "         -2.95935631e-01,  5.43319434e-02, -1.63021937e-01,\n",
              "          2.25491658e-01],\n",
              "        [-1.64115690e-02, -6.27385616e-01, -1.48076326e-01,\n",
              "         -4.72336143e-01,  4.01388347e-01,  3.76784623e-01,\n",
              "          4.02988255e-01,  4.88847494e-01,  1.35682281e-02,\n",
              "         -7.77660161e-02],\n",
              "        [-2.33019665e-01, -1.62696227e-01, -3.66548181e-01,\n",
              "         -3.03689718e-01,  3.62544745e-01,  5.06270111e-01,\n",
              "         -2.25808337e-01, -4.08254772e-01,  4.08521712e-01,\n",
              "          5.05671278e-03],\n",
              "        [ 1.13628589e-01,  4.55273464e-02, -7.26816431e-02,\n",
              "         -1.19258225e-01,  6.18551299e-02,  1.33105526e-02,\n",
              "          1.10483818e-01, -1.98582411e-02,  1.95379511e-01,\n",
              "         -2.53572804e-03],\n",
              "        [-5.01596630e-01,  1.61528930e-01, -4.87683922e-01,\n",
              "          3.06931734e-01, -1.98914073e-02,  6.87318265e-01,\n",
              "          1.16930241e-02,  5.48455000e-01, -5.30097961e-01,\n",
              "         -2.50638932e-01],\n",
              "        [ 3.07209361e-02,  2.98178583e-01,  5.52023649e-01,\n",
              "         -3.71028244e-01,  2.50367314e-01, -1.15895430e-02,\n",
              "         -4.64889944e-01,  6.41935468e-01, -6.78829193e-01,\n",
              "         -3.39065313e-01],\n",
              "        [-9.63351801e-02, -4.00005095e-02,  3.56634371e-02,\n",
              "          3.33269387e-02,  1.12113968e-01,  1.88162401e-01,\n",
              "          2.01095900e-04, -2.65008867e-01, -4.37767478e-03,\n",
              "         -1.60242572e-01],\n",
              "        [-4.79532152e-01, -2.98546255e-01, -6.85804427e-01,\n",
              "          7.25583076e-01, -1.78916875e-04,  7.54214525e-01,\n",
              "          6.88315481e-02, -2.93741703e-01,  3.10902655e-01,\n",
              "          8.34417716e-02],\n",
              "        [ 2.56770011e-02, -2.64181525e-01,  5.87170780e-01,\n",
              "         -4.63565856e-01, -2.91312356e-02, -2.76914984e-01,\n",
              "         -2.17276573e-01, -6.97455525e-01,  3.25371057e-01,\n",
              "          4.90285158e-01],\n",
              "        [ 2.19794422e-01,  4.88654375e-01,  2.15117425e-01,\n",
              "          3.83893669e-01, -8.74180794e-01, -7.63081014e-01,\n",
              "          2.78790951e-01,  5.26031911e-01,  2.44961902e-01,\n",
              "         -1.80108011e-01],\n",
              "        [ 5.55511415e-01,  2.23969609e-01, -1.82729527e-01,\n",
              "         -3.92654330e-01,  3.29812855e-01,  4.03332822e-02,\n",
              "          6.62648380e-01, -4.73235190e-01,  1.39120474e-01,\n",
              "          1.32317021e-01],\n",
              "        [-3.64501923e-01,  2.00641602e-01, -2.88182408e-01,\n",
              "         -5.09978592e-01,  9.63775162e-03, -3.21607441e-01,\n",
              "         -5.85497141e-01,  2.41990864e-01,  9.58256245e-01,\n",
              "          5.13391495e-01],\n",
              "        [-2.14193836e-01,  3.08728721e-02,  9.57610235e-02,\n",
              "         -1.46679953e-01,  1.44738764e-01, -8.89277756e-02,\n",
              "         -5.67085156e-03, -2.11253911e-01,  2.45992094e-01,\n",
              "          4.42700498e-02],\n",
              "        [ 2.76929826e-01, -4.14134473e-01,  2.38527477e-01,\n",
              "          5.89484386e-02,  2.84141600e-01,  1.07235603e-01,\n",
              "         -2.53369331e-01,  4.99597862e-02, -3.60163301e-03,\n",
              "          1.76174924e-01],\n",
              "        [-3.22811514e-01, -3.06145489e-01, -2.90827900e-01,\n",
              "         -3.50451738e-01,  2.85973638e-01,  2.30647862e-01,\n",
              "          2.86182046e-01, -1.34287089e-01,  2.05103114e-01,\n",
              "          4.70750570e-01],\n",
              "        [ 5.64289272e-01, -5.42271376e-01,  3.01254034e-01,\n",
              "          1.29263341e-01, -3.51885051e-01, -9.12203848e-01,\n",
              "          1.73176661e-01,  2.66298681e-01,  7.79709756e-01,\n",
              "          5.54883599e-01],\n",
              "        [-6.87157691e-01, -9.28367861e-03, -4.83041793e-01,\n",
              "          2.29094744e-01, -4.51815724e-02,  4.05351907e-01,\n",
              "          5.64222574e-01, -3.16250138e-02,  4.98532623e-01,\n",
              "         -7.49683261e-01],\n",
              "        [ 3.79564874e-02, -1.45932376e-01, -3.31448734e-01,\n",
              "         -8.85985494e-02, -4.33233917e-01,  4.44879681e-01,\n",
              "          8.13140813e-03,  2.43539989e-01,  2.13242888e-01,\n",
              "         -5.06764203e-02],\n",
              "        [ 2.22904786e-01,  2.79215664e-01,  4.74884272e-01,\n",
              "          4.02158171e-01, -1.31214216e-01,  2.31909111e-01,\n",
              "          6.31803721e-02,  3.76428187e-01, -1.58494916e-02,\n",
              "         -6.45788610e-01],\n",
              "        [-4.16832805e-01, -1.74439669e-01,  6.81069911e-01,\n",
              "          4.56098914e-01,  2.44123936e-01, -5.57596684e-01,\n",
              "         -6.23681128e-01, -2.68564019e-02,  2.25055560e-01,\n",
              "          3.53817195e-02],\n",
              "        [ 4.62992936e-01, -2.09077775e-01, -1.41411066e-01,\n",
              "          9.98170748e-02, -6.09300673e-01, -8.81322473e-02,\n",
              "          3.96076031e-02, -2.45897666e-01,  3.45226198e-01,\n",
              "          6.38526440e-01],\n",
              "        [-1.23587422e-01, -1.10223018e-01, -2.37655431e-01,\n",
              "         -1.01194379e-03,  4.70909715e-01,  7.35918060e-02,\n",
              "          4.83580977e-01, -4.50051129e-01, -4.20256138e-01,\n",
              "         -2.71317035e-01],\n",
              "        [-2.79870510e-01,  3.89487669e-02,  6.18538596e-02,\n",
              "         -1.97749227e-01,  7.29164124e-01, -5.15943110e-01,\n",
              "         -4.38881338e-01, -5.20846546e-01,  1.48643181e-01,\n",
              "          4.77133363e-01],\n",
              "        [-3.21316957e-01, -2.49184575e-02, -1.80790633e-01,\n",
              "          3.44413310e-01, -1.43956140e-01,  9.18445364e-02,\n",
              "         -7.18644857e-02,  2.24412695e-01, -2.21975178e-01,\n",
              "         -2.75000423e-01],\n",
              "        [ 1.29273102e-01,  2.99567729e-01, -1.31542474e-01,\n",
              "         -4.74330857e-02,  9.07423440e-03,  2.73866326e-01,\n",
              "         -9.84148979e-02,  2.70215899e-01,  8.51238221e-02,\n",
              "         -9.37927663e-02],\n",
              "        [ 1.79391652e-01,  1.50620103e-01, -3.69454511e-02,\n",
              "          5.05625963e-01, -2.50698477e-01,  4.48155940e-01,\n",
              "         -4.86027449e-01, -2.86369771e-02, -2.60919988e-01,\n",
              "          3.57134014e-01],\n",
              "        [-7.23999962e-02,  3.48814368e-01, -6.33892953e-01,\n",
              "          5.37992537e-01, -3.62431914e-01,  5.49931765e-01,\n",
              "          1.72704250e-01,  2.33695969e-01, -7.03315884e-02,\n",
              "         -4.49200243e-01],\n",
              "        [-4.45162952e-01,  2.77371228e-01,  1.61864370e-01,\n",
              "          5.00567555e-01, -2.49794334e-01,  7.21420422e-02,\n",
              "          4.88558933e-02, -2.89468557e-01, -1.49890155e-01,\n",
              "          1.70340613e-01],\n",
              "        [ 2.24414662e-01,  2.71038681e-01, -2.13248938e-01,\n",
              "          8.69163964e-03,  6.81956336e-02, -1.70841873e-01,\n",
              "          2.66878486e-01, -7.74182379e-02,  1.77203305e-02,\n",
              "         -1.61781281e-01],\n",
              "        [-1.23876356e-01,  2.22116843e-01,  6.21766686e-01,\n",
              "         -2.90975779e-01,  4.91626084e-01, -3.23743522e-01,\n",
              "          3.77987236e-01, -2.59265393e-01,  1.04714315e-02,\n",
              "         -4.06547576e-01],\n",
              "        [ 1.73623964e-01,  8.42590928e-02, -2.73650706e-01,\n",
              "         -2.01501753e-02, -1.27219036e-01,  6.74266219e-02,\n",
              "          3.42223719e-02, -8.24362785e-02, -1.42507553e-02,\n",
              "         -1.93970174e-01],\n",
              "        [-7.85280839e-02,  9.76320207e-02, -3.41144979e-01,\n",
              "          2.29415402e-01,  4.56622958e-01, -4.55416620e-01,\n",
              "         -2.10374892e-01,  1.96215995e-02, -2.79492319e-01,\n",
              "          5.15857995e-01],\n",
              "        [ 4.29032534e-01,  1.95816979e-01,  3.39572251e-01,\n",
              "         -5.92459142e-01,  5.07787526e-01, -4.64689136e-01,\n",
              "         -3.18624675e-01,  4.70428824e-01, -6.67871892e-01,\n",
              "          2.16701522e-01],\n",
              "        [ 3.52359831e-01,  1.40180618e-01,  6.85282378e-03,\n",
              "         -2.61652488e-02, -1.99669033e-01, -2.95561440e-02,\n",
              "          2.82053560e-01,  3.26877773e-01, -5.16472518e-01,\n",
              "          6.72839582e-02],\n",
              "        [ 4.07872587e-01, -5.69176793e-01, -3.86269450e-01,\n",
              "          4.83608767e-02, -3.61826539e-01,  7.82478034e-01,\n",
              "         -3.18749249e-01, -7.08313510e-02, -2.80978289e-02,\n",
              "         -3.49026084e-01],\n",
              "        [-6.90251410e-01,  3.51032466e-01, -5.14472485e-01,\n",
              "         -6.26038730e-01,  4.90346551e-01,  7.25953579e-01,\n",
              "         -5.87996602e-01, -3.19681942e-01, -9.20509845e-02,\n",
              "          5.40629089e-01],\n",
              "        [-2.19089851e-01,  1.12073071e-01, -5.08797541e-02,\n",
              "          4.99769866e-01, -2.78033584e-01, -2.40639821e-01,\n",
              "          9.06646717e-03,  4.19431359e-01,  1.59902871e-01,\n",
              "         -1.68742076e-01],\n",
              "        [-6.59128904e-01,  5.62376201e-01,  8.99956524e-01,\n",
              "          1.35428056e-01, -2.90271968e-01,  2.47286633e-01,\n",
              "         -1.59963459e-01,  7.45276988e-01, -2.56296456e-01,\n",
              "         -5.55426359e-01],\n",
              "        [-1.35484096e-02, -5.45598924e-01,  4.58888888e-01,\n",
              "          1.19621515e-01,  4.37511533e-01, -3.88857238e-02,\n",
              "          6.90769792e-01, -5.61512113e-01,  1.73795983e-01,\n",
              "         -7.22428322e-01],\n",
              "        [-9.92592126e-02,  6.50096461e-02,  3.32613826e-01,\n",
              "         -2.32605394e-02, -2.87205726e-02, -2.87914008e-01,\n",
              "         -4.05988306e-01,  5.97507536e-01, -3.58209997e-01,\n",
              "          5.32045141e-02],\n",
              "        [-2.68787984e-03, -4.67789650e-01,  6.70725524e-01,\n",
              "          2.01445092e-02, -7.04311192e-01,  1.94247797e-01,\n",
              "         -7.12000132e-02, -3.04312371e-02,  8.43531072e-01,\n",
              "         -5.73641479e-01],\n",
              "        [ 3.91155839e-01, -1.38623431e-01,  9.11431015e-02,\n",
              "          3.68821435e-02, -2.12338001e-01,  6.21245682e-01,\n",
              "          7.97989592e-02, -4.59953725e-01, -6.52169466e-01,\n",
              "          4.71911848e-01],\n",
              "        [-2.88814306e-01, -1.73288688e-01, -4.87766683e-01,\n",
              "          7.36069739e-01,  3.13870370e-01,  3.56215686e-01,\n",
              "         -3.97249795e-02, -5.88804901e-01,  6.07312806e-02,\n",
              "          2.26831853e-01],\n",
              "        [ 8.26920420e-02, -4.25035417e-01, -2.56210148e-01,\n",
              "          7.44381905e-01, -5.54991663e-01,  4.01207387e-01,\n",
              "         -3.89971197e-01,  2.87047178e-01, -5.62730432e-01,\n",
              "          4.03711289e-01],\n",
              "        [ 6.85748160e-02,  1.14416987e-01, -2.16527328e-01,\n",
              "          3.21190953e-02,  7.42930695e-02, -2.24641517e-01,\n",
              "          8.49680975e-02,  5.01269758e-01,  2.90164631e-03,\n",
              "         -2.17133015e-01],\n",
              "        [ 1.52629256e-01, -2.51242429e-01,  8.91964793e-01,\n",
              "          5.81497312e-01, -5.22783816e-01, -2.28030443e-01,\n",
              "         -7.14681149e-01,  2.00950876e-01, -3.00144881e-01,\n",
              "          2.59239048e-01]], dtype=float32)>,\n",
              " <tf.Variable 'dense_layer_3/bias:0' shape=(10,) dtype=float32, numpy=\n",
              " array([-0.00808397,  0.03477394,  0.08279405, -0.00685814, -0.08112901,\n",
              "         0.00642584, -0.00145713,  0.05433304, -0.02389889, -0.05690014],\n",
              "       dtype=float32)>]"
            ]
          },
          "metadata": {},
          "execution_count": 23
        }
      ]
    },
    {
      "cell_type": "code",
      "metadata": {
        "id": "x_no8rMBfCY6",
        "colab": {
          "base_uri": "https://localhost:8080/"
        },
        "outputId": "60925502-6afc-431f-b2b1-f7482b1c9361"
      },
      "source": [
        "model_1.get_config()"
      ],
      "execution_count": 24,
      "outputs": [
        {
          "output_type": "execute_result",
          "data": {
            "text/plain": [
              "{'name': 'sequential_1',\n",
              " 'layers': [{'class_name': 'InputLayer',\n",
              "   'config': {'batch_input_shape': (None, 784),\n",
              "    'dtype': 'float32',\n",
              "    'sparse': False,\n",
              "    'ragged': False,\n",
              "    'name': 'dense_layer_input'}},\n",
              "  {'class_name': 'Dense',\n",
              "   'config': {'name': 'dense_layer',\n",
              "    'trainable': True,\n",
              "    'dtype': 'float32',\n",
              "    'batch_input_shape': (None, 784),\n",
              "    'units': 64,\n",
              "    'activation': 'relu',\n",
              "    'use_bias': True,\n",
              "    'kernel_initializer': {'class_name': 'GlorotUniform',\n",
              "     'config': {'seed': None}},\n",
              "    'bias_initializer': {'class_name': 'Zeros', 'config': {}},\n",
              "    'kernel_regularizer': None,\n",
              "    'bias_regularizer': None,\n",
              "    'activity_regularizer': None,\n",
              "    'kernel_constraint': None,\n",
              "    'bias_constraint': None}},\n",
              "  {'class_name': 'Dense',\n",
              "   'config': {'name': 'dense_layer_2',\n",
              "    'trainable': True,\n",
              "    'dtype': 'float32',\n",
              "    'units': 64,\n",
              "    'activation': 'relu',\n",
              "    'use_bias': True,\n",
              "    'kernel_initializer': {'class_name': 'GlorotUniform',\n",
              "     'config': {'seed': None}},\n",
              "    'bias_initializer': {'class_name': 'Zeros', 'config': {}},\n",
              "    'kernel_regularizer': None,\n",
              "    'bias_regularizer': None,\n",
              "    'activity_regularizer': None,\n",
              "    'kernel_constraint': None,\n",
              "    'bias_constraint': None}},\n",
              "  {'class_name': 'Dense',\n",
              "   'config': {'name': 'dense_layer_3',\n",
              "    'trainable': True,\n",
              "    'dtype': 'float32',\n",
              "    'units': 10,\n",
              "    'activation': 'softmax',\n",
              "    'use_bias': True,\n",
              "    'kernel_initializer': {'class_name': 'GlorotUniform',\n",
              "     'config': {'seed': None}},\n",
              "    'bias_initializer': {'class_name': 'Zeros', 'config': {}},\n",
              "    'kernel_regularizer': None,\n",
              "    'bias_regularizer': None,\n",
              "    'activity_regularizer': None,\n",
              "    'kernel_constraint': None,\n",
              "    'bias_constraint': None}}]}"
            ]
          },
          "metadata": {},
          "execution_count": 24
        }
      ]
    },
    {
      "cell_type": "code",
      "metadata": {
        "id": "AXUf6nhvBHnc"
      },
      "source": [
        "from tensorflow.keras.layers import Dropout\n",
        "\n",
        "#Most common type of model is a stack of layers\n",
        "model_2 = tf.keras.Sequential()\n",
        "N_hidden = 128\n",
        "# Adds a densely-connected layer with 64 units to the model:\n",
        "model_2.add(Dense(N_hidden, name='dense_layer', input_shape=(784,), activation = 'relu'))\n",
        "# Now the model will take as input arrays of shape (*, 784)# and output arrays of shape (*, 64)\n",
        "model_2.add(Dropout(0.3))\n",
        "# Adding another dense layer:\n",
        "model_2.add(Dense(N_hidden, name='dense_layer_2', activation='relu'))\n",
        "model_2.add(Dropout(0.3))\n",
        "\n",
        "# Add an output layer with 10 output units (10 different classes):\n",
        "model_2.add(Dense(10, name='dense_layer_3', activation = 'softmax'))\n"
      ],
      "execution_count": 25,
      "outputs": []
    },
    {
      "cell_type": "code",
      "metadata": {
        "id": "wo95PYlPgBe4"
      },
      "source": [
        "# Compiling the model.\n",
        "model_2.compile(optimizer='SGD', \n",
        "              loss='categorical_crossentropy',\n",
        "              metrics=['accuracy'])"
      ],
      "execution_count": 26,
      "outputs": []
    },
    {
      "cell_type": "code",
      "metadata": {
        "id": "VfargzxGgBfI",
        "colab": {
          "base_uri": "https://localhost:8080/"
        },
        "outputId": "5447bac4-0f14-4ca7-e055-7b621923ebbe"
      },
      "source": [
        "# Training the model. \n",
        "training = model_2.fit(X_train, Y_train, batch_size=64, epochs=50, validation_split=0.2) "
      ],
      "execution_count": 27,
      "outputs": [
        {
          "output_type": "stream",
          "name": "stdout",
          "text": [
            "Epoch 1/50\n",
            "750/750 [==============================] - 5s 5ms/step - loss: 1.3692 - accuracy: 0.5637 - val_loss: 0.5678 - val_accuracy: 0.8633\n",
            "Epoch 2/50\n",
            "750/750 [==============================] - 4s 5ms/step - loss: 0.6659 - accuracy: 0.7974 - val_loss: 0.3766 - val_accuracy: 0.8985\n",
            "Epoch 3/50\n",
            "750/750 [==============================] - 5s 7ms/step - loss: 0.5170 - accuracy: 0.8476 - val_loss: 0.3171 - val_accuracy: 0.9100\n",
            "Epoch 4/50\n",
            "750/750 [==============================] - 4s 5ms/step - loss: 0.4479 - accuracy: 0.8676 - val_loss: 0.2805 - val_accuracy: 0.9186\n",
            "Epoch 5/50\n",
            "750/750 [==============================] - 4s 5ms/step - loss: 0.4038 - accuracy: 0.8795 - val_loss: 0.2590 - val_accuracy: 0.9253\n",
            "Epoch 6/50\n",
            "750/750 [==============================] - 5s 6ms/step - loss: 0.3720 - accuracy: 0.8914 - val_loss: 0.2385 - val_accuracy: 0.9318\n",
            "Epoch 7/50\n",
            "750/750 [==============================] - 4s 6ms/step - loss: 0.3456 - accuracy: 0.8997 - val_loss: 0.2245 - val_accuracy: 0.9352\n",
            "Epoch 8/50\n",
            "750/750 [==============================] - 4s 5ms/step - loss: 0.3281 - accuracy: 0.9036 - val_loss: 0.2128 - val_accuracy: 0.9382\n",
            "Epoch 9/50\n",
            "750/750 [==============================] - 4s 5ms/step - loss: 0.3109 - accuracy: 0.9096 - val_loss: 0.2001 - val_accuracy: 0.9421\n",
            "Epoch 10/50\n",
            "750/750 [==============================] - 5s 7ms/step - loss: 0.2929 - accuracy: 0.9146 - val_loss: 0.1918 - val_accuracy: 0.9443\n",
            "Epoch 11/50\n",
            "750/750 [==============================] - 4s 5ms/step - loss: 0.2802 - accuracy: 0.9180 - val_loss: 0.1842 - val_accuracy: 0.9470\n",
            "Epoch 12/50\n",
            "750/750 [==============================] - 4s 5ms/step - loss: 0.2714 - accuracy: 0.9218 - val_loss: 0.1761 - val_accuracy: 0.9485\n",
            "Epoch 13/50\n",
            "750/750 [==============================] - 6s 8ms/step - loss: 0.2595 - accuracy: 0.9241 - val_loss: 0.1696 - val_accuracy: 0.9509\n",
            "Epoch 14/50\n",
            "750/750 [==============================] - 4s 5ms/step - loss: 0.2506 - accuracy: 0.9271 - val_loss: 0.1643 - val_accuracy: 0.9523\n",
            "Epoch 15/50\n",
            "750/750 [==============================] - 5s 7ms/step - loss: 0.2425 - accuracy: 0.9288 - val_loss: 0.1579 - val_accuracy: 0.9539\n",
            "Epoch 16/50\n",
            "750/750 [==============================] - 5s 7ms/step - loss: 0.2368 - accuracy: 0.9290 - val_loss: 0.1552 - val_accuracy: 0.9543\n",
            "Epoch 17/50\n",
            "750/750 [==============================] - 4s 6ms/step - loss: 0.2274 - accuracy: 0.9334 - val_loss: 0.1495 - val_accuracy: 0.9564\n",
            "Epoch 18/50\n",
            "750/750 [==============================] - 4s 5ms/step - loss: 0.2186 - accuracy: 0.9372 - val_loss: 0.1461 - val_accuracy: 0.9578\n",
            "Epoch 19/50\n",
            "750/750 [==============================] - 4s 5ms/step - loss: 0.2154 - accuracy: 0.9365 - val_loss: 0.1428 - val_accuracy: 0.9581\n",
            "Epoch 20/50\n",
            "750/750 [==============================] - 5s 7ms/step - loss: 0.2088 - accuracy: 0.9383 - val_loss: 0.1387 - val_accuracy: 0.9591\n",
            "Epoch 21/50\n",
            "750/750 [==============================] - 4s 6ms/step - loss: 0.2015 - accuracy: 0.9411 - val_loss: 0.1359 - val_accuracy: 0.9604\n",
            "Epoch 22/50\n",
            "750/750 [==============================] - 4s 5ms/step - loss: 0.2013 - accuracy: 0.9410 - val_loss: 0.1338 - val_accuracy: 0.9607\n",
            "Epoch 23/50\n",
            "750/750 [==============================] - 5s 7ms/step - loss: 0.1925 - accuracy: 0.9430 - val_loss: 0.1307 - val_accuracy: 0.9619\n",
            "Epoch 24/50\n",
            "750/750 [==============================] - 4s 5ms/step - loss: 0.1909 - accuracy: 0.9449 - val_loss: 0.1282 - val_accuracy: 0.9619\n",
            "Epoch 25/50\n",
            "750/750 [==============================] - 4s 5ms/step - loss: 0.1829 - accuracy: 0.9477 - val_loss: 0.1255 - val_accuracy: 0.9625\n",
            "Epoch 26/50\n",
            "750/750 [==============================] - 4s 6ms/step - loss: 0.1812 - accuracy: 0.9465 - val_loss: 0.1237 - val_accuracy: 0.9632\n",
            "Epoch 27/50\n",
            "750/750 [==============================] - 5s 6ms/step - loss: 0.1752 - accuracy: 0.9487 - val_loss: 0.1232 - val_accuracy: 0.9632\n",
            "Epoch 28/50\n",
            "750/750 [==============================] - 4s 5ms/step - loss: 0.1736 - accuracy: 0.9478 - val_loss: 0.1197 - val_accuracy: 0.9650\n",
            "Epoch 29/50\n",
            "750/750 [==============================] - 4s 5ms/step - loss: 0.1671 - accuracy: 0.9509 - val_loss: 0.1182 - val_accuracy: 0.9652\n",
            "Epoch 30/50\n",
            "750/750 [==============================] - 5s 7ms/step - loss: 0.1652 - accuracy: 0.9506 - val_loss: 0.1162 - val_accuracy: 0.9657\n",
            "Epoch 31/50\n",
            "750/750 [==============================] - 4s 5ms/step - loss: 0.1642 - accuracy: 0.9521 - val_loss: 0.1145 - val_accuracy: 0.9661\n",
            "Epoch 32/50\n",
            "750/750 [==============================] - 4s 5ms/step - loss: 0.1619 - accuracy: 0.9525 - val_loss: 0.1138 - val_accuracy: 0.9662\n",
            "Epoch 33/50\n",
            "750/750 [==============================] - 5s 6ms/step - loss: 0.1601 - accuracy: 0.9530 - val_loss: 0.1126 - val_accuracy: 0.9673\n",
            "Epoch 34/50\n",
            "750/750 [==============================] - 5s 6ms/step - loss: 0.1537 - accuracy: 0.9549 - val_loss: 0.1116 - val_accuracy: 0.9665\n",
            "Epoch 35/50\n",
            "750/750 [==============================] - 4s 5ms/step - loss: 0.1512 - accuracy: 0.9550 - val_loss: 0.1100 - val_accuracy: 0.9673\n",
            "Epoch 36/50\n",
            "750/750 [==============================] - 4s 5ms/step - loss: 0.1491 - accuracy: 0.9562 - val_loss: 0.1083 - val_accuracy: 0.9668\n",
            "Epoch 37/50\n",
            "750/750 [==============================] - 5s 7ms/step - loss: 0.1469 - accuracy: 0.9561 - val_loss: 0.1071 - val_accuracy: 0.9683\n",
            "Epoch 38/50\n",
            "750/750 [==============================] - 4s 5ms/step - loss: 0.1437 - accuracy: 0.9570 - val_loss: 0.1061 - val_accuracy: 0.9679\n",
            "Epoch 39/50\n",
            "750/750 [==============================] - 4s 5ms/step - loss: 0.1457 - accuracy: 0.9572 - val_loss: 0.1046 - val_accuracy: 0.9689\n",
            "Epoch 40/50\n",
            "750/750 [==============================] - 5s 6ms/step - loss: 0.1451 - accuracy: 0.9576 - val_loss: 0.1035 - val_accuracy: 0.9685\n",
            "Epoch 41/50\n",
            "750/750 [==============================] - 5s 6ms/step - loss: 0.1425 - accuracy: 0.9582 - val_loss: 0.1041 - val_accuracy: 0.9680\n",
            "Epoch 42/50\n",
            "750/750 [==============================] - 4s 5ms/step - loss: 0.1360 - accuracy: 0.9597 - val_loss: 0.1018 - val_accuracy: 0.9698\n",
            "Epoch 43/50\n",
            "750/750 [==============================] - 4s 5ms/step - loss: 0.1350 - accuracy: 0.9601 - val_loss: 0.1011 - val_accuracy: 0.9694\n",
            "Epoch 44/50\n",
            "750/750 [==============================] - 5s 7ms/step - loss: 0.1322 - accuracy: 0.9608 - val_loss: 0.1012 - val_accuracy: 0.9694\n",
            "Epoch 45/50\n",
            "750/750 [==============================] - 4s 5ms/step - loss: 0.1325 - accuracy: 0.9603 - val_loss: 0.0998 - val_accuracy: 0.9698\n",
            "Epoch 46/50\n",
            "750/750 [==============================] - 4s 5ms/step - loss: 0.1295 - accuracy: 0.9614 - val_loss: 0.0991 - val_accuracy: 0.9701\n",
            "Epoch 47/50\n",
            "750/750 [==============================] - 5s 6ms/step - loss: 0.1249 - accuracy: 0.9634 - val_loss: 0.0987 - val_accuracy: 0.9700\n",
            "Epoch 48/50\n",
            "750/750 [==============================] - 5s 6ms/step - loss: 0.1279 - accuracy: 0.9620 - val_loss: 0.0975 - val_accuracy: 0.9701\n",
            "Epoch 49/50\n",
            "750/750 [==============================] - 4s 5ms/step - loss: 0.1220 - accuracy: 0.9629 - val_loss: 0.0969 - val_accuracy: 0.9708\n",
            "Epoch 50/50\n",
            "750/750 [==============================] - 4s 5ms/step - loss: 0.1239 - accuracy: 0.9635 - val_loss: 0.0960 - val_accuracy: 0.9717\n"
          ]
        }
      ]
    },
    {
      "cell_type": "code",
      "metadata": {
        "id": "9QfbwIhAgBfX",
        "colab": {
          "base_uri": "https://localhost:8080/",
          "height": 944
        },
        "outputId": "89b47cdd-aba6-4ba4-9431-b75c5aff3da4"
      },
      "source": [
        "import matplotlib.pyplot as plt\n",
        "%matplotlib inline\n",
        "# list all data in training\n",
        "print(training.history.keys())\n",
        "# summarize training for accuracy\n",
        "plt.plot(training.history['accuracy'])\n",
        "plt.plot(training.history['val_accuracy'])\n",
        "plt.title('model accuracy')\n",
        "plt.ylabel('accuracy')\n",
        "plt.xlabel('epoch')\n",
        "plt.legend(['train', 'test'], loc='upper left')\n",
        "plt.show()\n",
        "# summarize traning for loss\n",
        "plt.plot(training.history['loss'])\n",
        "plt.plot(training.history['val_loss'])\n",
        "plt.title('model loss')\n",
        "plt.ylabel('loss')\n",
        "plt.xlabel('epoch')\n",
        "plt.legend(['train', 'test'], loc='upper left')\n",
        "plt.show()"
      ],
      "execution_count": 28,
      "outputs": [
        {
          "output_type": "stream",
          "name": "stdout",
          "text": [
            "dict_keys(['loss', 'accuracy', 'val_loss', 'val_accuracy'])\n"
          ]
        },
        {
          "output_type": "display_data",
          "data": {
            "text/plain": [
              "<Figure size 640x480 with 1 Axes>"
            ],
            "image/png": "[encoded data removed]"
          },
          "metadata": {}
        },
        {
          "output_type": "display_data",
          "data": {
            "text/plain": [
              "<Figure size 640x480 with 1 Axes>"
            ],
            "image/png": "[encoded data removed]"
          },
          "metadata": {}
        }
      ]
    },
    {
      "cell_type": "code",
      "metadata": {
        "id": "yT7LK87agBfq",
        "colab": {
          "base_uri": "https://localhost:8080/"
        },
        "outputId": "db6feea7-7df1-41db-8ad6-06df1ec86fe6"
      },
      "source": [
        "#evaluate the model\n",
        "test_loss, test_acc = model_2.evaluate(X_test, Y_test)\n",
        "print('Test accuracy:', test_acc)"
      ],
      "execution_count": 29,
      "outputs": [
        {
          "output_type": "stream",
          "name": "stdout",
          "text": [
            "313/313 [==============================] - 1s 2ms/step - loss: 0.0911 - accuracy: 0.9718\n",
            "Test accuracy: 0.9718000292778015\n"
          ]
        }
      ]
    },
    {
      "cell_type": "code",
      "metadata": {
        "id": "jdOVuO0AgBf0",
        "colab": {
          "base_uri": "https://localhost:8080/"
        },
        "outputId": "209a1198-9f28-4f3a-e769-c75473300535"
      },
      "source": [
        "model_2.summary"
      ],
      "execution_count": 30,
      "outputs": [
        {
          "output_type": "execute_result",
          "data": {
            "text/plain": [
              "<bound method Model.summary of <keras.engine.sequential.Sequential object at 0x7f4a5c1b6460>>"
            ]
          },
          "metadata": {},
          "execution_count": 30
        }
      ]
    },
    {
      "cell_type": "code",
      "metadata": {
        "id": "oykr_QswgBf_",
        "colab": {
          "base_uri": "https://localhost:8080/"
        },
        "outputId": "d2f174da-b90d-43fe-b8fb-bddec2332ac9"
      },
      "source": [
        "model_2.weights"
      ],
      "execution_count": 33,
      "outputs": [
        {
          "output_type": "execute_result",
          "data": {
            "text/plain": [
              "[<tf.Variable 'dense_layer/kernel:0' shape=(784, 128) dtype=float32, numpy=\n",
              " array([[ 0.04605488, -0.02112102,  0.00544193, ..., -0.07642879,\n",
              "          0.07260192, -0.04559   ],\n",
              "        [ 0.05196632,  0.06247952,  0.07003414, ...,  0.02329768,\n",
              "         -0.06503099, -0.07204209],\n",
              "        [ 0.01138287, -0.06668022, -0.02055186, ...,  0.03970221,\n",
              "         -0.0504384 , -0.00778686],\n",
              "        ...,\n",
              "        [-0.0334278 ,  0.06624825, -0.04107093, ..., -0.02247002,\n",
              "         -0.06986634,  0.00153488],\n",
              "        [ 0.01172297,  0.03990395, -0.04104179, ...,  0.07788268,\n",
              "         -0.03459197, -0.02871598],\n",
              "        [ 0.0017623 ,  0.04503677, -0.03395801, ..., -0.06600523,\n",
              "         -0.01491153,  0.0618358 ]], dtype=float32)>,\n",
              " <tf.Variable 'dense_layer/bias:0' shape=(128,) dtype=float32, numpy=\n",
              " array([ 2.66164280e-02, -3.42453532e-02, -1.79961380e-02, -6.39940351e-02,\n",
              "        -9.64171365e-02, -1.33526409e-02,  2.15668231e-02,  7.05638081e-02,\n",
              "        -5.11569604e-02,  2.06190422e-02,  1.15383908e-01,  2.13845018e-02,\n",
              "         3.20439190e-02,  1.12504981e-01,  1.02220304e-01,  2.41646767e-02,\n",
              "         1.03202648e-01,  1.18954247e-02, -8.15072209e-02,  6.20267242e-02,\n",
              "        -5.70550822e-02, -1.54774180e-02,  2.32867468e-02,  7.90827945e-02,\n",
              "         1.44366071e-01,  6.73094168e-02, -2.35485844e-02,  2.40257988e-03,\n",
              "         7.05236290e-03, -1.17520001e-02, -4.84355055e-02, -5.47897406e-02,\n",
              "         9.93368775e-03, -6.88039931e-04, -2.99470108e-02, -1.60202514e-02,\n",
              "        -5.16695864e-02,  7.24499580e-03, -8.87783393e-02,  4.43267860e-02,\n",
              "         2.43567470e-02, -3.84824909e-02,  1.49383279e-03,  4.99584042e-02,\n",
              "        -7.94505477e-02, -1.07012257e-01, -9.60813165e-02,  1.04311302e-01,\n",
              "         7.84655958e-02,  1.86643466e-01,  1.98081538e-01, -2.58237004e-01,\n",
              "         5.99756539e-02,  5.22335954e-02, -8.44402588e-04,  5.91602549e-02,\n",
              "         1.30181825e-02,  1.73434447e-02, -2.20898967e-02,  2.54760347e-02,\n",
              "         5.47629707e-02,  6.14618361e-02, -2.56995559e-02,  6.98951930e-02,\n",
              "         2.66663097e-02,  4.92957197e-02,  4.21433672e-02, -3.99766006e-02,\n",
              "         1.05776280e-01, -2.30746623e-02, -9.44472030e-02,  2.63861343e-02,\n",
              "         2.55035958e-03, -4.51827720e-02,  7.91777764e-03,  1.30602280e-02,\n",
              "         4.32596207e-02, -4.02887948e-02, -1.19040363e-01,  8.32681656e-02,\n",
              "        -7.34938402e-03,  6.07090071e-02,  1.44098565e-01, -1.17465295e-01,\n",
              "         2.69326624e-02, -2.59989910e-02,  5.88902794e-02,  1.37658212e-02,\n",
              "        -2.08380166e-02, -1.27737634e-02, -2.42878101e-03, -9.72303674e-02,\n",
              "         3.61617170e-02, -3.27719226e-02,  7.44181499e-02, -3.55905443e-02,\n",
              "         7.51993656e-02, -2.23887172e-02,  2.23068725e-02,  8.44167247e-02,\n",
              "         6.14628254e-04,  1.92144327e-02,  1.27492547e-02,  1.93173019e-03,\n",
              "         4.37963381e-02,  2.40435079e-02,  1.13151118e-01,  8.62318557e-05,\n",
              "         1.07538372e-01, -4.44958657e-02,  5.45030758e-02, -9.92934555e-02,\n",
              "         2.56101880e-02,  6.83527961e-02, -7.09152892e-02,  2.97651440e-02,\n",
              "        -4.41578068e-02, -1.92255471e-02, -7.20299780e-02, -3.30757946e-02,\n",
              "         1.85793921e-01,  5.35578281e-02, -5.06406687e-02,  2.57508531e-02,\n",
              "         1.10858575e-01,  3.96797508e-02, -5.84646314e-02, -2.35933289e-02],\n",
              "       dtype=float32)>,\n",
              " <tf.Variable 'dense_layer_2/kernel:0' shape=(128, 128) dtype=float32, numpy=\n",
              " array([[ 0.03657695, -0.18834741, -0.13639317, ..., -0.1893406 ,\n",
              "          0.10720701,  0.16716225],\n",
              "        [-0.12079023, -0.11692279, -0.10416675, ...,  0.13155778,\n",
              "         -0.13131858,  0.04980792],\n",
              "        [ 0.11155991, -0.02602898,  0.09917825, ..., -0.0701229 ,\n",
              "          0.20686074,  0.09213684],\n",
              "        ...,\n",
              "        [ 0.18264139, -0.11656264, -0.03371996, ..., -0.04169566,\n",
              "         -0.06277344, -0.1102742 ],\n",
              "        [ 0.06710646,  0.17667863, -0.1375688 , ...,  0.13956377,\n",
              "          0.00802241,  0.08041872],\n",
              "        [-0.07696334,  0.11316857, -0.15120679, ...,  0.13138868,\n",
              "         -0.12018146,  0.04396209]], dtype=float32)>,\n",
              " <tf.Variable 'dense_layer_2/bias:0' shape=(128,) dtype=float32, numpy=\n",
              " array([ 0.07192665,  0.12497485, -0.03786289,  0.0106672 , -0.01645534,\n",
              "         0.14939237,  0.00340658,  0.06324579,  0.05283048, -0.0365298 ,\n",
              "         0.10002765,  0.07356327,  0.09182861,  0.01911668, -0.08599487,\n",
              "         0.02209815,  0.09617121,  0.0447246 ,  0.09380226,  0.10747992,\n",
              "         0.03881599,  0.02835352,  0.046532  ,  0.01978144, -0.00092781,\n",
              "         0.1124396 ,  0.11393618,  0.01654273,  0.1547342 ,  0.08067278,\n",
              "         0.10797907,  0.05661791, -0.00840279,  0.10107344, -0.01404874,\n",
              "         0.03240925,  0.06192048, -0.01498928,  0.03020281,  0.07024338,\n",
              "         0.10148568,  0.08667728,  0.02729833,  0.04903593, -0.00542104,\n",
              "         0.14067592,  0.1012863 ,  0.09956195,  0.02419627,  0.0523972 ,\n",
              "        -0.01051103,  0.01383829, -0.03069597,  0.0123594 ,  0.14982812,\n",
              "        -0.03250135,  0.0093182 , -0.04347375,  0.00594859, -0.01768035,\n",
              "         0.01836244,  0.02798654,  0.11494357,  0.02826328,  0.16659206,\n",
              "         0.0376185 ,  0.07147506,  0.02336689,  0.05875123,  0.03772692,\n",
              "         0.02508165,  0.02296511,  0.07039826,  0.09575584,  0.02469891,\n",
              "         0.10442273,  0.05722417,  0.13529131,  0.05738749,  0.04589436,\n",
              "        -0.00959576,  0.08366269, -0.0021255 ,  0.0237235 , -0.02548833,\n",
              "         0.05524503,  0.05055907, -0.0021254 ,  0.03560267,  0.12676828,\n",
              "         0.04477018,  0.08348882,  0.03507768,  0.01019334,  0.02660826,\n",
              "        -0.04186094, -0.01563321,  0.06005789,  0.0978507 ,  0.06153354,\n",
              "         0.05243235,  0.15179954, -0.00894172, -0.02727211,  0.0376342 ,\n",
              "         0.09744345,  0.09666456,  0.10152812,  0.10883266,  0.0794009 ,\n",
              "         0.0565454 ,  0.13042337,  0.02031403,  0.00911029,  0.08355391,\n",
              "         0.07674288,  0.05630784,  0.13166182,  0.13668823, -0.01069437,\n",
              "         0.12819977,  0.1252309 ,  0.00049391, -0.01409304,  0.0802499 ,\n",
              "         0.12644158,  0.02243853,  0.015501  ], dtype=float32)>,\n",
              " <tf.Variable 'dense_layer_3/kernel:0' shape=(128, 10) dtype=float32, numpy=\n",
              " array([[-0.29149282, -0.37867403,  0.31597346, ...,  0.31533694,\n",
              "         -0.24832545,  0.28267112],\n",
              "        [ 0.15328982, -0.23610449, -0.32944122, ..., -0.27361932,\n",
              "          0.22617525,  0.22008692],\n",
              "        [ 0.16595146,  0.08965532,  0.19437464, ..., -0.11424613,\n",
              "         -0.03397224, -0.04094547],\n",
              "        ...,\n",
              "        [-0.16511439,  0.0187488 , -0.06022797, ..., -0.31653416,\n",
              "          0.21652383,  0.22845206],\n",
              "        [-0.22408193,  0.34022042, -0.00285824, ..., -0.02132693,\n",
              "         -0.12664878,  0.03469592],\n",
              "        [ 0.36694115, -0.03856128,  0.09541265, ...,  0.22577478,\n",
              "         -0.12999651,  0.14811291]], dtype=float32)>,\n",
              " <tf.Variable 'dense_layer_3/bias:0' shape=(10,) dtype=float32, numpy=\n",
              " array([-0.23395577,  0.01262261, -0.10634047, -0.05693034, -0.05086431,\n",
              "         0.10345897, -0.14478764,  0.07519965,  0.29079854,  0.11080081],\n",
              "       dtype=float32)>]"
            ]
          },
          "metadata": {},
          "execution_count": 33
        }
      ]
    },
    {
      "cell_type": "code",
      "metadata": {
        "id": "SPzS9VdLgBgK"
      },
      "source": [
        "model_2.get_config()"
      ],
      "execution_count": null,
      "outputs": []
    },
    {
      "cell_type": "code",
      "metadata": {
        "id": "WPaQm2XY0KyV"
      },
      "source": [
        "#Most common type of model is a stack of layers\n",
        "model_5 = tf.keras.Sequential()\n",
        "N_hidden = 512\n",
        "# Adds a densely-connected layer with 64 units to the model:\n",
        "model_5.add(Dense(N_hidden, name='dense_layer', input_shape=(784,), activation = 'relu'))\n",
        "# Now the model will take as input arrays of shape (*, 784)# and output arrays of shape (*, 64)\n",
        "model_5.add(Dropout(0.3))\n",
        "# Adding another dense layer:\n",
        "model_5.add(Dense(N_hidden, name='dense_layer_2', activation='relu'))\n",
        "model_5.add(Dropout(0.3))\n",
        "# After the first layer, you don't need to specify\n",
        "# the size of the input anymore:\n",
        "# Add an output layer with 10 output units (10 different classes):\n",
        "model_5.add(Dense(10, name='dense_layer_3', activation = 'softmax'))\n"
      ],
      "execution_count": 37,
      "outputs": []
    },
    {
      "cell_type": "code",
      "metadata": {
        "id": "UWFjgHFj0Kyg"
      },
      "source": [
        "# Compiling the model.\n",
        "model_5.compile(optimizer='Adam', \n",
        "              loss='categorical_crossentropy',\n",
        "              metrics=['accuracy'])"
      ],
      "execution_count": 38,
      "outputs": []
    },
    {
      "cell_type": "code",
      "metadata": {
        "id": "opXV9TbQ0Kyl",
        "colab": {
          "base_uri": "https://localhost:8080/"
        },
        "outputId": "83ff4fd0-1234-44db-b58e-d20a799c28d5"
      },
      "source": [
        "# Training the model. \n",
        "training = model_5.fit(X_train, Y_train, batch_size=64, epochs=30, validation_split=0.2) \n"
      ],
      "execution_count": 39,
      "outputs": [
        {
          "output_type": "stream",
          "name": "stdout",
          "text": [
            "Epoch 1/30\n",
            "750/750 [==============================] - 15s 19ms/step - loss: 0.2735 - accuracy: 0.9175 - val_loss: 0.1224 - val_accuracy: 0.9617\n",
            "Epoch 2/30\n",
            "750/750 [==============================] - 13s 17ms/step - loss: 0.1275 - accuracy: 0.9600 - val_loss: 0.1052 - val_accuracy: 0.9693\n",
            "Epoch 3/30\n",
            "750/750 [==============================] - 13s 17ms/step - loss: 0.0908 - accuracy: 0.9711 - val_loss: 0.0899 - val_accuracy: 0.9735\n",
            "Epoch 4/30\n",
            "750/750 [==============================] - 12s 17ms/step - loss: 0.0768 - accuracy: 0.9763 - val_loss: 0.0880 - val_accuracy: 0.9740\n",
            "Epoch 5/30\n",
            "750/750 [==============================] - 14s 19ms/step - loss: 0.0638 - accuracy: 0.9791 - val_loss: 0.0796 - val_accuracy: 0.9772\n",
            "Epoch 6/30\n",
            "750/750 [==============================] - 14s 18ms/step - loss: 0.0584 - accuracy: 0.9812 - val_loss: 0.0879 - val_accuracy: 0.9755\n",
            "Epoch 7/30\n",
            "750/750 [==============================] - 13s 17ms/step - loss: 0.0533 - accuracy: 0.9823 - val_loss: 0.0864 - val_accuracy: 0.9772\n",
            "Epoch 8/30\n",
            "750/750 [==============================] - 16s 22ms/step - loss: 0.0461 - accuracy: 0.9847 - val_loss: 0.0849 - val_accuracy: 0.9779\n",
            "Epoch 9/30\n",
            "750/750 [==============================] - 14s 18ms/step - loss: 0.0459 - accuracy: 0.9855 - val_loss: 0.0790 - val_accuracy: 0.9792\n",
            "Epoch 10/30\n",
            "750/750 [==============================] - 13s 18ms/step - loss: 0.0394 - accuracy: 0.9874 - val_loss: 0.0883 - val_accuracy: 0.9779\n",
            "Epoch 11/30\n",
            "750/750 [==============================] - 12s 17ms/step - loss: 0.0364 - accuracy: 0.9880 - val_loss: 0.0868 - val_accuracy: 0.9784\n",
            "Epoch 12/30\n",
            "750/750 [==============================] - 13s 17ms/step - loss: 0.0373 - accuracy: 0.9885 - val_loss: 0.0841 - val_accuracy: 0.9810\n",
            "Epoch 13/30\n",
            "750/750 [==============================] - 14s 18ms/step - loss: 0.0361 - accuracy: 0.9884 - val_loss: 0.0936 - val_accuracy: 0.9792\n",
            "Epoch 14/30\n",
            "750/750 [==============================] - 13s 18ms/step - loss: 0.0324 - accuracy: 0.9898 - val_loss: 0.0843 - val_accuracy: 0.9805\n",
            "Epoch 15/30\n",
            "750/750 [==============================] - 13s 18ms/step - loss: 0.0316 - accuracy: 0.9901 - val_loss: 0.0963 - val_accuracy: 0.9789\n",
            "Epoch 16/30\n",
            "750/750 [==============================] - 13s 17ms/step - loss: 0.0278 - accuracy: 0.9908 - val_loss: 0.1000 - val_accuracy: 0.9795\n",
            "Epoch 17/30\n",
            "750/750 [==============================] - 14s 18ms/step - loss: 0.0294 - accuracy: 0.9908 - val_loss: 0.0896 - val_accuracy: 0.9805\n",
            "Epoch 18/30\n",
            "750/750 [==============================] - 13s 18ms/step - loss: 0.0297 - accuracy: 0.9902 - val_loss: 0.0958 - val_accuracy: 0.9795\n",
            "Epoch 19/30\n",
            "750/750 [==============================] - 13s 17ms/step - loss: 0.0279 - accuracy: 0.9915 - val_loss: 0.0957 - val_accuracy: 0.9803\n",
            "Epoch 20/30\n",
            "750/750 [==============================] - 13s 17ms/step - loss: 0.0271 - accuracy: 0.9918 - val_loss: 0.0985 - val_accuracy: 0.9809\n",
            "Epoch 21/30\n",
            "750/750 [==============================] - 14s 18ms/step - loss: 0.0232 - accuracy: 0.9924 - val_loss: 0.0953 - val_accuracy: 0.9804\n",
            "Epoch 22/30\n",
            "750/750 [==============================] - 14s 18ms/step - loss: 0.0231 - accuracy: 0.9930 - val_loss: 0.0968 - val_accuracy: 0.9817\n",
            "Epoch 23/30\n",
            "750/750 [==============================] - 13s 18ms/step - loss: 0.0271 - accuracy: 0.9916 - val_loss: 0.1015 - val_accuracy: 0.9797\n",
            "Epoch 24/30\n",
            "750/750 [==============================] - 14s 18ms/step - loss: 0.0257 - accuracy: 0.9921 - val_loss: 0.0992 - val_accuracy: 0.9807\n",
            "Epoch 25/30\n",
            "750/750 [==============================] - 13s 17ms/step - loss: 0.0221 - accuracy: 0.9934 - val_loss: 0.1042 - val_accuracy: 0.9815\n",
            "Epoch 26/30\n",
            "750/750 [==============================] - 14s 18ms/step - loss: 0.0264 - accuracy: 0.9919 - val_loss: 0.0990 - val_accuracy: 0.9819\n",
            "Epoch 27/30\n",
            "750/750 [==============================] - 13s 18ms/step - loss: 0.0222 - accuracy: 0.9934 - val_loss: 0.0937 - val_accuracy: 0.9822\n",
            "Epoch 28/30\n",
            "750/750 [==============================] - 12s 17ms/step - loss: 0.0264 - accuracy: 0.9919 - val_loss: 0.0985 - val_accuracy: 0.9818\n",
            "Epoch 29/30\n",
            "750/750 [==============================] - 13s 17ms/step - loss: 0.0213 - accuracy: 0.9939 - val_loss: 0.1204 - val_accuracy: 0.9804\n",
            "Epoch 30/30\n",
            "750/750 [==============================] - 13s 17ms/step - loss: 0.0227 - accuracy: 0.9934 - val_loss: 0.1071 - val_accuracy: 0.9807\n"
          ]
        }
      ]
    },
    {
      "cell_type": "code",
      "metadata": {
        "id": "UHMf1HAskp9n",
        "colab": {
          "base_uri": "https://localhost:8080/",
          "height": 944
        },
        "outputId": "31ffee2b-d664-4f49-cf5c-395b6109320e"
      },
      "source": [
        "import matplotlib.pyplot as plt\n",
        "%matplotlib inline\n",
        "# list all data in training\n",
        "print(training.history.keys())\n",
        "# summarize training for accuracy\n",
        "plt.plot(training.history['accuracy'])\n",
        "plt.plot(training.history['val_accuracy'])\n",
        "plt.title('model accuracy')\n",
        "plt.ylabel('accuracy')\n",
        "plt.xlabel('epoch')\n",
        "plt.legend(['train', 'test'], loc='upper left')\n",
        "plt.show()\n",
        "# summarize traning for loss\n",
        "plt.plot(training.history['loss'])\n",
        "plt.plot(training.history['val_loss'])\n",
        "plt.title('model loss')\n",
        "plt.ylabel('loss')\n",
        "plt.xlabel('epoch')\n",
        "plt.legend(['train', 'test'], loc='upper left')\n",
        "plt.show()"
      ],
      "execution_count": 40,
      "outputs": [
        {
          "output_type": "stream",
          "name": "stdout",
          "text": [
            "dict_keys(['loss', 'accuracy', 'val_loss', 'val_accuracy'])\n"
          ]
        },
        {
          "output_type": "display_data",
          "data": {
            "text/plain": [
              "<Figure size 640x480 with 1 Axes>"
            ],
            "image/png": "[encoded data removed]"
          },
          "metadata": {}
        },
        {
          "output_type": "display_data",
          "data": {
            "text/plain": [
              "<Figure size 640x480 with 1 Axes>"
            ],
            "image/png": "[encoded data removed]"
          },
          "metadata": {}
        }
      ]
    },
    {
      "cell_type": "code",
      "metadata": {
        "id": "e4kmSKEn0Kyv",
        "colab": {
          "base_uri": "https://localhost:8080/"
        },
        "outputId": "a4475605-7f2a-469d-9e4a-10a0aaca498b"
      },
      "source": [
        "#evaluate the model\n",
        "test_loss, test_acc = model_5.evaluate(X_test, Y_test)\n",
        "print('Test accuracy:', test_acc)"
      ],
      "execution_count": 41,
      "outputs": [
        {
          "output_type": "stream",
          "name": "stdout",
          "text": [
            "313/313 [==============================] - 2s 5ms/step - loss: 0.0976 - accuracy: 0.9822\n",
            "Test accuracy: 0.982200026512146\n"
          ]
        }
      ]
    },
    {
      "cell_type": "code",
      "metadata": {
        "id": "LVr1ZMvnkp92",
        "colab": {
          "base_uri": "https://localhost:8080/"
        },
        "outputId": "5f3550fd-3651-4749-c5d5-b4a12937d0d4"
      },
      "source": [
        "model_5.summary"
      ],
      "execution_count": 42,
      "outputs": [
        {
          "output_type": "execute_result",
          "data": {
            "text/plain": [
              "<bound method Model.summary of <keras.engine.sequential.Sequential object at 0x7f4a52b37f40>>"
            ]
          },
          "metadata": {},
          "execution_count": 42
        }
      ]
    },
    {
      "cell_type": "code",
      "metadata": {
        "id": "j76rvRmxkp-C",
        "colab": {
          "base_uri": "https://localhost:8080/"
        },
        "outputId": "ab0fe70c-9ba2-4adc-c0ae-32ca868381e0"
      },
      "source": [
        "model_5.weights"
      ],
      "execution_count": 43,
      "outputs": [
        {
          "output_type": "execute_result",
          "data": {
            "text/plain": [
              "[<tf.Variable 'dense_layer/kernel:0' shape=(784, 512) dtype=float32, numpy=\n",
              " array([[-0.05848818, -0.0002225 ,  0.01433958, ..., -0.00714723,\n",
              "         -0.05031628, -0.02568546],\n",
              "        [ 0.0013016 , -0.02676477, -0.00036054, ..., -0.03290816,\n",
              "         -0.03582861, -0.01072475],\n",
              "        [-0.06274731,  0.0192112 , -0.05135819, ..., -0.04032496,\n",
              "          0.04820924,  0.00807016],\n",
              "        ...,\n",
              "        [-0.00779768,  0.04193115, -0.02799303, ...,  0.04043949,\n",
              "         -0.05747297,  0.01992285],\n",
              "        [-0.00979681,  0.03859883,  0.02950186, ...,  0.01489012,\n",
              "          0.01479059, -0.0140312 ],\n",
              "        [-0.01461541,  0.04545809,  0.00558466, ..., -0.02114097,\n",
              "         -0.04490793,  0.04327623]], dtype=float32)>,\n",
              " <tf.Variable 'dense_layer/bias:0' shape=(512,) dtype=float32, numpy=\n",
              " array([-2.51981299e-02, -1.16029143e-01, -1.55078530e-01, -1.25434250e-01,\n",
              "         2.17723800e-03, -3.52546461e-02, -5.60789369e-02, -1.02347195e-01,\n",
              "        -4.47120182e-02, -2.31257398e-02, -1.69274658e-02, -4.86945659e-02,\n",
              "        -9.36683640e-02, -2.77452841e-02, -5.17280102e-02,  3.74603532e-02,\n",
              "        -5.16785458e-02, -3.62900607e-02, -3.02915387e-02, -6.42907098e-02,\n",
              "        -3.62954736e-02, -3.48658673e-02,  1.92293271e-01, -1.93999305e-01,\n",
              "        -1.59557611e-01,  2.10562110e-01, -7.88749605e-02,  7.37184361e-02,\n",
              "        -6.38593733e-02,  4.49933074e-02,  9.93604660e-02, -1.38538778e-02,\n",
              "        -1.42489910e-01, -3.72219458e-02, -4.10016701e-02,  7.77349249e-02,\n",
              "         5.29624186e-02, -2.86802892e-02, -4.12454009e-02, -6.27163723e-02,\n",
              "         5.98305054e-02, -1.03528813e-01, -3.20320129e-02, -1.03857499e-02,\n",
              "        -2.06990261e-02, -3.08475271e-02, -8.67148712e-02, -5.48174568e-02,\n",
              "        -1.79645494e-01, -1.12041064e-01, -1.24318533e-01, -1.61505058e-01,\n",
              "        -1.90519337e-02, -1.43705711e-01, -7.80889913e-02, -3.88376974e-02,\n",
              "        -1.06441915e-01, -2.38895386e-01,  4.74036261e-02,  1.60645898e-02,\n",
              "        -3.22025968e-03, -1.19505990e-02, -7.46901482e-02, -4.35547382e-02,\n",
              "        -1.20460922e-02,  1.53961673e-01, -2.09399927e-02, -2.56327689e-02,\n",
              "        -1.94889307e-01, -2.01905370e-01, -1.36581287e-01, -1.10645339e-01,\n",
              "        -3.44831422e-02,  7.18768314e-02,  8.68409425e-02, -5.14458604e-02,\n",
              "        -9.15486440e-02, -1.36604205e-01, -3.00867911e-02,  1.25285117e-02,\n",
              "         8.29987526e-02, -1.15255155e-01, -3.56949633e-03, -1.61404461e-02,\n",
              "        -4.37001251e-02, -1.04529317e-02,  3.91837955e-02, -9.66064781e-02,\n",
              "        -4.97577265e-02, -2.23001242e-02,  4.79417928e-02, -7.58193806e-02,\n",
              "        -3.69685255e-02, -5.13556711e-02, -2.46967282e-02, -2.43746471e-02,\n",
              "        -4.97294962e-02, -4.91373532e-04, -1.84751496e-01, -4.42319736e-02,\n",
              "        -1.85919590e-02, -4.20690216e-02, -7.84493610e-02,  1.60496812e-02,\n",
              "         2.03846112e-01, -1.11429691e-01, -1.85041294e-01,  8.62591639e-02,\n",
              "        -2.51132846e-01, -5.53628877e-02, -1.44043975e-02, -5.82722528e-03,\n",
              "        -1.17874734e-01, -4.09276038e-02, -2.67387163e-02, -6.03762362e-03,\n",
              "         5.89154288e-02, -4.30815779e-02, -1.02258585e-02, -1.11042351e-01,\n",
              "         7.71233588e-02, -3.89032923e-02, -1.00039221e-01,  4.11517769e-02,\n",
              "        -1.67155806e-02, -1.64757639e-01,  5.55249266e-02, -9.05208141e-02,\n",
              "        -1.22529350e-01, -1.47255301e-01, -4.21381146e-02, -3.80471833e-02,\n",
              "        -8.54927376e-02,  9.96044185e-03, -6.95045739e-02, -2.28009269e-01,\n",
              "        -2.38754507e-02, -8.98823366e-02, -5.55327199e-02,  2.33357307e-03,\n",
              "        -1.02886709e-03,  7.31473565e-02, -5.04513979e-02, -1.29597227e-03,\n",
              "        -4.99344766e-02, -1.16364546e-01, -2.44053341e-02,  1.93487294e-02,\n",
              "         5.87489046e-02, -4.86708200e-03,  5.25249131e-02, -3.05416249e-02,\n",
              "        -1.12518474e-01, -4.58901860e-02, -8.01935419e-02,  4.89679575e-02,\n",
              "        -8.73136669e-02,  3.13348174e-02, -1.06472082e-01,  4.35413122e-02,\n",
              "        -9.38199311e-02, -7.23212808e-02, -1.39668614e-01, -1.78393111e-01,\n",
              "        -1.31940022e-02, -1.08836107e-02, -1.59872174e-01,  2.50348100e-03,\n",
              "         1.61869943e-01,  6.96551381e-03, -1.04387231e-01,  5.66290766e-02,\n",
              "        -9.23656449e-02, -6.90689459e-02, -4.28311825e-02, -3.07055339e-02,\n",
              "         6.25982955e-02,  1.18121533e-02, -6.30967543e-02, -6.42677024e-02,\n",
              "        -1.03102148e-01,  1.10667050e-01,  6.28467724e-02, -2.80114934e-02,\n",
              "        -5.28539568e-02, -8.72578174e-02,  4.95805331e-02, -7.77715221e-02,\n",
              "        -1.48200914e-01, -1.35912925e-01, -1.64336830e-01, -5.97611852e-02,\n",
              "         1.55525252e-01, -2.15569079e-01,  3.95272523e-02, -4.56840321e-02,\n",
              "        -8.33635479e-02, -5.00912815e-02,  6.57506660e-02,  4.07689288e-02,\n",
              "        -5.18395826e-02, -1.06033415e-01, -1.16793834e-01, -7.94924274e-02,\n",
              "        -2.06548333e-01, -6.15793355e-02, -1.90210231e-02, -1.44420043e-01,\n",
              "        -1.42429784e-01, -4.39021289e-02, -3.44278812e-02, -1.48089156e-01,\n",
              "        -6.37269840e-02, -7.83976242e-02, -8.98638815e-02,  2.99990159e-02,\n",
              "         3.73732038e-02,  6.42134398e-02, -2.47709677e-02, -7.67838489e-03,\n",
              "         1.99253969e-02, -8.24646875e-02, -8.73723440e-03,  3.57931145e-02,\n",
              "         2.96297651e-02, -1.47379553e-02, -1.22240223e-01,  1.05329491e-01,\n",
              "        -1.86334297e-01, -1.01757459e-01, -1.12703718e-01, -1.14931554e-01,\n",
              "         1.05410023e-03, -2.74062693e-01, -7.62772039e-02, -9.40899998e-02,\n",
              "        -9.97318402e-02, -3.77916247e-02, -2.02375883e-03, -2.67027225e-02,\n",
              "         2.48466339e-03, -8.51452798e-02,  5.85241988e-03,  5.49238436e-02,\n",
              "        -1.62052304e-01,  1.02475114e-01, -4.18050066e-02, -1.50368754e-02,\n",
              "        -5.69194071e-02, -1.90978609e-02,  6.33398667e-02, -1.62301492e-02,\n",
              "         4.41025710e-03, -6.83052763e-02, -6.44900724e-02, -6.66956529e-02,\n",
              "        -9.04438496e-02, -7.17257112e-02, -5.80244213e-02, -6.35776147e-02,\n",
              "        -1.22688428e-01,  3.23395580e-02, -4.81718034e-02,  5.10190576e-02,\n",
              "        -5.89571297e-02, -1.33531019e-01, -1.73231512e-02, -8.49085897e-02,\n",
              "        -4.50724848e-02, -2.65148263e-02, -2.20280290e-01, -7.36512535e-04,\n",
              "         6.31035492e-02, -1.60879754e-02, -9.25114304e-02,  9.62097421e-02,\n",
              "        -1.43141851e-01,  1.30084932e-01, -5.07006049e-03, -8.98038000e-02,\n",
              "        -1.34365633e-01, -3.13663222e-02,  1.92809254e-02, -1.37821823e-01,\n",
              "         1.39629026e-03,  1.37767509e-01,  3.31374742e-02,  1.06756063e-02,\n",
              "         2.50315934e-05, -2.87240390e-02, -7.32759908e-02, -3.97313386e-02,\n",
              "         7.80715570e-02,  1.65726207e-02,  6.27174005e-02, -2.43884116e-01,\n",
              "        -4.12529185e-02,  4.96897139e-02, -6.57466352e-02, -4.70098481e-02,\n",
              "        -2.49948483e-02, -1.56378150e-01, -1.41956210e-01, -8.39198381e-02,\n",
              "        -5.23390658e-02, -7.13849738e-02,  7.15319142e-02,  4.55960855e-02,\n",
              "        -1.59938380e-01, -3.73874605e-02, -1.71637550e-01, -4.93199602e-02,\n",
              "         5.20060658e-02, -9.72998217e-02, -1.04039103e-01,  7.66804740e-02,\n",
              "        -2.58826744e-03, -1.36154577e-01, -8.83681513e-03,  7.54520018e-03,\n",
              "        -1.02433115e-01,  7.51531422e-02,  4.47291397e-02, -1.21830568e-01,\n",
              "        -1.54733673e-01,  6.94347918e-02,  3.35780121e-02,  7.49182422e-03,\n",
              "        -1.19933605e-01, -9.81992632e-02, -2.64978826e-01, -3.07721328e-02,\n",
              "        -2.94738505e-02, -6.33976310e-02,  4.85286564e-02, -5.47209866e-02,\n",
              "        -8.29629675e-02, -1.15109496e-01, -1.00527227e-01, -4.37589847e-02,\n",
              "        -2.49573383e-02, -5.97884357e-02, -3.41701806e-02, -1.34959426e-02,\n",
              "        -5.12126088e-02,  6.27459064e-02,  1.18656151e-01, -6.20395914e-02,\n",
              "         5.36789261e-02,  3.46175805e-02, -4.15595360e-02, -7.99501017e-02,\n",
              "        -4.06171679e-02, -2.41906479e-01, -7.43767321e-02, -5.95729016e-02,\n",
              "         1.15101123e-02,  2.25642901e-02, -3.56480293e-02, -5.76029578e-03,\n",
              "        -1.78894877e-01, -1.10747531e-01, -1.33837946e-02,  3.11611425e-02,\n",
              "        -4.01232159e-03,  2.44921315e-02, -9.28382427e-02, -1.02966741e-01,\n",
              "        -1.07823595e-01, -6.33721380e-03, -1.26638427e-01, -1.37207985e-01,\n",
              "        -3.39578204e-02, -4.83805835e-02,  1.30884409e-01, -1.24072626e-01,\n",
              "         4.44120467e-02, -1.70840137e-02,  1.98734142e-02,  8.57612467e-04,\n",
              "        -4.62640338e-02,  2.14571021e-02,  7.47792125e-02, -2.48851236e-02,\n",
              "        -7.87072703e-02, -3.81515287e-02, -1.26017421e-01, -5.63121848e-02,\n",
              "        -1.03261061e-01, -9.04163346e-02, -3.13130692e-02, -7.10394830e-02,\n",
              "        -9.91005450e-02,  8.98811817e-02, -4.50574271e-02, -2.50812769e-01,\n",
              "        -2.98952702e-02,  1.19386822e-01, -1.22290045e-01, -2.54426003e-02,\n",
              "         2.84475535e-02,  9.11045596e-02, -1.20892406e-01, -7.09108543e-03,\n",
              "        -2.03400403e-01,  1.02982737e-01, -1.32249698e-01, -1.21057101e-01,\n",
              "         6.33533625e-03,  2.77674645e-02,  1.21667245e-02, -3.69571149e-02,\n",
              "         8.89168605e-02, -2.57375598e-01, -2.48241410e-01, -7.75471330e-02,\n",
              "         3.45028490e-02,  6.76520094e-02, -1.68014169e-01, -1.30789220e-01,\n",
              "        -8.48826841e-02, -8.87922198e-02, -9.21757612e-03, -1.61983564e-01,\n",
              "        -7.91439321e-03, -2.57473793e-02, -1.24166690e-01,  9.36526991e-03,\n",
              "         7.65632698e-03, -1.06771365e-01, -8.39670822e-02, -1.33938773e-03,\n",
              "        -9.30021517e-03,  1.75998285e-02, -1.04377076e-01,  1.78074539e-02,\n",
              "        -1.51895871e-02, -1.35244310e-01, -6.94174245e-02,  8.84177536e-02,\n",
              "         1.28767103e-01,  2.89759189e-02, -1.11081265e-01, -3.09371110e-02,\n",
              "        -1.60372943e-01, -1.78820919e-02,  1.95230134e-02, -3.84776257e-02,\n",
              "        -8.69204872e-04, -1.23840965e-01, -1.58433523e-02, -1.32589445e-01,\n",
              "         5.88924736e-02, -2.48410739e-02,  5.02022356e-02, -5.21342386e-04,\n",
              "         7.40596885e-03,  1.13676181e-02, -1.60993174e-01, -2.81546731e-03,\n",
              "        -7.55697787e-02, -2.58095920e-01, -4.64934148e-02, -1.06257819e-01,\n",
              "        -1.15715213e-01, -3.64800054e-03, -1.22899607e-01, -2.04098418e-01,\n",
              "        -8.59462246e-02, -7.12330267e-02, -4.67048213e-02, -7.67114908e-02,\n",
              "        -2.79029272e-03,  1.16124801e-01, -3.27984504e-02, -1.17322661e-01,\n",
              "        -6.57918155e-02, -3.71062160e-02, -8.62984881e-02, -1.24772698e-01,\n",
              "         2.90179327e-02,  1.47225400e-02, -1.21660225e-01,  7.49298707e-02,\n",
              "        -2.24861074e-02,  2.82745603e-02,  2.22440828e-02, -8.08041319e-02,\n",
              "        -1.07376680e-01, -9.91520807e-02, -5.31924479e-02,  8.42267368e-03,\n",
              "        -1.91647336e-01, -1.77171022e-01,  6.47517145e-02,  5.91541119e-02,\n",
              "        -1.15552790e-01, -7.27726817e-02, -8.18172842e-02,  8.01367983e-02,\n",
              "         1.82326119e-02,  9.27338004e-02, -2.00233728e-01, -2.36152913e-02,\n",
              "        -2.00956240e-02,  7.80323371e-02, -7.90659785e-02, -7.69861788e-02,\n",
              "         5.92650548e-02, -2.66565718e-02, -1.80796862e-01,  1.38196768e-02],\n",
              "       dtype=float32)>,\n",
              " <tf.Variable 'dense_layer_2/kernel:0' shape=(512, 512) dtype=float32, numpy=\n",
              " array([[ 0.05701599, -0.05319087, -0.04884112, ...,  0.08623162,\n",
              "          0.05306693,  0.03749212],\n",
              "        [ 0.11797351,  0.10932174, -0.11981234, ...,  0.13220829,\n",
              "          0.15801752, -0.02543841],\n",
              "        [-0.24409527, -0.01861422, -0.10113536, ...,  0.0179896 ,\n",
              "         -0.0314051 ,  0.04789195],\n",
              "        ...,\n",
              "        [-0.07984693,  0.01033946, -0.01400187, ..., -0.00272776,\n",
              "          0.02065781,  0.01567272],\n",
              "        [ 0.17525963,  0.05809714,  0.10964296, ..., -0.08063335,\n",
              "          0.12470246,  0.04740661],\n",
              "        [ 0.06332937,  0.27632618, -0.00629938, ...,  0.15895051,\n",
              "         -0.28724176,  0.01722431]], dtype=float32)>,\n",
              " <tf.Variable 'dense_layer_2/bias:0' shape=(512,) dtype=float32, numpy=\n",
              " array([ 0.0891768 , -0.23818295,  0.28425473, -0.16081887, -0.16969545,\n",
              "        -0.13972123,  0.19833632, -0.07414924, -0.23507842,  0.11766271,\n",
              "         0.2532953 , -0.01755229, -0.25651377, -0.24550058,  0.08513293,\n",
              "         0.23171696, -0.28496012, -0.04518924, -0.0759423 , -0.21606484,\n",
              "         0.06656306, -0.06316175,  0.009413  , -0.18695524, -0.25433952,\n",
              "         0.14299099, -0.22504316, -0.17621912, -0.35811144, -0.05688923,\n",
              "         0.06375866, -0.1160102 , -0.17385428,  0.08771551,  0.14375316,\n",
              "        -0.01168466,  0.03347454, -0.40956047, -0.25568643,  0.25755128,\n",
              "        -0.11888711, -0.01276434, -0.21290708,  0.03864809, -0.07235581,\n",
              "        -0.30386657, -0.19937368,  0.06815979,  0.09162632, -0.1398937 ,\n",
              "        -0.27470195, -0.283132  , -0.0873067 , -0.1424171 ,  0.17325641,\n",
              "        -0.23374726, -0.15591808, -0.00280406,  0.13597566, -0.18551934,\n",
              "         0.00155385, -0.15957855, -0.02141075, -0.21655403, -0.32766432,\n",
              "        -0.18418807, -0.02590626, -0.21246405,  0.00645402,  0.02312277,\n",
              "         0.16984564, -0.4195255 , -0.22757305,  0.10890741, -0.00949637,\n",
              "         0.1525123 , -0.07066528, -0.07091648, -0.06907689, -0.15488102,\n",
              "         0.13197477,  0.03840018, -0.35798985, -0.17321128,  0.03502136,\n",
              "        -0.39409256, -0.15371774, -0.3128938 ,  0.13984296, -0.04870849,\n",
              "        -0.29038906, -0.02852621, -0.26141104,  0.10307852, -0.13503022,\n",
              "        -0.29652664,  0.15469481, -0.06729885,  0.05362138, -0.18872845,\n",
              "        -0.03003183, -0.19064577,  0.18148728,  0.18508172, -0.12526767,\n",
              "         0.03626813, -0.22124965, -0.322171  , -0.1465493 ,  0.02748321,\n",
              "         0.13003048, -0.2305333 , -0.26396215, -0.24946521, -0.19071895,\n",
              "        -0.04889582, -0.17875594, -0.16360454, -0.30367365, -0.10367365,\n",
              "        -0.00393759, -0.24966332, -0.05733807, -0.10052636,  0.12978299,\n",
              "         0.00064357,  0.00408923, -0.02485931,  0.18228109, -0.33337533,\n",
              "        -0.38906065, -0.11240468,  0.07780524, -0.42878285, -0.09450939,\n",
              "        -0.2096169 ,  0.13892572,  0.18343541, -0.38273194,  0.21766022,\n",
              "         0.02647674, -0.00303544, -0.27598065, -0.11181607, -0.1785792 ,\n",
              "        -0.19102024, -0.16817096, -0.2672748 , -0.14790665,  0.16205686,\n",
              "        -0.06708415, -0.0392232 , -0.45900145,  0.12057696, -0.26407698,\n",
              "         0.01614556, -0.21441318, -0.04391948, -0.2224604 ,  0.04345578,\n",
              "         0.04441397, -0.2408412 ,  0.00526151,  0.11289816,  0.24794587,\n",
              "         0.25110897,  0.05092909, -0.11384137, -0.13640948, -0.24449551,\n",
              "         0.00662705, -0.26848274, -0.26983288, -0.16069575,  0.14197078,\n",
              "         0.02963847, -0.509652  ,  0.00107084, -0.36678812, -0.1342251 ,\n",
              "        -0.24307397,  0.14241466, -0.27742225,  0.16472003, -0.26588267,\n",
              "        -0.2624401 ,  0.0067241 ,  0.03541798, -0.3272621 , -0.16404538,\n",
              "        -0.06183707,  0.02067952, -0.35754055,  0.1706898 , -0.10396465,\n",
              "         0.27407682, -0.08763566,  0.0368126 ,  0.0969342 , -0.12376954,\n",
              "        -0.09729286, -0.31657556,  0.07061604, -0.2387145 , -0.17687327,\n",
              "        -0.16561201, -0.4325196 , -0.08157463, -0.17606683, -0.226447  ,\n",
              "         0.09951931,  0.39983594, -0.11621931, -0.32778946, -0.12667061,\n",
              "        -0.01149556, -0.00357312, -0.26945353, -0.28604764, -0.09143366,\n",
              "         0.07143008, -0.17171514, -0.20026821, -0.28939593,  0.05469351,\n",
              "         0.2296036 , -0.15303676, -0.33061343, -0.17588098, -0.12318462,\n",
              "         0.11561383, -0.19150817,  0.13354029, -0.41570207,  0.06460601,\n",
              "        -0.00777754, -0.16090925, -0.03798306,  0.02526661,  0.11262515,\n",
              "        -0.2044712 ,  0.01334106,  0.22880833, -0.07089049, -0.01246522,\n",
              "        -0.32795358, -0.15731858,  0.07832523,  0.35728762, -0.16045326,\n",
              "        -0.04685958, -0.05440415, -0.08699369, -0.05344593, -0.34765208,\n",
              "        -0.01389543, -0.18308534, -0.3880742 , -0.12833586, -0.02827824,\n",
              "         0.09494779, -0.03196485,  0.09032247, -0.10619108,  0.30859604,\n",
              "        -0.05232676,  0.17896314,  0.02942447, -0.26572752, -0.22693206,\n",
              "        -0.22238465, -0.02159172, -0.12193803,  0.1718681 , -0.2695638 ,\n",
              "        -0.12291706, -0.22480063, -0.03999233,  0.05079276, -0.07807371,\n",
              "        -0.08840507,  0.07556073, -0.37679037,  0.01157142, -0.14718811,\n",
              "        -0.14657913, -0.31146756, -0.0457317 , -0.20972025,  0.09653147,\n",
              "        -0.15072718, -0.14356133,  0.03589211,  0.27115962, -0.03036875,\n",
              "        -0.0022422 , -0.22493656, -0.33579016, -0.25032535,  0.08082376,\n",
              "        -0.16009018, -0.04263483, -0.00646131,  0.08012753, -0.13182037,\n",
              "        -0.12549867,  0.22576177, -0.25268227, -0.08764448,  0.12888134,\n",
              "        -0.35050598, -0.15774688,  0.05908241, -0.1601579 , -0.11093737,\n",
              "        -0.00306533, -0.32872877, -0.12979515, -0.04295744, -0.28502062,\n",
              "        -0.11373828, -0.07431727,  0.02968284, -0.19585589,  0.34083423,\n",
              "        -0.17969793,  0.21340455, -0.23157078,  0.07096367,  0.10298017,\n",
              "         0.13637091, -0.26040766, -0.20659037, -0.23017259,  0.27199152,\n",
              "         0.23205227, -0.37458792, -0.33634943, -0.26010013, -0.18431441,\n",
              "        -0.01108115, -0.03348731, -0.12400035, -0.16188975, -0.33778363,\n",
              "         0.04642301, -0.20882516, -0.14155835, -0.25456995, -0.10796738,\n",
              "        -0.1217256 ,  0.08220772,  0.08380306, -0.23720793, -0.13994455,\n",
              "        -0.23861024, -0.25672138, -0.15870117, -0.28248218, -0.02121587,\n",
              "         0.09608814, -0.05195119, -0.05734393, -0.28757688, -0.1192458 ,\n",
              "        -0.1224758 , -0.07543993, -0.39433733, -0.08949468, -0.15028495,\n",
              "         0.00362811,  0.1799972 , -0.26166758, -0.18636817, -0.3149078 ,\n",
              "        -0.12309302,  0.24612744, -0.28292754, -0.15263678, -0.09789293,\n",
              "        -0.079149  , -0.10132428,  0.06030782, -0.04118411,  0.02408858,\n",
              "         0.09998926, -0.177791  , -0.06165941, -0.20606156, -0.31072778,\n",
              "        -0.37589523, -0.345066  ,  0.03287129, -0.00891317, -0.15223254,\n",
              "        -0.03537978, -0.16731025,  0.24847545, -0.35182816, -0.29356107,\n",
              "        -0.36128134, -0.04989754, -0.21716131, -0.04060719, -0.2896067 ,\n",
              "        -0.22564363, -0.15588716,  0.34086043, -0.16793928, -0.26780516,\n",
              "        -0.080131  , -0.05033009, -0.15689501, -0.11669665, -0.16234866,\n",
              "        -0.03501721,  0.04762654, -0.2024793 , -0.18119156, -0.1351431 ,\n",
              "        -0.0916703 , -0.10377609, -0.03615257, -0.09288222, -0.41047353,\n",
              "        -0.07979057,  0.1190132 , -0.22999199, -0.14560269,  0.00210176,\n",
              "        -0.12596115, -0.09447363, -0.0092241 , -0.14105842, -0.09355099,\n",
              "         0.07177295, -0.11814149,  0.07982684,  0.06748983,  0.14601485,\n",
              "        -0.19794357,  0.19207357, -0.32531255, -0.0744122 , -0.0709819 ,\n",
              "         0.04162987, -0.08912207,  0.09244134,  0.07972395,  0.16181804,\n",
              "        -0.268499  , -0.13948387, -0.22672911, -0.2661487 , -0.20854181,\n",
              "        -0.10623088, -0.12069907, -0.15087448, -0.19665061, -0.20938183,\n",
              "        -0.36283308, -0.06251445, -0.21964115, -0.27800328, -0.16919938,\n",
              "        -0.08455024, -0.22463492, -0.26136678, -0.17067629, -0.03379321,\n",
              "        -0.10723346,  0.05552366, -0.20608282,  0.01534082,  0.24423675,\n",
              "        -0.05307386,  0.10126103, -0.21398401, -0.04896607,  0.14419718,\n",
              "         0.2396532 ,  0.14252053, -0.06504896, -0.26039755,  0.03300421,\n",
              "        -0.25164887, -0.00957207,  0.1362377 , -0.12168433, -0.20946275,\n",
              "         0.12728359, -0.0511836 , -0.23521794, -0.19179453, -0.17454554,\n",
              "        -0.20990075, -0.3467267 ,  0.2748601 , -0.2498742 , -0.20696354,\n",
              "        -0.12545651, -0.22067545, -0.23187195, -0.1875907 ,  0.09093688,\n",
              "         0.06897016, -0.10274785, -0.39822677,  0.0023422 , -0.1303354 ,\n",
              "        -0.10625119,  0.06950454], dtype=float32)>,\n",
              " <tf.Variable 'dense_layer_3/kernel:0' shape=(512, 10) dtype=float32, numpy=\n",
              " array([[-0.24331112, -0.16228096, -0.25262746, ..., -0.16324486,\n",
              "          0.01188944,  0.06200394],\n",
              "        [-0.10085735, -0.12542833,  0.1498218 , ...,  0.08310971,\n",
              "          0.04965262, -0.3355984 ],\n",
              "        [ 0.18767513,  0.14953744, -0.1359299 , ..., -0.25986525,\n",
              "          0.08083621, -0.22496141],\n",
              "        ...,\n",
              "        [-0.15004909,  0.05976365,  0.1164946 , ...,  0.11563917,\n",
              "          0.07616917, -0.21693072],\n",
              "        [-0.05220007,  0.004388  , -0.02077387, ..., -0.1034849 ,\n",
              "         -0.09773532,  0.08898085],\n",
              "        [-0.31337428,  0.00194316,  0.11759676, ...,  0.10532002,\n",
              "          0.0813782 ,  0.02380137]], dtype=float32)>,\n",
              " <tf.Variable 'dense_layer_3/bias:0' shape=(10,) dtype=float32, numpy=\n",
              " array([ 0.08603942, -0.16238147, -0.14843568, -0.10982081, -0.11731213,\n",
              "        -0.17782235, -0.14541836, -0.22840403,  0.6325312 ,  0.15602586],\n",
              "       dtype=float32)>]"
            ]
          },
          "metadata": {},
          "execution_count": 43
        }
      ]
    },
    {
      "cell_type": "code",
      "metadata": {
        "id": "0cV3gfkLkp-M",
        "colab": {
          "base_uri": "https://localhost:8080/"
        },
        "outputId": "9dc8b6a5-92b7-47cb-a613-f5c444df8f3f"
      },
      "source": [
        "model_5.get_config()"
      ],
      "execution_count": 44,
      "outputs": [
        {
          "output_type": "execute_result",
          "data": {
            "text/plain": [
              "{'name': 'sequential_3',\n",
              " 'layers': [{'class_name': 'InputLayer',\n",
              "   'config': {'batch_input_shape': (None, 784),\n",
              "    'dtype': 'float32',\n",
              "    'sparse': False,\n",
              "    'ragged': False,\n",
              "    'name': 'dense_layer_input'}},\n",
              "  {'class_name': 'Dense',\n",
              "   'config': {'name': 'dense_layer',\n",
              "    'trainable': True,\n",
              "    'dtype': 'float32',\n",
              "    'batch_input_shape': (None, 784),\n",
              "    'units': 512,\n",
              "    'activation': 'relu',\n",
              "    'use_bias': True,\n",
              "    'kernel_initializer': {'class_name': 'GlorotUniform',\n",
              "     'config': {'seed': None}},\n",
              "    'bias_initializer': {'class_name': 'Zeros', 'config': {}},\n",
              "    'kernel_regularizer': None,\n",
              "    'bias_regularizer': None,\n",
              "    'activity_regularizer': None,\n",
              "    'kernel_constraint': None,\n",
              "    'bias_constraint': None}},\n",
              "  {'class_name': 'Dropout',\n",
              "   'config': {'name': 'dropout_2',\n",
              "    'trainable': True,\n",
              "    'dtype': 'float32',\n",
              "    'rate': 0.3,\n",
              "    'noise_shape': None,\n",
              "    'seed': None}},\n",
              "  {'class_name': 'Dense',\n",
              "   'config': {'name': 'dense_layer_2',\n",
              "    'trainable': True,\n",
              "    'dtype': 'float32',\n",
              "    'units': 512,\n",
              "    'activation': 'relu',\n",
              "    'use_bias': True,\n",
              "    'kernel_initializer': {'class_name': 'GlorotUniform',\n",
              "     'config': {'seed': None}},\n",
              "    'bias_initializer': {'class_name': 'Zeros', 'config': {}},\n",
              "    'kernel_regularizer': None,\n",
              "    'bias_regularizer': None,\n",
              "    'activity_regularizer': None,\n",
              "    'kernel_constraint': None,\n",
              "    'bias_constraint': None}},\n",
              "  {'class_name': 'Dropout',\n",
              "   'config': {'name': 'dropout_3',\n",
              "    'trainable': True,\n",
              "    'dtype': 'float32',\n",
              "    'rate': 0.3,\n",
              "    'noise_shape': None,\n",
              "    'seed': None}},\n",
              "  {'class_name': 'Dense',\n",
              "   'config': {'name': 'dense_layer_3',\n",
              "    'trainable': True,\n",
              "    'dtype': 'float32',\n",
              "    'units': 10,\n",
              "    'activation': 'softmax',\n",
              "    'use_bias': True,\n",
              "    'kernel_initializer': {'class_name': 'GlorotUniform',\n",
              "     'config': {'seed': None}},\n",
              "    'bias_initializer': {'class_name': 'Zeros', 'config': {}},\n",
              "    'kernel_regularizer': None,\n",
              "    'bias_regularizer': None,\n",
              "    'activity_regularizer': None,\n",
              "    'kernel_constraint': None,\n",
              "    'bias_constraint': None}}]}"
            ]
          },
          "metadata": {},
          "execution_count": 44
        }
      ]
    },
    {
      "cell_type": "code",
      "metadata": {
        "id": "5Ad_vKSRiNq0"
      },
      "source": [
        "import tensorflow as tf\n",
        "\n",
        "#In Keras, layers are assembled to build models \n",
        "from tensorflow.keras.layers import Dense\n",
        "from tensorflow.keras.layers import Dropout\n",
        "\n",
        "#Most common type of model is a stack of layers\n",
        "model_6 = tf.keras.Sequential()\n",
        "N_hidden = 512\n",
        "\n",
        "# Adds a densely-connected layer with 64 units to the model:\n",
        "model_6.add(Dense(N_hidden, name='dense_layer', input_shape=(784,), activation = 'relu'))\n",
        "# Now the model will take as input arrays of shape (*, 784)# and output arrays of shape (*, 64)\n",
        "model_6.add(Dropout(0.3))\n",
        "\n",
        "# Adding another dense layer:\n",
        "model_6.add(Dense(N_hidden, name='dense_layer_2', activation='relu'))\n",
        "model_6.add(Dropout(0.3))\n",
        "\n",
        "# Adding another dense layer:\n",
        "model_6.add(Dense(N_hidden, name='dense_layer_3', activation='relu'))\n",
        "model_6.add(Dropout(0.3))\n",
        "\n",
        "# Add an output layer with 10 output units (10 different classes):\n",
        "model_6.add(Dense(10, name='dense_layer_4', activation = 'softmax'))\n"
      ],
      "execution_count": 45,
      "outputs": []
    },
    {
      "cell_type": "code",
      "metadata": {
        "id": "OgTz-7_Ai03r"
      },
      "source": [
        "# Compiling the model.\n",
        "model_6.compile(optimizer='Adam', \n",
        "              loss='categorical_crossentropy',\n",
        "              metrics=['accuracy'])"
      ],
      "execution_count": 46,
      "outputs": []
    },
    {
      "cell_type": "code",
      "metadata": {
        "id": "8wlsmatji03-",
        "colab": {
          "base_uri": "https://localhost:8080/"
        },
        "outputId": "15fd6179-5717-49ba-971f-cb5f18e2113f"
      },
      "source": [
        "# Training the model. \n",
        "training = model_6.fit(X_train, Y_train, batch_size=64, epochs=30, validation_split=0.2) "
      ],
      "execution_count": 47,
      "outputs": [
        {
          "output_type": "stream",
          "name": "stdout",
          "text": [
            "Epoch 1/30\n",
            "750/750 [==============================] - 19s 24ms/step - loss: 0.2944 - accuracy: 0.9091 - val_loss: 0.1191 - val_accuracy: 0.9638\n",
            "Epoch 2/30\n",
            "750/750 [==============================] - 18s 23ms/step - loss: 0.1428 - accuracy: 0.9574 - val_loss: 0.1018 - val_accuracy: 0.9704\n",
            "Epoch 3/30\n",
            "750/750 [==============================] - 19s 25ms/step - loss: 0.1100 - accuracy: 0.9671 - val_loss: 0.0994 - val_accuracy: 0.9712\n",
            "Epoch 4/30\n",
            "750/750 [==============================] - 18s 24ms/step - loss: 0.0918 - accuracy: 0.9727 - val_loss: 0.0967 - val_accuracy: 0.9737\n",
            "Epoch 5/30\n",
            "750/750 [==============================] - 18s 23ms/step - loss: 0.0783 - accuracy: 0.9757 - val_loss: 0.0974 - val_accuracy: 0.9737\n",
            "Epoch 6/30\n",
            "750/750 [==============================] - 18s 24ms/step - loss: 0.0719 - accuracy: 0.9779 - val_loss: 0.0912 - val_accuracy: 0.9756\n",
            "Epoch 7/30\n",
            "750/750 [==============================] - 18s 24ms/step - loss: 0.0662 - accuracy: 0.9795 - val_loss: 0.0942 - val_accuracy: 0.9744\n",
            "Epoch 8/30\n",
            "750/750 [==============================] - 19s 26ms/step - loss: 0.0606 - accuracy: 0.9811 - val_loss: 0.0887 - val_accuracy: 0.9762\n",
            "Epoch 9/30\n",
            "750/750 [==============================] - 18s 24ms/step - loss: 0.0564 - accuracy: 0.9824 - val_loss: 0.0881 - val_accuracy: 0.9784\n",
            "Epoch 10/30\n",
            "750/750 [==============================] - 18s 24ms/step - loss: 0.0501 - accuracy: 0.9849 - val_loss: 0.0873 - val_accuracy: 0.9786\n",
            "Epoch 11/30\n",
            "750/750 [==============================] - 18s 23ms/step - loss: 0.0507 - accuracy: 0.9844 - val_loss: 0.0874 - val_accuracy: 0.9803\n",
            "Epoch 12/30\n",
            "750/750 [==============================] - 18s 24ms/step - loss: 0.0484 - accuracy: 0.9849 - val_loss: 0.0949 - val_accuracy: 0.9778\n",
            "Epoch 13/30\n",
            "750/750 [==============================] - 19s 25ms/step - loss: 0.0458 - accuracy: 0.9863 - val_loss: 0.1040 - val_accuracy: 0.9756\n",
            "Epoch 14/30\n",
            "750/750 [==============================] - 18s 24ms/step - loss: 0.0423 - accuracy: 0.9871 - val_loss: 0.1003 - val_accuracy: 0.9793\n",
            "Epoch 15/30\n",
            "750/750 [==============================] - 20s 27ms/step - loss: 0.0418 - accuracy: 0.9874 - val_loss: 0.1052 - val_accuracy: 0.9759\n",
            "Epoch 16/30\n",
            "750/750 [==============================] - 17s 23ms/step - loss: 0.0398 - accuracy: 0.9875 - val_loss: 0.1007 - val_accuracy: 0.9795\n",
            "Epoch 17/30\n",
            "750/750 [==============================] - 17s 23ms/step - loss: 0.0415 - accuracy: 0.9876 - val_loss: 0.0869 - val_accuracy: 0.9808\n",
            "Epoch 18/30\n",
            "750/750 [==============================] - 19s 26ms/step - loss: 0.0307 - accuracy: 0.9904 - val_loss: 0.0943 - val_accuracy: 0.9807\n",
            "Epoch 19/30\n",
            "750/750 [==============================] - 18s 24ms/step - loss: 0.0376 - accuracy: 0.9891 - val_loss: 0.0998 - val_accuracy: 0.9783\n",
            "Epoch 20/30\n",
            "750/750 [==============================] - 18s 23ms/step - loss: 0.0359 - accuracy: 0.9894 - val_loss: 0.0988 - val_accuracy: 0.9783\n",
            "Epoch 21/30\n",
            "750/750 [==============================] - 17s 23ms/step - loss: 0.0330 - accuracy: 0.9904 - val_loss: 0.1096 - val_accuracy: 0.9787\n",
            "Epoch 22/30\n",
            "750/750 [==============================] - 19s 25ms/step - loss: 0.0345 - accuracy: 0.9905 - val_loss: 0.1011 - val_accuracy: 0.9807\n",
            "Epoch 23/30\n",
            "750/750 [==============================] - 21s 29ms/step - loss: 0.0324 - accuracy: 0.9908 - val_loss: 0.1049 - val_accuracy: 0.9813\n",
            "Epoch 24/30\n",
            "750/750 [==============================] - 18s 24ms/step - loss: 0.0336 - accuracy: 0.9906 - val_loss: 0.0893 - val_accuracy: 0.9811\n",
            "Epoch 25/30\n",
            "750/750 [==============================] - 19s 25ms/step - loss: 0.0316 - accuracy: 0.9910 - val_loss: 0.0974 - val_accuracy: 0.9816\n",
            "Epoch 26/30\n",
            "750/750 [==============================] - 19s 25ms/step - loss: 0.0277 - accuracy: 0.9915 - val_loss: 0.1103 - val_accuracy: 0.9800\n",
            "Epoch 27/30\n",
            "750/750 [==============================] - 20s 27ms/step - loss: 0.0351 - accuracy: 0.9900 - val_loss: 0.1029 - val_accuracy: 0.9803\n",
            "Epoch 28/30\n",
            "750/750 [==============================] - 19s 26ms/step - loss: 0.0300 - accuracy: 0.9912 - val_loss: 0.1128 - val_accuracy: 0.9811\n",
            "Epoch 29/30\n",
            "750/750 [==============================] - 19s 25ms/step - loss: 0.0276 - accuracy: 0.9926 - val_loss: 0.0981 - val_accuracy: 0.9813\n",
            "Epoch 30/30\n",
            "750/750 [==============================] - 20s 27ms/step - loss: 0.0306 - accuracy: 0.9916 - val_loss: 0.1021 - val_accuracy: 0.9814\n"
          ]
        }
      ]
    },
    {
      "cell_type": "code",
      "metadata": {
        "id": "we2ZBwRui04X",
        "colab": {
          "base_uri": "https://localhost:8080/",
          "height": 944
        },
        "outputId": "22cc1282-f468-436f-894a-71dc91e7110b"
      },
      "source": [
        "import matplotlib.pyplot as plt\n",
        "%matplotlib inline\n",
        "# list all data in training\n",
        "print(training.history.keys())\n",
        "# summarize training for accuracy\n",
        "plt.plot(training.history['accuracy'])\n",
        "plt.plot(training.history['val_accuracy'])\n",
        "plt.title('model accuracy')\n",
        "plt.ylabel('accuracy')\n",
        "plt.xlabel('epoch')\n",
        "plt.legend(['train', 'test'], loc='upper left')\n",
        "plt.show()\n",
        "# summarize traning for loss\n",
        "plt.plot(training.history['loss'])\n",
        "plt.plot(training.history['val_loss'])\n",
        "plt.title('model loss')\n",
        "plt.ylabel('loss')\n",
        "plt.xlabel('epoch')\n",
        "plt.legend(['train', 'test'], loc='upper left')\n",
        "plt.show()"
      ],
      "execution_count": 48,
      "outputs": [
        {
          "output_type": "stream",
          "name": "stdout",
          "text": [
            "dict_keys(['loss', 'accuracy', 'val_loss', 'val_accuracy'])\n"
          ]
        },
        {
          "output_type": "display_data",
          "data": {
            "text/plain": [
              "<Figure size 640x480 with 1 Axes>"
            ],
            "image/png": "[encoded data removed]"
          },
          "metadata": {}
        },
        {
          "output_type": "display_data",
          "data": {
            "text/plain": [
              "<Figure size 640x480 with 1 Axes>"
            ],
            "image/png": "[encoded data removed]"
          },
          "metadata": {}
        }
      ]
    },
    {
      "cell_type": "code",
      "metadata": {
        "id": "rW_yiiBci04l",
        "colab": {
          "base_uri": "https://localhost:8080/"
        },
        "outputId": "1cc85af4-6752-457d-8246-a5d5a4dce686"
      },
      "source": [
        "#evaluate the model\n",
        "test_loss, test_acc = model_6.evaluate(X_test, Y_test)\n",
        "print('Test accuracy:', test_acc)"
      ],
      "execution_count": 49,
      "outputs": [
        {
          "output_type": "stream",
          "name": "stdout",
          "text": [
            "313/313 [==============================] - 2s 6ms/step - loss: 0.0907 - accuracy: 0.9843\n",
            "Test accuracy: 0.9843000173568726\n"
          ]
        }
      ]
    },
    {
      "cell_type": "code",
      "metadata": {
        "id": "-st6PFxmi04q",
        "colab": {
          "base_uri": "https://localhost:8080/"
        },
        "outputId": "087eb9c3-399c-4d0c-9e95-0a28a3191217"
      },
      "source": [
        "model_6.summary"
      ],
      "execution_count": 50,
      "outputs": [
        {
          "output_type": "execute_result",
          "data": {
            "text/plain": [
              "<bound method Model.summary of <keras.engine.sequential.Sequential object at 0x7f4a527f40a0>>"
            ]
          },
          "metadata": {},
          "execution_count": 50
        }
      ]
    },
    {
      "cell_type": "code",
      "metadata": {
        "id": "VVS-TuqDi04v",
        "colab": {
          "base_uri": "https://localhost:8080/"
        },
        "outputId": "dd567d5d-cad6-4072-dcaa-9de68181dea8"
      },
      "source": [
        "model_6.weights"
      ],
      "execution_count": 51,
      "outputs": [
        {
          "output_type": "execute_result",
          "data": {
            "text/plain": [
              "[<tf.Variable 'dense_layer/kernel:0' shape=(784, 512) dtype=float32, numpy=\n",
              " array([[ 0.00094154, -0.01515641, -0.02972651, ...,  0.00745801,\n",
              "          0.00217856,  0.03336954],\n",
              "        [ 0.01684355, -0.01334452,  0.02341327, ...,  0.00045366,\n",
              "         -0.05476785, -0.01776094],\n",
              "        [-0.03538051, -0.00241234,  0.04230834, ...,  0.02218446,\n",
              "         -0.04936872,  0.04806117],\n",
              "        ...,\n",
              "        [-0.01393667,  0.03157569,  0.0678267 , ..., -0.04086497,\n",
              "         -0.00743273,  0.01546323],\n",
              "        [ 0.06647201, -0.03906087,  0.0476206 , ..., -0.05211779,\n",
              "         -0.03574268, -0.04346916],\n",
              "        [ 0.00840487, -0.05603835,  0.0375305 , ..., -0.04612091,\n",
              "         -0.05418804, -0.01901898]], dtype=float32)>,\n",
              " <tf.Variable 'dense_layer/bias:0' shape=(512,) dtype=float32, numpy=\n",
              " array([-1.42476812e-01, -1.02164179e-01, -1.47957250e-01,  1.47395404e-02,\n",
              "        -1.68774724e-01, -6.09855838e-02, -7.73131549e-02, -1.98841803e-02,\n",
              "        -1.57261521e-01, -1.29442453e-01, -1.55589858e-03, -8.87710787e-03,\n",
              "        -1.22109344e-02,  1.62702263e-03, -1.64347112e-01, -4.11210246e-02,\n",
              "         2.08025593e-02, -1.30528873e-02, -5.77979349e-03, -1.73532158e-01,\n",
              "        -1.85576603e-01, -4.98337261e-02, -5.28698154e-02, -1.86264649e-01,\n",
              "         9.90780815e-02, -8.55009481e-02, -6.67998493e-02, -1.08148448e-01,\n",
              "        -3.37423198e-02, -5.72199859e-02, -1.39373779e-01, -1.20152928e-01,\n",
              "        -6.34365082e-02, -1.10207975e-01, -1.99537814e-01, -1.26392871e-01,\n",
              "        -1.82399496e-01,  1.04641803e-02, -8.14374238e-02,  2.07072664e-02,\n",
              "        -1.13236889e-01,  5.39766205e-03, -8.45081806e-02, -4.07258905e-02,\n",
              "        -2.20680516e-02,  2.32465398e-02, -7.45787621e-02,  2.47764145e-03,\n",
              "        -5.93668818e-02, -6.17264844e-02, -7.98953772e-02, -3.60111706e-02,\n",
              "        -5.34268990e-02, -2.97427960e-02, -3.54365036e-02,  1.67734437e-02,\n",
              "         1.83813758e-02, -4.26155850e-02, -8.98467302e-02, -1.00101724e-01,\n",
              "        -5.10842493e-03,  1.54336095e-01,  7.75571913e-04, -3.37642543e-02,\n",
              "         6.90625608e-02,  1.89853199e-02, -1.22496769e-01, -2.27268394e-02,\n",
              "        -7.94443116e-02, -4.24507223e-02, -3.00151035e-02,  4.14151466e-03,\n",
              "         3.04065109e-03,  2.01805048e-02, -1.79878473e-02, -3.46380249e-02,\n",
              "         4.10960615e-02, -1.14806741e-01,  2.22147796e-02, -9.48120654e-02,\n",
              "         2.38508228e-02, -6.53268173e-02, -4.81859110e-02,  1.74751729e-02,\n",
              "        -9.39858407e-02, -2.89055821e-03, -5.59372716e-02, -6.47643134e-02,\n",
              "        -1.94564089e-01, -8.52474570e-02,  2.96629965e-02, -1.03994519e-01,\n",
              "        -6.90810531e-02, -1.27823249e-01,  8.47650841e-02, -4.02633458e-01,\n",
              "         9.33613721e-03, -5.66961840e-02, -1.02424167e-01, -1.00800037e-01,\n",
              "        -2.20355717e-03, -2.58060306e-01, -9.19120312e-02, -1.75684273e-01,\n",
              "        -1.75439008e-02,  1.12807028e-01, -1.07284963e-01, -1.78777143e-01,\n",
              "        -5.66222593e-02,  1.88579932e-02, -1.55671999e-01, -8.53216052e-02,\n",
              "        -2.75394674e-02, -6.13635348e-06, -1.17952242e-01, -1.64169371e-01,\n",
              "        -1.03517018e-01, -4.65471148e-02, -1.59527779e-01,  4.45218943e-02,\n",
              "        -1.64370030e-01, -1.39707834e-01, -4.77769226e-02, -1.09771378e-01,\n",
              "        -4.79581542e-02,  1.02265395e-01, -5.15298657e-02, -4.01368998e-02,\n",
              "         8.09110776e-02, -1.56614874e-02, -2.51342114e-02, -7.86698908e-02,\n",
              "        -2.79426910e-02, -4.47030067e-02, -1.35188639e-01, -3.96945663e-02,\n",
              "         8.24601110e-03, -2.48933653e-03,  1.79657899e-02, -5.24209850e-02,\n",
              "        -6.73476383e-02,  7.55319223e-02, -1.15144879e-01, -1.57268018e-01,\n",
              "        -6.42389357e-02,  2.57905200e-02,  6.61911741e-02, -7.23662004e-02,\n",
              "        -1.14465684e-01, -7.74560124e-02, -2.59382762e-02,  3.32268812e-02,\n",
              "        -2.81504798e-03,  1.08469553e-01, -7.73519427e-02, -3.04680075e-02,\n",
              "         1.10192738e-01, -2.06431061e-01,  1.38357669e-01, -2.29259524e-02,\n",
              "         1.04144868e-02, -1.86377838e-01, -8.48384947e-02, -2.34940089e-02,\n",
              "         6.32135198e-02,  6.58709779e-02,  3.95285450e-02, -8.81459042e-02,\n",
              "        -7.86228180e-02, -1.53982118e-01, -1.89488754e-01, -3.13291289e-02,\n",
              "        -9.00482982e-02, -8.06862265e-02, -1.24251813e-01,  8.87473114e-03,\n",
              "        -5.65603701e-03, -3.87443490e-02, -1.55122634e-02, -5.02789207e-02,\n",
              "        -1.35290250e-01,  4.74581448e-03,  5.11777736e-02,  3.29433568e-02,\n",
              "        -6.73552677e-02, -5.46427332e-02, -1.90277100e-01, -1.69750135e-02,\n",
              "        -7.07057267e-02,  2.45673815e-04,  6.40284717e-02, -1.57861169e-02,\n",
              "         7.25245550e-02, -8.42577517e-02, -1.53187245e-01, -3.72694954e-02,\n",
              "         1.91948619e-02,  8.15630704e-02, -8.17973912e-02, -7.65567347e-02,\n",
              "        -2.11288810e-01, -6.48562312e-02, -8.67442340e-02, -1.35041118e-01,\n",
              "         1.59464955e-01, -3.89986522e-02, -1.15752682e-01, -1.63434055e-02,\n",
              "        -3.60761732e-02, -9.41290695e-04, -9.73043963e-02,  3.28671709e-02,\n",
              "        -2.32036691e-02, -5.71344085e-02,  1.57171786e-02,  2.23098081e-02,\n",
              "        -9.59041044e-02, -9.64450911e-02, -8.87110010e-02, -1.51037559e-01,\n",
              "        -7.20185880e-03,  1.93345267e-02,  2.27403315e-03, -1.57698512e-01,\n",
              "        -5.74157201e-02, -4.71566059e-02, -4.04524989e-02, -2.20903289e-02,\n",
              "        -1.26707479e-01,  1.08958550e-01, -1.72794670e-01,  5.63646331e-02,\n",
              "         1.72652509e-02,  4.99996878e-02, -8.95674601e-02,  6.62678927e-02,\n",
              "        -6.48594350e-02, -6.69596419e-02, -8.02260116e-02, -3.30531597e-02,\n",
              "        -9.66418386e-02, -4.54209261e-02, -7.09517077e-02, -3.46886963e-02,\n",
              "         1.43799828e-02, -3.09406854e-02, -6.57986030e-02, -7.07399845e-02,\n",
              "         9.85010993e-03,  3.29251103e-02, -2.29165163e-02,  3.78420614e-02,\n",
              "        -5.45416363e-02, -1.21318258e-01, -3.84754851e-03, -1.48048520e-01,\n",
              "        -4.52224612e-02, -1.18577912e-01, -7.60482177e-02, -1.58231571e-01,\n",
              "        -2.76525728e-02, -6.01485148e-02, -1.10798642e-01, -4.58187126e-02,\n",
              "        -1.96800113e-01, -6.38477430e-02, -5.13193198e-02, -8.10337216e-02,\n",
              "        -2.49693133e-02, -5.55498488e-02,  1.44774253e-02,  8.47107321e-02,\n",
              "        -5.08683138e-02, -6.99024275e-02, -4.95297313e-02, -2.78353870e-01,\n",
              "        -1.03368476e-01, -4.97355908e-02, -1.40174285e-01, -4.72538285e-02,\n",
              "        -6.29182160e-02, -1.14826143e-01,  1.21748289e-02, -4.52516228e-02,\n",
              "        -2.35847030e-02,  2.16806475e-02, -3.45828421e-02,  4.80475761e-02,\n",
              "        -8.12237188e-02,  6.18777517e-03, -1.21577896e-01, -4.92873751e-02,\n",
              "        -1.13636374e-01,  3.50840539e-02, -2.00057477e-01,  6.97114645e-03,\n",
              "         3.65507603e-02, -4.77120429e-02, -7.18373582e-02,  8.11905116e-02,\n",
              "        -2.17145775e-02, -1.45956323e-01, -2.99751256e-02, -2.98493411e-02,\n",
              "        -2.22239513e-02,  1.05072949e-02, -9.10825804e-02,  3.87273282e-02,\n",
              "        -1.18350342e-01,  1.79046541e-02,  6.49749674e-03, -1.64204221e-02,\n",
              "        -5.52096553e-02, -8.24830383e-02, -4.16424908e-02, -1.21107891e-01,\n",
              "        -6.79964572e-02, -4.65459451e-02,  3.42747942e-02, -4.46382426e-02,\n",
              "        -2.88984217e-02, -1.12959426e-02, -4.01424095e-02,  2.56122164e-02,\n",
              "        -1.09130703e-01, -5.97179644e-02, -6.32146522e-02, -1.45276636e-01,\n",
              "        -2.01597974e-01,  5.94374957e-03, -2.71733366e-02, -5.25909550e-02,\n",
              "        -1.57771278e-02,  5.31467646e-02,  4.84975614e-02, -7.23584890e-02,\n",
              "        -1.26267001e-01,  7.47103170e-02, -3.56322266e-02, -1.71425026e-02,\n",
              "        -1.53327405e-01, -1.00538984e-01, -3.52750393e-03, -4.89358418e-02,\n",
              "         3.32512707e-02, -9.78988111e-02,  9.36788693e-02, -6.88726306e-02,\n",
              "        -1.67462230e-01,  2.16526692e-04, -9.62038040e-02, -2.48241797e-01,\n",
              "        -5.49843274e-02, -6.18515685e-02, -1.24972835e-01, -1.58221141e-01,\n",
              "         9.12983268e-02, -3.73308249e-02,  3.58406194e-02, -1.08982481e-01,\n",
              "        -1.31287634e-01,  8.74156877e-02, -1.47861252e-02, -1.07046086e-02,\n",
              "        -7.86567852e-02,  1.03782587e-01, -4.57385853e-02,  5.04417866e-02,\n",
              "        -7.57944956e-02, -1.55548770e-02,  2.88439859e-02,  3.29267383e-02,\n",
              "        -2.33698338e-02, -6.65400773e-02, -1.14287294e-01,  9.19071808e-02,\n",
              "        -1.01655945e-01, -3.62885855e-02, -3.96558903e-02, -1.39567703e-01,\n",
              "        -1.48577407e-01, -1.55402631e-01,  6.90509658e-03, -4.00105081e-02,\n",
              "        -1.03497781e-01, -1.97194684e-02, -6.45682812e-02,  6.69285143e-03,\n",
              "        -1.41007807e-02, -1.75395429e-01, -1.00613594e-01, -7.84616172e-02,\n",
              "         2.45090667e-02,  2.94342656e-02, -9.66177806e-02, -3.93619984e-02,\n",
              "         5.75687476e-02,  4.45238054e-02, -8.68824422e-02,  1.19648259e-02,\n",
              "        -4.18638736e-02,  2.86396649e-02, -2.40273308e-02, -1.59698240e-02,\n",
              "         7.47603998e-02, -9.52225924e-02, -6.78775460e-02, -2.63976995e-02,\n",
              "        -2.13082656e-01, -1.39986977e-01, -9.97350290e-02, -8.30253437e-02,\n",
              "         2.43415564e-01, -2.61262748e-02, -1.26075879e-01, -1.09735061e-03,\n",
              "        -6.96257800e-02, -7.69938007e-02,  4.46282402e-02,  2.57399073e-03,\n",
              "        -1.29521728e-01, -6.24133237e-02, -1.43958032e-02,  1.27109274e-01,\n",
              "        -1.37800381e-01, -2.46341936e-02, -3.96243222e-02, -1.43026575e-01,\n",
              "        -6.47578537e-02, -1.12223379e-01, -2.08834708e-02, -3.35681532e-03,\n",
              "        -5.02383374e-02,  8.49422216e-02, -5.69853298e-02, -5.98419309e-02,\n",
              "        -3.73783112e-02,  1.22940026e-01, -2.43202783e-02,  2.86164675e-02,\n",
              "        -2.21665520e-02, -1.44358352e-01, -4.52298159e-03,  4.36387621e-02,\n",
              "        -1.00695260e-01,  1.46761537e-02, -5.55763394e-02, -1.57540277e-01,\n",
              "        -1.29495591e-01, -8.95968974e-02,  8.98298994e-03,  3.58420126e-02,\n",
              "        -3.24269803e-03, -1.99737951e-01,  1.97814163e-02, -1.51174128e-01,\n",
              "        -1.20236054e-01, -7.21627921e-02,  2.99892332e-02,  1.10164881e-02,\n",
              "        -1.45858064e-01,  2.12613046e-02, -4.49935161e-02, -2.02792063e-01,\n",
              "        -2.02709027e-02, -3.71305868e-02,  2.33111214e-02, -6.41159341e-02,\n",
              "        -2.76793987e-01, -1.13620006e-01,  3.83990519e-02, -4.16746661e-02,\n",
              "        -2.93123852e-02, -6.91635348e-03, -2.32398883e-02, -1.22014031e-01,\n",
              "         6.18294347e-04,  1.64069906e-02,  3.11481282e-02,  6.65848493e-04,\n",
              "        -8.34139362e-02, -1.40667006e-01,  2.29027681e-03,  3.66554521e-02,\n",
              "        -3.35988477e-02,  6.52099699e-02, -5.52463159e-02,  2.93350164e-02,\n",
              "         5.27088828e-02,  4.21070121e-02, -1.33420914e-01, -4.08343971e-02,\n",
              "         2.36607250e-03, -9.91231278e-02, -4.65500392e-02, -1.53492138e-01,\n",
              "        -4.62820008e-03, -1.18292600e-01, -1.37171283e-01, -1.02400050e-01,\n",
              "         5.78470854e-03, -1.59118861e-01, -1.62126973e-01, -6.10486716e-02,\n",
              "        -6.93598464e-02, -2.63520554e-02, -2.82264322e-01, -1.14106461e-01,\n",
              "        -1.15182966e-01,  6.57035336e-02, -1.50030538e-01, -4.96733449e-02],\n",
              "       dtype=float32)>,\n",
              " <tf.Variable 'dense_layer_2/kernel:0' shape=(512, 512) dtype=float32, numpy=\n",
              " array([[ 0.14071189, -0.32472187, -0.13696288, ...,  0.04479627,\n",
              "          0.094885  ,  0.20569943],\n",
              "        [ 0.11516666,  0.25469247, -0.05444235, ..., -0.14107703,\n",
              "          0.00189372, -0.11272783],\n",
              "        [-0.32749477,  0.02866111, -0.1167362 , ...,  0.06656708,\n",
              "          0.1541171 , -0.20594043],\n",
              "        ...,\n",
              "        [-0.10046664, -0.07280114, -0.00668353, ...,  0.04879057,\n",
              "         -0.08119606, -0.06380023],\n",
              "        [-0.23492596, -0.05693698,  0.06975789, ..., -0.17241302,\n",
              "          0.03230861, -0.04946543],\n",
              "        [-0.01578671, -0.16656582,  0.1425578 , ..., -0.06386846,\n",
              "         -0.05679377,  0.11753809]], dtype=float32)>,\n",
              " <tf.Variable 'dense_layer_2/bias:0' shape=(512,) dtype=float32, numpy=\n",
              " array([ 0.04139295, -0.35032657, -0.0524449 , -0.09211409,  0.04573989,\n",
              "        -0.2998345 , -0.08668514, -0.15947857, -0.17009479, -0.19199035,\n",
              "        -0.22613913, -0.12522912,  0.27774492, -0.21035066, -0.1368292 ,\n",
              "        -0.22540338,  0.14217411, -0.40269268, -0.10539394, -0.02399795,\n",
              "        -0.09640772, -0.24965209, -0.05436581,  0.02583215, -0.07481272,\n",
              "         0.08045214, -0.15401652, -0.09864116, -0.24556805, -0.26506215,\n",
              "        -0.01471554,  0.2966482 , -0.25348946, -0.03036509, -0.20148577,\n",
              "        -0.10514098,  0.32851562, -0.14896524, -0.14223951, -0.14188607,\n",
              "        -0.16876243, -0.14462097, -0.03903069, -0.19732735, -0.22122876,\n",
              "         0.03332937,  0.04355807,  0.04870766, -0.04283536,  0.18450858,\n",
              "        -0.29567185, -0.11399206, -0.13197246, -0.10043814, -0.19186443,\n",
              "        -0.16253929, -0.01327739, -0.22301027,  0.00165167,  0.07510874,\n",
              "        -0.20043927, -0.199705  ,  0.01694441, -0.22725753, -0.25213793,\n",
              "        -0.1800768 ,  0.12343146, -0.06531333, -0.18470286, -0.1288233 ,\n",
              "        -0.20952481, -0.17330912, -0.18531208, -0.02304772, -0.33104792,\n",
              "        -0.10366584, -0.03273355, -0.23882134, -0.23301004,  0.02359788,\n",
              "         0.22126845,  0.05119076, -0.0222057 , -0.08628231, -0.13818245,\n",
              "        -0.28844354,  0.049825  , -0.11456615,  0.13279113, -0.21015635,\n",
              "        -0.13259394, -0.15927927, -0.19907252,  0.08755227, -0.15735196,\n",
              "        -0.2652458 , -0.10049552, -0.13123848, -0.20142138,  0.132367  ,\n",
              "        -0.06028355, -0.16294514, -0.46788236, -0.1257023 , -0.24898776,\n",
              "        -0.1544945 , -0.13344404, -0.33072355,  0.29128587, -0.11341736,\n",
              "        -0.3515484 ,  0.07102872, -0.00417174, -0.13603273, -0.18116099,\n",
              "        -0.14567731,  0.1053514 , -0.21390367, -0.20822611, -0.1388951 ,\n",
              "        -0.22816291, -0.01494182, -0.2465727 , -0.2526103 ,  0.17493981,\n",
              "        -0.13778716,  0.08408276, -0.20406419, -0.00347103, -0.20228659,\n",
              "        -0.2389077 , -0.03082659, -0.2395213 , -0.15063694, -0.22036158,\n",
              "         0.25568712, -0.2302741 ,  0.08708049,  0.02781349, -0.32513803,\n",
              "        -0.19773692,  0.17356539, -0.09979665, -0.24020652,  0.12947126,\n",
              "        -0.2025276 , -0.2648157 , -0.06823507,  0.00183286, -0.22412324,\n",
              "         0.06168875, -0.12313603,  0.04883521, -0.291906  , -0.06731676,\n",
              "        -0.13283923, -0.11913004, -0.19726098, -0.32477087, -0.15253912,\n",
              "         0.08663595, -0.05910965, -0.2813001 , -0.02015334, -0.05194515,\n",
              "         0.13585667,  0.3713505 ,  0.17196575, -0.22597001, -0.09641464,\n",
              "        -0.28379658,  0.11473242, -0.26326507, -0.22498159, -0.08066515,\n",
              "         0.34721327, -0.03614826, -0.14856456, -0.04253362, -0.14174126,\n",
              "        -0.16912165, -0.269212  , -0.16418418, -0.08637305,  0.04551955,\n",
              "        -0.04073901, -0.28645203,  0.00702839,  0.10010336, -0.12036792,\n",
              "         0.05110246, -0.16131341, -0.15646285, -0.24087597,  0.07820061,\n",
              "         0.15343115, -0.20615992, -0.17949584, -0.28100404, -0.02368121,\n",
              "        -0.3264463 , -0.13977073, -0.28533217,  0.06684796, -0.17554086,\n",
              "        -0.2603504 , -0.17949659, -0.22631659,  0.18496677, -0.35011935,\n",
              "        -0.1056103 , -0.03457658,  0.09089515, -0.00958501,  0.08264751,\n",
              "        -0.21279204,  0.07935811, -0.1210103 , -0.25204653, -0.23206948,\n",
              "        -0.3121648 , -0.15860236, -0.11881683, -0.16709912, -0.08979011,\n",
              "        -0.2381452 ,  0.18686774,  0.13806067, -0.19235447, -0.30468604,\n",
              "        -0.00065007, -0.05127239, -0.10304923, -0.280856  , -0.07192845,\n",
              "         0.28833115, -0.10306066, -0.1818624 , -0.251824  , -0.17514123,\n",
              "         0.27984408, -0.10803336, -0.04863449, -0.22911665, -0.09210479,\n",
              "        -0.09300563, -0.05250712, -0.11249716, -0.26029754,  0.1422606 ,\n",
              "        -0.30952868, -0.17392439, -0.11451942, -0.02559187, -0.1204332 ,\n",
              "        -0.09347424, -0.1949262 , -0.40755138, -0.13670518, -0.08294819,\n",
              "        -0.09351973, -0.2732073 , -0.2713841 , -0.02872083, -0.04142816,\n",
              "        -0.21600994, -0.11046002,  0.09354199, -0.15162563, -0.24525662,\n",
              "         0.01026991, -0.15391383,  0.12999646,  0.09921433, -0.16926745,\n",
              "        -0.22599488, -0.11886591, -0.12956072, -0.35301122, -0.20424302,\n",
              "        -0.05472911, -0.20019752, -0.1615265 , -0.0592972 , -0.08654868,\n",
              "        -0.13530321,  0.10316535, -0.23731464, -0.2385107 , -0.2521723 ,\n",
              "        -0.07446174, -0.06027332,  0.20265225,  0.06641146, -0.20530535,\n",
              "        -0.16658798, -0.07215297,  0.01226651,  0.04999729, -0.08452619,\n",
              "        -0.09766305,  0.07424404, -0.24344464,  0.00967083, -0.22030884,\n",
              "        -0.21579431, -0.18195194, -0.29006976, -0.18265006, -0.02236833,\n",
              "        -0.15199766, -0.1083644 , -0.05286571, -0.03473913, -0.20380981,\n",
              "        -0.12207877, -0.16684091, -0.01807826,  0.06116409, -0.00969061,\n",
              "        -0.3078427 , -0.03771042, -0.14976406, -0.19169119, -0.09898707,\n",
              "        -0.16103135, -0.07028384, -0.14028549,  0.01239999, -0.01990153,\n",
              "         0.06093459, -0.1315739 , -0.03855805, -0.1507043 , -0.16350263,\n",
              "        -0.22925074, -0.1945118 , -0.04048897, -0.1633351 , -0.01235088,\n",
              "         0.07807201, -0.03164737, -0.2523217 , -0.12500425, -0.25431046,\n",
              "        -0.12592667, -0.22171846, -0.3200136 , -0.20716427, -0.14816815,\n",
              "         0.05574725,  0.08225396, -0.01660722, -0.14623316, -0.08588954,\n",
              "        -0.0166744 , -0.18927278,  0.01910711, -0.21382873,  0.34687507,\n",
              "        -0.12570159,  0.06643271, -0.02675916, -0.04040819, -0.14865649,\n",
              "        -0.30916873, -0.03473886, -0.17973411, -0.15554681, -0.04716426,\n",
              "        -0.27532473, -0.24172148, -0.04173276, -0.3234701 , -0.05598627,\n",
              "        -0.1273365 ,  0.06271706, -0.2075562 ,  0.14426094,  0.1410263 ,\n",
              "        -0.1319109 ,  0.19971892, -0.21778756, -0.12094937, -0.09704545,\n",
              "        -0.03691746, -0.277768  , -0.1653064 , -0.07798079, -0.23709475,\n",
              "        -0.11043151, -0.20615698, -0.16017388, -0.13398223,  0.14253941,\n",
              "        -0.00776226, -0.01187158, -0.36211658, -0.24265173, -0.19056213,\n",
              "        -0.3733569 ,  0.04466821, -0.1698734 ,  0.06108609,  0.04431406,\n",
              "        -0.20437594,  0.00268015, -0.02071573,  0.00764697, -0.19062278,\n",
              "        -0.00942174, -0.20414704,  0.05971158, -0.13176748, -0.22784239,\n",
              "        -0.10508264, -0.02554741,  0.19569862, -0.17143044,  0.04077243,\n",
              "        -0.24698958, -0.3818994 , -0.37481865, -0.16912563, -0.19983554,\n",
              "        -0.18091343, -0.04556985, -0.05262158,  0.3921642 ,  0.07343696,\n",
              "         0.09453222, -0.24534336,  0.42774788, -0.19734181,  0.2711207 ,\n",
              "        -0.19213015, -0.11242197,  0.12614165, -0.15936247, -0.24721095,\n",
              "        -0.13613366,  0.09729858,  0.06895398, -0.24576806, -0.02334297,\n",
              "        -0.0921269 ,  0.11034213, -0.17170547, -0.03909669, -0.23777333,\n",
              "        -0.28445557, -0.07602382, -0.08906404,  0.14662142, -0.06388133,\n",
              "        -0.25136465,  0.326329  , -0.25349376, -0.24461026, -0.00423796,\n",
              "        -0.06421619, -0.16053484, -0.17069227,  0.13311133, -0.14440615,\n",
              "        -0.21207199, -0.24208318, -0.2713241 , -0.17094682, -0.15934858,\n",
              "        -0.1174576 , -0.13661094,  0.01320168, -0.3331638 , -0.1335934 ,\n",
              "        -0.23261124, -0.11038595,  0.16914536, -0.14675505, -0.12844975,\n",
              "         0.03229656,  0.14413622, -0.00390931,  0.4096022 , -0.02944881,\n",
              "        -0.12927867,  0.180837  , -0.22272794,  0.14575818, -0.40994868,\n",
              "        -0.11208656, -0.05626364, -0.20010726,  0.05505078, -0.09775908,\n",
              "        -0.0225892 ,  0.00458609, -0.07643978, -0.1428991 ,  0.04742827,\n",
              "        -0.1497653 ,  0.27628922, -0.14856541, -0.22589138, -0.16324566,\n",
              "        -0.26425722,  0.04164241, -0.224623  , -0.20680729, -0.05855463,\n",
              "        -0.03958172,  0.17271677], dtype=float32)>,\n",
              " <tf.Variable 'dense_layer_3/kernel:0' shape=(512, 512) dtype=float32, numpy=\n",
              " array([[-0.15202124,  0.18833196, -0.15283228, ..., -0.01680968,\n",
              "          0.07140388,  0.06304401],\n",
              "        [-0.12648651,  0.00706436,  0.01313802, ...,  0.09472883,\n",
              "          0.0913751 ,  0.07669176],\n",
              "        [ 0.07671778, -0.08826588,  0.11078633, ..., -0.02213714,\n",
              "         -0.20202857,  0.01686009],\n",
              "        ...,\n",
              "        [-0.03583508,  0.00464555, -0.1371569 , ..., -0.02959293,\n",
              "         -0.0815931 , -0.18360756],\n",
              "        [-0.07468663,  0.00127383, -0.19786333, ..., -0.09316155,\n",
              "          0.02597725, -0.28776956],\n",
              "        [-0.12990096, -0.01609313,  0.04160618, ..., -0.10282126,\n",
              "         -0.11024957,  0.09372896]], dtype=float32)>,\n",
              " <tf.Variable 'dense_layer_3/bias:0' shape=(512,) dtype=float32, numpy=\n",
              " array([-0.15148976,  0.21689562, -0.04582592, -0.06052886,  0.00846914,\n",
              "         0.10528614, -0.17220506, -0.07600555, -0.00752302,  0.01147133,\n",
              "         0.03878455,  0.02024344, -0.04426066, -0.07584429, -0.08208939,\n",
              "        -0.2138212 , -0.15269604,  0.01538083, -0.18125999,  0.02452592,\n",
              "        -0.05706571,  0.02802796, -0.23073287,  0.06182958,  0.18296786,\n",
              "        -0.05882836,  0.01120904, -0.14034621, -0.01513033, -0.10544285,\n",
              "        -0.19959621, -0.10305113,  0.03707133,  0.23563232, -0.03842223,\n",
              "         0.26910916,  0.02760735, -0.06894242,  0.13218959, -0.22320221,\n",
              "        -0.10677377,  0.3701254 , -0.11520678, -0.09280534, -0.06270716,\n",
              "         0.01942207, -0.13526435,  0.01305998,  0.08977471,  0.00715107,\n",
              "         0.19166268, -0.22632308,  0.18505405, -0.1600822 , -0.14085987,\n",
              "        -0.15873538, -0.08754078, -0.20596945, -0.18666151, -0.14688753,\n",
              "        -0.19076021,  0.15688644, -0.10048177, -0.03155587, -0.21187973,\n",
              "        -0.24129373, -0.11036285, -0.12914011, -0.03210039, -0.16640826,\n",
              "         0.23751692, -0.15438978, -0.166257  ,  0.16623358, -0.17197198,\n",
              "        -0.09705409, -0.21253802, -0.26221812,  0.2228313 , -0.19916762,\n",
              "        -0.20723887, -0.05962547, -0.01444036, -0.0295109 , -0.191404  ,\n",
              "        -0.07749345, -0.09519522, -0.08692147,  0.03287454, -0.2034054 ,\n",
              "        -0.278369  , -0.19426972, -0.11954518,  0.12729384, -0.15661944,\n",
              "         0.08143841, -0.21208775, -0.2085471 ,  0.08655334, -0.1339056 ,\n",
              "         0.06154859, -0.01821889, -0.10886486, -0.14309359, -0.07746823,\n",
              "         0.15332346, -0.28320858, -0.11613702,  0.20425592, -0.01134112,\n",
              "        -0.11827496, -0.04753561, -0.2642434 , -0.06185998,  0.2914315 ,\n",
              "        -0.22479515, -0.02906862,  0.04193242, -0.04299113, -0.15869647,\n",
              "        -0.06031923,  0.06155048, -0.03389695, -0.07621871, -0.13787523,\n",
              "         0.1840066 , -0.02347228, -0.19892429, -0.13994619, -0.08364456,\n",
              "        -0.11302557, -0.15415944, -0.19520453, -0.12421057, -0.23082054,\n",
              "        -0.19574523, -0.1200643 , -0.06777502, -0.19120076, -0.09598241,\n",
              "        -0.09410332, -0.18946019,  0.01624894, -0.14102964, -0.13574502,\n",
              "        -0.20620394, -0.14484075, -0.17469564, -0.05227587, -0.15853801,\n",
              "         0.07558599, -0.10537447, -0.24587128, -0.0585334 , -0.09166789,\n",
              "        -0.11973023, -0.2110699 , -0.22518815,  0.08478209, -0.13073201,\n",
              "        -0.10885455, -0.14100608, -0.15111926,  0.23214737, -0.02328703,\n",
              "        -0.0720327 , -0.0394542 ,  0.17638582, -0.00265018, -0.1986041 ,\n",
              "        -0.04163187, -0.02663349,  0.17176493,  0.2944848 , -0.16963337,\n",
              "         0.00289269, -0.03589986, -0.0625013 , -0.12615108, -0.08877829,\n",
              "        -0.19115688,  0.05277611, -0.11708865,  0.18992865, -0.18806796,\n",
              "        -0.08889451,  0.00649817, -0.22255333, -0.2083744 , -0.06921346,\n",
              "        -0.25005683,  0.01225829, -0.06627768, -0.21208061, -0.15234736,\n",
              "        -0.20374274, -0.01218397, -0.05763081,  0.07562652,  0.23520489,\n",
              "        -0.1391678 , -0.11465371,  0.26309228, -0.29908216, -0.09317131,\n",
              "         0.10597908,  0.14804406, -0.22758234,  0.03280361, -0.14668606,\n",
              "        -0.19417323, -0.32457855, -0.04603899, -0.19065754, -0.25713086,\n",
              "        -0.07910655, -0.04188525, -0.24590829, -0.10038979, -0.01420232,\n",
              "         0.18649368, -0.06304418, -0.21495982, -0.01476696, -0.10530492,\n",
              "        -0.10240243, -0.2839866 , -0.02417636, -0.24206957, -0.0221937 ,\n",
              "         0.14115974, -0.17638269, -0.18145582, -0.096649  , -0.05704857,\n",
              "         0.20260046, -0.24023779, -0.28327706, -0.00444941,  0.2517684 ,\n",
              "        -0.14267972, -0.18570022, -0.15596591, -0.0223823 , -0.29017937,\n",
              "         0.14840521,  0.1606463 ,  0.11060632, -0.16993517, -0.17734961,\n",
              "        -0.27177525, -0.1318211 , -0.05108945, -0.24713804,  0.00796036,\n",
              "         0.02146065, -0.09509321, -0.18665493,  0.18953085, -0.0941776 ,\n",
              "        -0.192877  ,  0.09722234,  0.05762939, -0.16589677, -0.03684898,\n",
              "         0.08099768, -0.06267585, -0.17161801, -0.22428522, -0.18737677,\n",
              "        -0.25422993, -0.16963966, -0.12014228,  0.1347767 ,  0.19483303,\n",
              "        -0.02410792, -0.09788563, -0.18450235, -0.02349147, -0.0114882 ,\n",
              "        -0.12654161, -0.02249249, -0.074678  , -0.12134362, -0.09046414,\n",
              "        -0.1607091 , -0.33391207,  0.23450682, -0.22969583,  0.09859158,\n",
              "        -0.04018908,  0.01405645, -0.1095629 ,  0.04907851, -0.24733225,\n",
              "         0.04370831, -0.02217169,  0.04848304, -0.16851828, -0.11990343,\n",
              "        -0.2165975 ,  0.14794551, -0.23414063, -0.18577296, -0.2353635 ,\n",
              "        -0.16397361, -0.12393385,  0.08792271,  0.01602023, -0.04029211,\n",
              "        -0.07953556, -0.13148001, -0.07554894,  0.2203265 , -0.13871495,\n",
              "        -0.0496875 , -0.15566668, -0.07175352,  0.07134517,  0.0292287 ,\n",
              "        -0.12909827, -0.308078  , -0.05640413, -0.19415893, -0.03496026,\n",
              "        -0.11462827,  0.18698914, -0.00468079, -0.13733424, -0.07764422,\n",
              "        -0.12188196, -0.21114555, -0.03110209, -0.17062348, -0.19475475,\n",
              "         0.08174855, -0.15628588,  0.0301461 ,  0.20656514, -0.10136751,\n",
              "        -0.19386108, -0.15735002, -0.14508799, -0.28588256,  0.01512419,\n",
              "        -0.08191881, -0.13358186, -0.024197  , -0.10979895, -0.1598628 ,\n",
              "        -0.103232  , -0.05981692,  0.02571613, -0.12984689,  0.04123667,\n",
              "        -0.12717718,  0.07342025, -0.14483449,  0.05446731,  0.11993545,\n",
              "        -0.0577948 ,  0.08007571, -0.07318245,  0.16592006, -0.19698144,\n",
              "        -0.1334765 , -0.2208338 , -0.12006956, -0.15422706, -0.28283384,\n",
              "        -0.02805641, -0.16588241, -0.09387775, -0.2091555 ,  0.04119043,\n",
              "        -0.19632515,  0.00772511, -0.09051662, -0.24516112, -0.15849616,\n",
              "        -0.1299218 , -0.18992957,  0.02976271,  0.10653751, -0.13366698,\n",
              "        -0.14100179, -0.22043392,  0.12161021, -0.06581005, -0.25067574,\n",
              "         0.12200671, -0.10673547,  0.07310095, -0.08439491, -0.15739529,\n",
              "        -0.17152317, -0.20804265,  0.05573216, -0.1343328 ,  0.15492891,\n",
              "        -0.03717804,  0.00528189, -0.09051045,  0.2548788 , -0.12143149,\n",
              "        -0.05555373, -0.15551923, -0.13019092, -0.02866338,  0.27245075,\n",
              "        -0.09564415, -0.12625359, -0.26610875, -0.24812861,  0.13868281,\n",
              "        -0.07923144, -0.05462143, -0.1996994 , -0.23370591, -0.0674099 ,\n",
              "         0.10542747,  0.11097728, -0.14765178, -0.16147323,  0.1671042 ,\n",
              "        -0.2552266 , -0.04974008, -0.14276259,  0.10351843, -0.01313215,\n",
              "        -0.09226921, -0.08303155,  0.00489784, -0.19458035,  0.00917729,\n",
              "        -0.15047126,  0.07380874, -0.20921966, -0.17950754,  0.13407223,\n",
              "        -0.09584562,  0.08071862,  0.07601677,  0.06217193, -0.01668571,\n",
              "        -0.2569526 , -0.134396  ,  0.17022796, -0.19417861, -0.02845364,\n",
              "        -0.19735461, -0.0838438 , -0.01439062,  0.14105192, -0.23884316,\n",
              "        -0.16355273, -0.17772941, -0.10159499, -0.10211183, -0.1182703 ,\n",
              "        -0.06541184, -0.03660854, -0.04378446,  0.07923089, -0.19147016,\n",
              "        -0.19172767, -0.14237338, -0.13527843, -0.14758995,  0.1461111 ,\n",
              "        -0.2670486 , -0.15413092,  0.22645041,  0.07978764, -0.08090238,\n",
              "         0.04428282, -0.25176167,  0.07684074, -0.07251205,  0.13199855,\n",
              "         0.27055913, -0.10783269, -0.06306603,  0.05786926,  0.03212513,\n",
              "         0.03801447, -0.29146525, -0.23038366, -0.14195292,  0.14158297,\n",
              "        -0.2925133 , -0.19904347, -0.11695263,  0.11806266, -0.18496612,\n",
              "        -0.2274862 , -0.11416204, -0.01366595,  0.16048144,  0.18619454,\n",
              "        -0.01466568, -0.03951069, -0.15716799, -0.22953676, -0.12161776,\n",
              "        -0.23973808, -0.23565489,  0.0117218 , -0.0927156 , -0.08480871,\n",
              "        -0.11062298, -0.04395683], dtype=float32)>,\n",
              " <tf.Variable 'dense_layer_4/kernel:0' shape=(512, 10) dtype=float32, numpy=\n",
              " array([[ 0.01411631,  0.05012085,  0.0438888 , ...,  0.0243491 ,\n",
              "         -0.13292369, -0.09685736],\n",
              "        [-0.01721412,  0.04572217, -0.10642394, ..., -0.06753393,\n",
              "          0.13826877, -0.02168545],\n",
              "        [-0.05953917,  0.0024405 ,  0.01153497, ..., -0.0401011 ,\n",
              "         -0.18391214,  0.12310894],\n",
              "        ...,\n",
              "        [-0.16809991, -0.03968472, -0.17512175, ...,  0.05443512,\n",
              "         -0.09301499,  0.01856613],\n",
              "        [-0.03417843,  0.05440647,  0.07794902, ...,  0.09689906,\n",
              "          0.05075986, -0.18640867],\n",
              "        [ 0.08518265,  0.02307371,  0.00721388, ..., -0.03205023,\n",
              "         -0.06773613,  0.00064842]], dtype=float32)>,\n",
              " <tf.Variable 'dense_layer_4/bias:0' shape=(10,) dtype=float32, numpy=\n",
              " array([ 0.09592766, -0.13867377, -0.23370434, -0.15056941, -0.12010414,\n",
              "        -0.20443673, -0.15363906, -0.19383428,  0.650366  ,  0.21646422],\n",
              "       dtype=float32)>]"
            ]
          },
          "metadata": {},
          "execution_count": 51
        }
      ]
    },
    {
      "cell_type": "code",
      "metadata": {
        "id": "V5lg_PNsi041",
        "colab": {
          "base_uri": "https://localhost:8080/"
        },
        "outputId": "50ffac3a-aaed-4c35-a65f-7350eabf3beb"
      },
      "source": [
        "model_6.get_config()"
      ],
      "execution_count": 52,
      "outputs": [
        {
          "output_type": "execute_result",
          "data": {
            "text/plain": [
              "{'name': 'sequential_4',\n",
              " 'layers': [{'class_name': 'InputLayer',\n",
              "   'config': {'batch_input_shape': (None, 784),\n",
              "    'dtype': 'float32',\n",
              "    'sparse': False,\n",
              "    'ragged': False,\n",
              "    'name': 'dense_layer_input'}},\n",
              "  {'class_name': 'Dense',\n",
              "   'config': {'name': 'dense_layer',\n",
              "    'trainable': True,\n",
              "    'dtype': 'float32',\n",
              "    'batch_input_shape': (None, 784),\n",
              "    'units': 512,\n",
              "    'activation': 'relu',\n",
              "    'use_bias': True,\n",
              "    'kernel_initializer': {'class_name': 'GlorotUniform',\n",
              "     'config': {'seed': None}},\n",
              "    'bias_initializer': {'class_name': 'Zeros', 'config': {}},\n",
              "    'kernel_regularizer': None,\n",
              "    'bias_regularizer': None,\n",
              "    'activity_regularizer': None,\n",
              "    'kernel_constraint': None,\n",
              "    'bias_constraint': None}},\n",
              "  {'class_name': 'Dropout',\n",
              "   'config': {'name': 'dropout_4',\n",
              "    'trainable': True,\n",
              "    'dtype': 'float32',\n",
              "    'rate': 0.3,\n",
              "    'noise_shape': None,\n",
              "    'seed': None}},\n",
              "  {'class_name': 'Dense',\n",
              "   'config': {'name': 'dense_layer_2',\n",
              "    'trainable': True,\n",
              "    'dtype': 'float32',\n",
              "    'units': 512,\n",
              "    'activation': 'relu',\n",
              "    'use_bias': True,\n",
              "    'kernel_initializer': {'class_name': 'GlorotUniform',\n",
              "     'config': {'seed': None}},\n",
              "    'bias_initializer': {'class_name': 'Zeros', 'config': {}},\n",
              "    'kernel_regularizer': None,\n",
              "    'bias_regularizer': None,\n",
              "    'activity_regularizer': None,\n",
              "    'kernel_constraint': None,\n",
              "    'bias_constraint': None}},\n",
              "  {'class_name': 'Dropout',\n",
              "   'config': {'name': 'dropout_5',\n",
              "    'trainable': True,\n",
              "    'dtype': 'float32',\n",
              "    'rate': 0.3,\n",
              "    'noise_shape': None,\n",
              "    'seed': None}},\n",
              "  {'class_name': 'Dense',\n",
              "   'config': {'name': 'dense_layer_3',\n",
              "    'trainable': True,\n",
              "    'dtype': 'float32',\n",
              "    'units': 512,\n",
              "    'activation': 'relu',\n",
              "    'use_bias': True,\n",
              "    'kernel_initializer': {'class_name': 'GlorotUniform',\n",
              "     'config': {'seed': None}},\n",
              "    'bias_initializer': {'class_name': 'Zeros', 'config': {}},\n",
              "    'kernel_regularizer': None,\n",
              "    'bias_regularizer': None,\n",
              "    'activity_regularizer': None,\n",
              "    'kernel_constraint': None,\n",
              "    'bias_constraint': None}},\n",
              "  {'class_name': 'Dropout',\n",
              "   'config': {'name': 'dropout_6',\n",
              "    'trainable': True,\n",
              "    'dtype': 'float32',\n",
              "    'rate': 0.3,\n",
              "    'noise_shape': None,\n",
              "    'seed': None}},\n",
              "  {'class_name': 'Dense',\n",
              "   'config': {'name': 'dense_layer_4',\n",
              "    'trainable': True,\n",
              "    'dtype': 'float32',\n",
              "    'units': 10,\n",
              "    'activation': 'softmax',\n",
              "    'use_bias': True,\n",
              "    'kernel_initializer': {'class_name': 'GlorotUniform',\n",
              "     'config': {'seed': None}},\n",
              "    'bias_initializer': {'class_name': 'Zeros', 'config': {}},\n",
              "    'kernel_regularizer': None,\n",
              "    'bias_regularizer': None,\n",
              "    'activity_regularizer': None,\n",
              "    'kernel_constraint': None,\n",
              "    'bias_constraint': None}}]}"
            ]
          },
          "metadata": {},
          "execution_count": 52
        }
      ]
    }
  ]
}